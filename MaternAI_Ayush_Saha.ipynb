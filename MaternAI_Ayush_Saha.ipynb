{
  "nbformat": 4,
  "nbformat_minor": 0,
  "metadata": {
    "colab": {
      "provenance": []
    },
    "kernelspec": {
      "name": "python3",
      "display_name": "Python 3"
    },
    "language_info": {
      "name": "python"
    },
    "widgets": {
      "application/vnd.jupyter.widget-state+json": {
        "0df8e31610fd412791c0f7044a4d7eab": {
          "model_module": "@jupyter-widgets/controls",
          "model_name": "IntTextModel",
          "model_module_version": "1.5.0",
          "state": {
            "_dom_classes": [],
            "_model_module": "@jupyter-widgets/controls",
            "_model_module_version": "1.5.0",
            "_model_name": "IntTextModel",
            "_view_count": null,
            "_view_module": "@jupyter-widgets/controls",
            "_view_module_version": "1.5.0",
            "_view_name": "IntTextView",
            "continuous_update": false,
            "description": "Age:",
            "description_tooltip": null,
            "disabled": false,
            "layout": "IPY_MODEL_fd6b784d02494cd09c25d3ce7d177e7b",
            "step": 1,
            "style": "IPY_MODEL_61e1a00fb30a430ab4a64bc083f0db85",
            "value": 25
          }
        },
        "fd6b784d02494cd09c25d3ce7d177e7b": {
          "model_module": "@jupyter-widgets/base",
          "model_name": "LayoutModel",
          "model_module_version": "1.2.0",
          "state": {
            "_model_module": "@jupyter-widgets/base",
            "_model_module_version": "1.2.0",
            "_model_name": "LayoutModel",
            "_view_count": null,
            "_view_module": "@jupyter-widgets/base",
            "_view_module_version": "1.2.0",
            "_view_name": "LayoutView",
            "align_content": null,
            "align_items": null,
            "align_self": null,
            "border": null,
            "bottom": null,
            "display": null,
            "flex": null,
            "flex_flow": null,
            "grid_area": null,
            "grid_auto_columns": null,
            "grid_auto_flow": null,
            "grid_auto_rows": null,
            "grid_column": null,
            "grid_gap": null,
            "grid_row": null,
            "grid_template_areas": null,
            "grid_template_columns": null,
            "grid_template_rows": null,
            "height": null,
            "justify_content": null,
            "justify_items": null,
            "left": null,
            "margin": null,
            "max_height": null,
            "max_width": null,
            "min_height": null,
            "min_width": null,
            "object_fit": null,
            "object_position": null,
            "order": null,
            "overflow": null,
            "overflow_x": null,
            "overflow_y": null,
            "padding": null,
            "right": null,
            "top": null,
            "visibility": null,
            "width": null
          }
        },
        "61e1a00fb30a430ab4a64bc083f0db85": {
          "model_module": "@jupyter-widgets/controls",
          "model_name": "DescriptionStyleModel",
          "model_module_version": "1.5.0",
          "state": {
            "_model_module": "@jupyter-widgets/controls",
            "_model_module_version": "1.5.0",
            "_model_name": "DescriptionStyleModel",
            "_view_count": null,
            "_view_module": "@jupyter-widgets/base",
            "_view_module_version": "1.2.0",
            "_view_name": "StyleView",
            "description_width": ""
          }
        },
        "0b3d1343d57f4f1595fbcbdb5c4083ce": {
          "model_module": "@jupyter-widgets/controls",
          "model_name": "FloatTextModel",
          "model_module_version": "1.5.0",
          "state": {
            "_dom_classes": [],
            "_model_module": "@jupyter-widgets/controls",
            "_model_module_version": "1.5.0",
            "_model_name": "FloatTextModel",
            "_view_count": null,
            "_view_module": "@jupyter-widgets/controls",
            "_view_module_version": "1.5.0",
            "_view_name": "FloatTextView",
            "continuous_update": false,
            "description": "Body Temperature(F):",
            "description_tooltip": null,
            "disabled": false,
            "layout": "IPY_MODEL_4f55dd0b71b24131a1a00bbad6edcd80",
            "step": null,
            "style": "IPY_MODEL_960fefa4fbd9492cadffca6923a882c6",
            "value": 110
          }
        },
        "4f55dd0b71b24131a1a00bbad6edcd80": {
          "model_module": "@jupyter-widgets/base",
          "model_name": "LayoutModel",
          "model_module_version": "1.2.0",
          "state": {
            "_model_module": "@jupyter-widgets/base",
            "_model_module_version": "1.2.0",
            "_model_name": "LayoutModel",
            "_view_count": null,
            "_view_module": "@jupyter-widgets/base",
            "_view_module_version": "1.2.0",
            "_view_name": "LayoutView",
            "align_content": null,
            "align_items": null,
            "align_self": null,
            "border": null,
            "bottom": null,
            "display": null,
            "flex": null,
            "flex_flow": null,
            "grid_area": null,
            "grid_auto_columns": null,
            "grid_auto_flow": null,
            "grid_auto_rows": null,
            "grid_column": null,
            "grid_gap": null,
            "grid_row": null,
            "grid_template_areas": null,
            "grid_template_columns": null,
            "grid_template_rows": null,
            "height": null,
            "justify_content": null,
            "justify_items": null,
            "left": null,
            "margin": null,
            "max_height": null,
            "max_width": null,
            "min_height": null,
            "min_width": null,
            "object_fit": null,
            "object_position": null,
            "order": null,
            "overflow": null,
            "overflow_x": null,
            "overflow_y": null,
            "padding": null,
            "right": null,
            "top": null,
            "visibility": null,
            "width": null
          }
        },
        "960fefa4fbd9492cadffca6923a882c6": {
          "model_module": "@jupyter-widgets/controls",
          "model_name": "DescriptionStyleModel",
          "model_module_version": "1.5.0",
          "state": {
            "_model_module": "@jupyter-widgets/controls",
            "_model_module_version": "1.5.0",
            "_model_name": "DescriptionStyleModel",
            "_view_count": null,
            "_view_module": "@jupyter-widgets/base",
            "_view_module_version": "1.2.0",
            "_view_name": "StyleView",
            "description_width": ""
          }
        },
        "5097bbda8d3f495f80d4121f6cb69fbc": {
          "model_module": "@jupyter-widgets/controls",
          "model_name": "IntTextModel",
          "model_module_version": "1.5.0",
          "state": {
            "_dom_classes": [],
            "_model_module": "@jupyter-widgets/controls",
            "_model_module_version": "1.5.0",
            "_model_name": "IntTextModel",
            "_view_count": null,
            "_view_module": "@jupyter-widgets/controls",
            "_view_module_version": "1.5.0",
            "_view_name": "IntTextView",
            "continuous_update": false,
            "description": "Heart Rate (bpm):",
            "description_tooltip": null,
            "disabled": false,
            "layout": "IPY_MODEL_18934ced5212416dad2f58c30c521c61",
            "step": 1,
            "style": "IPY_MODEL_c38dde7aa7cf4469a4453106dfbc81dd",
            "value": 82
          }
        },
        "18934ced5212416dad2f58c30c521c61": {
          "model_module": "@jupyter-widgets/base",
          "model_name": "LayoutModel",
          "model_module_version": "1.2.0",
          "state": {
            "_model_module": "@jupyter-widgets/base",
            "_model_module_version": "1.2.0",
            "_model_name": "LayoutModel",
            "_view_count": null,
            "_view_module": "@jupyter-widgets/base",
            "_view_module_version": "1.2.0",
            "_view_name": "LayoutView",
            "align_content": null,
            "align_items": null,
            "align_self": null,
            "border": null,
            "bottom": null,
            "display": null,
            "flex": null,
            "flex_flow": null,
            "grid_area": null,
            "grid_auto_columns": null,
            "grid_auto_flow": null,
            "grid_auto_rows": null,
            "grid_column": null,
            "grid_gap": null,
            "grid_row": null,
            "grid_template_areas": null,
            "grid_template_columns": null,
            "grid_template_rows": null,
            "height": null,
            "justify_content": null,
            "justify_items": null,
            "left": null,
            "margin": null,
            "max_height": null,
            "max_width": null,
            "min_height": null,
            "min_width": null,
            "object_fit": null,
            "object_position": null,
            "order": null,
            "overflow": null,
            "overflow_x": null,
            "overflow_y": null,
            "padding": null,
            "right": null,
            "top": null,
            "visibility": null,
            "width": null
          }
        },
        "c38dde7aa7cf4469a4453106dfbc81dd": {
          "model_module": "@jupyter-widgets/controls",
          "model_name": "DescriptionStyleModel",
          "model_module_version": "1.5.0",
          "state": {
            "_model_module": "@jupyter-widgets/controls",
            "_model_module_version": "1.5.0",
            "_model_name": "DescriptionStyleModel",
            "_view_count": null,
            "_view_module": "@jupyter-widgets/base",
            "_view_module_version": "1.2.0",
            "_view_name": "StyleView",
            "description_width": ""
          }
        },
        "3250c51dcc804529b46aba5d9249f620": {
          "model_module": "@jupyter-widgets/controls",
          "model_name": "IntTextModel",
          "model_module_version": "1.5.0",
          "state": {
            "_dom_classes": [],
            "_model_module": "@jupyter-widgets/controls",
            "_model_module_version": "1.5.0",
            "_model_name": "IntTextModel",
            "_view_count": null,
            "_view_module": "@jupyter-widgets/controls",
            "_view_module_version": "1.5.0",
            "_view_name": "IntTextView",
            "continuous_update": false,
            "description": "Systolic BP (mm Hg):",
            "description_tooltip": null,
            "disabled": false,
            "layout": "IPY_MODEL_f34b75038bb14427bbf05fb2141b7eeb",
            "step": 1,
            "style": "IPY_MODEL_f16bcbc0073344ed9e8377fb54eff757",
            "value": 125
          }
        },
        "f34b75038bb14427bbf05fb2141b7eeb": {
          "model_module": "@jupyter-widgets/base",
          "model_name": "LayoutModel",
          "model_module_version": "1.2.0",
          "state": {
            "_model_module": "@jupyter-widgets/base",
            "_model_module_version": "1.2.0",
            "_model_name": "LayoutModel",
            "_view_count": null,
            "_view_module": "@jupyter-widgets/base",
            "_view_module_version": "1.2.0",
            "_view_name": "LayoutView",
            "align_content": null,
            "align_items": null,
            "align_self": null,
            "border": null,
            "bottom": null,
            "display": null,
            "flex": null,
            "flex_flow": null,
            "grid_area": null,
            "grid_auto_columns": null,
            "grid_auto_flow": null,
            "grid_auto_rows": null,
            "grid_column": null,
            "grid_gap": null,
            "grid_row": null,
            "grid_template_areas": null,
            "grid_template_columns": null,
            "grid_template_rows": null,
            "height": null,
            "justify_content": null,
            "justify_items": null,
            "left": null,
            "margin": null,
            "max_height": null,
            "max_width": null,
            "min_height": null,
            "min_width": null,
            "object_fit": null,
            "object_position": null,
            "order": null,
            "overflow": null,
            "overflow_x": null,
            "overflow_y": null,
            "padding": null,
            "right": null,
            "top": null,
            "visibility": null,
            "width": null
          }
        },
        "f16bcbc0073344ed9e8377fb54eff757": {
          "model_module": "@jupyter-widgets/controls",
          "model_name": "DescriptionStyleModel",
          "model_module_version": "1.5.0",
          "state": {
            "_model_module": "@jupyter-widgets/controls",
            "_model_module_version": "1.5.0",
            "_model_name": "DescriptionStyleModel",
            "_view_count": null,
            "_view_module": "@jupyter-widgets/base",
            "_view_module_version": "1.2.0",
            "_view_name": "StyleView",
            "description_width": ""
          }
        },
        "12489caebd3b4b6ab6e8eabecdf68366": {
          "model_module": "@jupyter-widgets/controls",
          "model_name": "IntTextModel",
          "model_module_version": "1.5.0",
          "state": {
            "_dom_classes": [],
            "_model_module": "@jupyter-widgets/controls",
            "_model_module_version": "1.5.0",
            "_model_name": "IntTextModel",
            "_view_count": null,
            "_view_module": "@jupyter-widgets/controls",
            "_view_module_version": "1.5.0",
            "_view_name": "IntTextView",
            "continuous_update": false,
            "description": "Diastolic BP (mm Hg):",
            "description_tooltip": null,
            "disabled": false,
            "layout": "IPY_MODEL_6461403dda144277ada489e8ebd05b8d",
            "step": 1,
            "style": "IPY_MODEL_a1bb2d0388ff4cefbf918a83acb7b8d8",
            "value": 85
          }
        },
        "6461403dda144277ada489e8ebd05b8d": {
          "model_module": "@jupyter-widgets/base",
          "model_name": "LayoutModel",
          "model_module_version": "1.2.0",
          "state": {
            "_model_module": "@jupyter-widgets/base",
            "_model_module_version": "1.2.0",
            "_model_name": "LayoutModel",
            "_view_count": null,
            "_view_module": "@jupyter-widgets/base",
            "_view_module_version": "1.2.0",
            "_view_name": "LayoutView",
            "align_content": null,
            "align_items": null,
            "align_self": null,
            "border": null,
            "bottom": null,
            "display": null,
            "flex": null,
            "flex_flow": null,
            "grid_area": null,
            "grid_auto_columns": null,
            "grid_auto_flow": null,
            "grid_auto_rows": null,
            "grid_column": null,
            "grid_gap": null,
            "grid_row": null,
            "grid_template_areas": null,
            "grid_template_columns": null,
            "grid_template_rows": null,
            "height": null,
            "justify_content": null,
            "justify_items": null,
            "left": null,
            "margin": null,
            "max_height": null,
            "max_width": null,
            "min_height": null,
            "min_width": null,
            "object_fit": null,
            "object_position": null,
            "order": null,
            "overflow": null,
            "overflow_x": null,
            "overflow_y": null,
            "padding": null,
            "right": null,
            "top": null,
            "visibility": null,
            "width": null
          }
        },
        "a1bb2d0388ff4cefbf918a83acb7b8d8": {
          "model_module": "@jupyter-widgets/controls",
          "model_name": "DescriptionStyleModel",
          "model_module_version": "1.5.0",
          "state": {
            "_model_module": "@jupyter-widgets/controls",
            "_model_module_version": "1.5.0",
            "_model_name": "DescriptionStyleModel",
            "_view_count": null,
            "_view_module": "@jupyter-widgets/base",
            "_view_module_version": "1.2.0",
            "_view_name": "StyleView",
            "description_width": ""
          }
        },
        "1238368ccd7543098c65db9b5201946a": {
          "model_module": "@jupyter-widgets/controls",
          "model_name": "FloatTextModel",
          "model_module_version": "1.5.0",
          "state": {
            "_dom_classes": [],
            "_model_module": "@jupyter-widgets/controls",
            "_model_module_version": "1.5.0",
            "_model_name": "FloatTextModel",
            "_view_count": null,
            "_view_module": "@jupyter-widgets/controls",
            "_view_module_version": "1.5.0",
            "_view_name": "FloatTextView",
            "continuous_update": false,
            "description": "BMI (kg/m^2):",
            "description_tooltip": null,
            "disabled": false,
            "layout": "IPY_MODEL_f10a552597eb4f38b64f448cc4d3a486",
            "step": null,
            "style": "IPY_MODEL_fc10dd681225413c9cbb2eae86c63299",
            "value": 20.4
          }
        },
        "f10a552597eb4f38b64f448cc4d3a486": {
          "model_module": "@jupyter-widgets/base",
          "model_name": "LayoutModel",
          "model_module_version": "1.2.0",
          "state": {
            "_model_module": "@jupyter-widgets/base",
            "_model_module_version": "1.2.0",
            "_model_name": "LayoutModel",
            "_view_count": null,
            "_view_module": "@jupyter-widgets/base",
            "_view_module_version": "1.2.0",
            "_view_name": "LayoutView",
            "align_content": null,
            "align_items": null,
            "align_self": null,
            "border": null,
            "bottom": null,
            "display": null,
            "flex": null,
            "flex_flow": null,
            "grid_area": null,
            "grid_auto_columns": null,
            "grid_auto_flow": null,
            "grid_auto_rows": null,
            "grid_column": null,
            "grid_gap": null,
            "grid_row": null,
            "grid_template_areas": null,
            "grid_template_columns": null,
            "grid_template_rows": null,
            "height": null,
            "justify_content": null,
            "justify_items": null,
            "left": null,
            "margin": null,
            "max_height": null,
            "max_width": null,
            "min_height": null,
            "min_width": null,
            "object_fit": null,
            "object_position": null,
            "order": null,
            "overflow": null,
            "overflow_x": null,
            "overflow_y": null,
            "padding": null,
            "right": null,
            "top": null,
            "visibility": null,
            "width": null
          }
        },
        "fc10dd681225413c9cbb2eae86c63299": {
          "model_module": "@jupyter-widgets/controls",
          "model_name": "DescriptionStyleModel",
          "model_module_version": "1.5.0",
          "state": {
            "_model_module": "@jupyter-widgets/controls",
            "_model_module_version": "1.5.0",
            "_model_name": "DescriptionStyleModel",
            "_view_count": null,
            "_view_module": "@jupyter-widgets/base",
            "_view_module_version": "1.2.0",
            "_view_name": "StyleView",
            "description_width": ""
          }
        },
        "62b2c8471b6f477d9fa2accf5359feaf": {
          "model_module": "@jupyter-widgets/controls",
          "model_name": "FloatTextModel",
          "model_module_version": "1.5.0",
          "state": {
            "_dom_classes": [],
            "_model_module": "@jupyter-widgets/controls",
            "_model_module_version": "1.5.0",
            "_model_name": "FloatTextModel",
            "_view_count": null,
            "_view_module": "@jupyter-widgets/controls",
            "_view_module_version": "1.5.0",
            "_view_name": "FloatTextView",
            "continuous_update": false,
            "description": "Blood Glucose (HbA1c):",
            "description_tooltip": null,
            "disabled": false,
            "layout": "IPY_MODEL_4889f750a8eb4ec9800e131267919730",
            "step": null,
            "style": "IPY_MODEL_52658bf4e63a4a479a0562a205f7d00d",
            "value": 38
          }
        },
        "4889f750a8eb4ec9800e131267919730": {
          "model_module": "@jupyter-widgets/base",
          "model_name": "LayoutModel",
          "model_module_version": "1.2.0",
          "state": {
            "_model_module": "@jupyter-widgets/base",
            "_model_module_version": "1.2.0",
            "_model_name": "LayoutModel",
            "_view_count": null,
            "_view_module": "@jupyter-widgets/base",
            "_view_module_version": "1.2.0",
            "_view_name": "LayoutView",
            "align_content": null,
            "align_items": null,
            "align_self": null,
            "border": null,
            "bottom": null,
            "display": null,
            "flex": null,
            "flex_flow": null,
            "grid_area": null,
            "grid_auto_columns": null,
            "grid_auto_flow": null,
            "grid_auto_rows": null,
            "grid_column": null,
            "grid_gap": null,
            "grid_row": null,
            "grid_template_areas": null,
            "grid_template_columns": null,
            "grid_template_rows": null,
            "height": null,
            "justify_content": null,
            "justify_items": null,
            "left": null,
            "margin": null,
            "max_height": null,
            "max_width": null,
            "min_height": null,
            "min_width": null,
            "object_fit": null,
            "object_position": null,
            "order": null,
            "overflow": null,
            "overflow_x": null,
            "overflow_y": null,
            "padding": null,
            "right": null,
            "top": null,
            "visibility": null,
            "width": null
          }
        },
        "52658bf4e63a4a479a0562a205f7d00d": {
          "model_module": "@jupyter-widgets/controls",
          "model_name": "DescriptionStyleModel",
          "model_module_version": "1.5.0",
          "state": {
            "_model_module": "@jupyter-widgets/controls",
            "_model_module_version": "1.5.0",
            "_model_name": "DescriptionStyleModel",
            "_view_count": null,
            "_view_module": "@jupyter-widgets/base",
            "_view_module_version": "1.2.0",
            "_view_name": "StyleView",
            "description_width": ""
          }
        },
        "94235a76942c4f3c81a61da427c83fa1": {
          "model_module": "@jupyter-widgets/controls",
          "model_name": "FloatTextModel",
          "model_module_version": "1.5.0",
          "state": {
            "_dom_classes": [],
            "_model_module": "@jupyter-widgets/controls",
            "_model_module_version": "1.5.0",
            "_model_name": "FloatTextModel",
            "_view_count": null,
            "_view_module": "@jupyter-widgets/controls",
            "_view_module_version": "1.5.0",
            "_view_name": "FloatTextView",
            "continuous_update": false,
            "description": "Blood Glucose(Fasting hour-mg/dl):",
            "description_tooltip": null,
            "disabled": false,
            "layout": "IPY_MODEL_c026160848b14a3182a9a197ab3da3f9",
            "step": null,
            "style": "IPY_MODEL_56422258d5ad4d91b3209a4a144c03f3",
            "value": 5.5
          }
        },
        "c026160848b14a3182a9a197ab3da3f9": {
          "model_module": "@jupyter-widgets/base",
          "model_name": "LayoutModel",
          "model_module_version": "1.2.0",
          "state": {
            "_model_module": "@jupyter-widgets/base",
            "_model_module_version": "1.2.0",
            "_model_name": "LayoutModel",
            "_view_count": null,
            "_view_module": "@jupyter-widgets/base",
            "_view_module_version": "1.2.0",
            "_view_name": "LayoutView",
            "align_content": null,
            "align_items": null,
            "align_self": null,
            "border": null,
            "bottom": null,
            "display": null,
            "flex": null,
            "flex_flow": null,
            "grid_area": null,
            "grid_auto_columns": null,
            "grid_auto_flow": null,
            "grid_auto_rows": null,
            "grid_column": null,
            "grid_gap": null,
            "grid_row": null,
            "grid_template_areas": null,
            "grid_template_columns": null,
            "grid_template_rows": null,
            "height": null,
            "justify_content": null,
            "justify_items": null,
            "left": null,
            "margin": null,
            "max_height": null,
            "max_width": null,
            "min_height": null,
            "min_width": null,
            "object_fit": null,
            "object_position": null,
            "order": null,
            "overflow": null,
            "overflow_x": null,
            "overflow_y": null,
            "padding": null,
            "right": null,
            "top": null,
            "visibility": null,
            "width": null
          }
        },
        "56422258d5ad4d91b3209a4a144c03f3": {
          "model_module": "@jupyter-widgets/controls",
          "model_name": "DescriptionStyleModel",
          "model_module_version": "1.5.0",
          "state": {
            "_model_module": "@jupyter-widgets/controls",
            "_model_module_version": "1.5.0",
            "_model_name": "DescriptionStyleModel",
            "_view_count": null,
            "_view_module": "@jupyter-widgets/base",
            "_view_module_version": "1.2.0",
            "_view_name": "StyleView",
            "description_width": ""
          }
        },
        "83692c80de754ddd86a0be1dd4af8541": {
          "model_module": "@jupyter-widgets/controls",
          "model_name": "ButtonModel",
          "model_module_version": "1.5.0",
          "state": {
            "_dom_classes": [],
            "_model_module": "@jupyter-widgets/controls",
            "_model_module_version": "1.5.0",
            "_model_name": "ButtonModel",
            "_view_count": null,
            "_view_module": "@jupyter-widgets/controls",
            "_view_module_version": "1.5.0",
            "_view_name": "ButtonView",
            "button_style": "",
            "description": "Predict Risk",
            "disabled": false,
            "icon": "",
            "layout": "IPY_MODEL_21492b0ab0e64135b786f5d1d24b535b",
            "style": "IPY_MODEL_1ea91c6cc8bf4564b9936b176aaa81e3",
            "tooltip": ""
          }
        },
        "21492b0ab0e64135b786f5d1d24b535b": {
          "model_module": "@jupyter-widgets/base",
          "model_name": "LayoutModel",
          "model_module_version": "1.2.0",
          "state": {
            "_model_module": "@jupyter-widgets/base",
            "_model_module_version": "1.2.0",
            "_model_name": "LayoutModel",
            "_view_count": null,
            "_view_module": "@jupyter-widgets/base",
            "_view_module_version": "1.2.0",
            "_view_name": "LayoutView",
            "align_content": null,
            "align_items": null,
            "align_self": null,
            "border": null,
            "bottom": null,
            "display": null,
            "flex": null,
            "flex_flow": null,
            "grid_area": null,
            "grid_auto_columns": null,
            "grid_auto_flow": null,
            "grid_auto_rows": null,
            "grid_column": null,
            "grid_gap": null,
            "grid_row": null,
            "grid_template_areas": null,
            "grid_template_columns": null,
            "grid_template_rows": null,
            "height": null,
            "justify_content": null,
            "justify_items": null,
            "left": null,
            "margin": null,
            "max_height": null,
            "max_width": null,
            "min_height": null,
            "min_width": null,
            "object_fit": null,
            "object_position": null,
            "order": null,
            "overflow": null,
            "overflow_x": null,
            "overflow_y": null,
            "padding": null,
            "right": null,
            "top": null,
            "visibility": null,
            "width": null
          }
        },
        "1ea91c6cc8bf4564b9936b176aaa81e3": {
          "model_module": "@jupyter-widgets/controls",
          "model_name": "ButtonStyleModel",
          "model_module_version": "1.5.0",
          "state": {
            "_model_module": "@jupyter-widgets/controls",
            "_model_module_version": "1.5.0",
            "_model_name": "ButtonStyleModel",
            "_view_count": null,
            "_view_module": "@jupyter-widgets/base",
            "_view_module_version": "1.2.0",
            "_view_name": "StyleView",
            "button_color": null,
            "font_weight": ""
          }
        }
      }
    }
  },
  "cells": [
    {
      "cell_type": "code",
      "execution_count": null,
      "metadata": {
        "colab": {
          "base_uri": "https://localhost:8080/"
        },
        "id": "Sb-TpqcYaJbP",
        "outputId": "b622b782-0efb-4db0-9488-2397c57b7498"
      },
      "outputs": [
        {
          "output_type": "stream",
          "name": "stdout",
          "text": [
            "cp: cannot stat 'kaggle.json': No such file or directory\n",
            "Dataset URL: https://www.kaggle.com/datasets/mmhossain/pregnancy-risk-factor-data\n",
            "License(s): unknown\n",
            "Downloading pregnancy-risk-factor-data.zip to /content\n",
            "  0% 0.00/108k [00:00<?, ?B/s]\n",
            "100% 108k/108k [00:00<00:00, 50.4MB/s]\n"
          ]
        }
      ],
      "source": [
        "#import the dataset\n",
        "import zipfile\n",
        "!mkdir -p ~/.kaggle\n",
        "!cp kaggle.json ~/.kaggle/\n",
        "!kaggle datasets download -d mmhossain/pregnancy-risk-factor-data\n",
        "zf=zipfile.ZipFile(\"/content/pregnancy-risk-factor-data.zip\",'r')\n",
        "zf.extractall(\"/content\")\n",
        "zf.close()"
      ]
    },
    {
      "cell_type": "code",
      "source": [
        "# import the necessary libraries\n",
        "import pandas as pd\n",
        "import numpy as np\n",
        "import seaborn as sns\n",
        "import matplotlib.pyplot as plt\n",
        "from sklearn.model_selection import train_test_split, GridSearchCV\n",
        "from sklearn.ensemble import RandomForestClassifier\n",
        "from sklearn.metrics import classification_report, confusion_matrix"
      ],
      "metadata": {
        "id": "cs0Q6OGraP8d"
      },
      "execution_count": null,
      "outputs": []
    },
    {
      "cell_type": "code",
      "source": [
        "# Load dataset\n",
        "data = pd.read_csv('/content/pregnancy risk prediction data set.csv', encoding='latin1') # or 'ISO-8859-1'\n",
        "\n",
        "# Check for missing values\n",
        "missing_values = data.isnull().sum()\n",
        "print(missing_values[missing_values > 0])\n",
        "print(missing_values)"
      ],
      "metadata": {
        "colab": {
          "base_uri": "https://localhost:8080/"
        },
        "id": "uXxOz4vraXdK",
        "outputId": "8d4bae57-93d3-47d7-fb76-5d2a9b45023b"
      },
      "execution_count": null,
      "outputs": [
        {
          "output_type": "stream",
          "name": "stdout",
          "text": [
            "Series([], dtype: int64)\n",
            "Patient ID                           0\n",
            "Name                                 0\n",
            "Age                                  0\n",
            "Body Temperature(F)                  0\n",
            "Heart rate(bpm)                      0\n",
            "Systolic Blood Pressure(mm Hg)       0\n",
            "Diastolic Blood Pressure(mm Hg)      0\n",
            "BMI(kg/m 2)                          0\n",
            "Blood Glucose(HbA1c)                 0\n",
            "Blood Glucose(Fasting hour-mg/dl)    0\n",
            "Outcome                              0\n",
            "dtype: int64\n"
          ]
        }
      ]
    },
    {
      "cell_type": "code",
      "source": [
        "# check for duplicate values\n",
        "duplicates = data.duplicated().sum()\n",
        "print(f\"Number of duplicate rows: {duplicates}\")"
      ],
      "metadata": {
        "colab": {
          "base_uri": "https://localhost:8080/"
        },
        "id": "Ug8uBx3wadE9",
        "outputId": "69182e3a-a2a9-4550-fe10-c700d6f2999d"
      },
      "execution_count": null,
      "outputs": [
        {
          "output_type": "stream",
          "name": "stdout",
          "text": [
            "Number of duplicate rows: 0\n"
          ]
        }
      ]
    },
    {
      "cell_type": "code",
      "source": [
        "# print the dataframe\n",
        "data.head()"
      ],
      "metadata": {
        "colab": {
          "base_uri": "https://localhost:8080/",
          "height": 278
        },
        "id": "5F70SQQNalSE",
        "outputId": "b382d8d5-2843-4e16-8dae-b60c787c25e7"
      },
      "execution_count": null,
      "outputs": [
        {
          "output_type": "execute_result",
          "data": {
            "text/plain": [
              "   Patient ID       Name  Age  Body Temperature(F)   Heart rate(bpm)  \\\n",
              "0     1994601     Moulya   20                  97.5               91   \n",
              "1     2001562       Soni   45                  97.7               99   \n",
              "2     2002530   Baishali   29                  98.6               84   \n",
              "3     2002114  Abhilasha   26                  99.5              135   \n",
              "4     2002058     Aanaya   38                 102.5               51   \n",
              "\n",
              "   Systolic Blood Pressure(mm Hg)  Diastolic Blood Pressure(mm Hg)  \\\n",
              "0                             161                              100   \n",
              "1                              99                               94   \n",
              "2                             129                               87   \n",
              "3                             161                              101   \n",
              "4                             106                               91   \n",
              "\n",
              "   BMI(kg/m 2)  Blood Glucose(HbA1c)  Blood Glucose(Fasting hour-mg/dl)  \\\n",
              "0         24.9                    41                                5.8   \n",
              "1         22.1                    36                                5.7   \n",
              "2         19.0                    42                                6.4   \n",
              "3         23.7                    46                                4.5   \n",
              "4         18.8                    38                                4.3   \n",
              "\n",
              "     Outcome  \n",
              "0  high risk  \n",
              "1  high risk  \n",
              "2   mid risk  \n",
              "3  high risk  \n",
              "4  high risk  "
            ],
            "text/html": [
              "\n",
              "  <div id=\"df-3a291442-b0d7-42f0-9527-6bd18df0d3e7\" class=\"colab-df-container\">\n",
              "    <div>\n",
              "<style scoped>\n",
              "    .dataframe tbody tr th:only-of-type {\n",
              "        vertical-align: middle;\n",
              "    }\n",
              "\n",
              "    .dataframe tbody tr th {\n",
              "        vertical-align: top;\n",
              "    }\n",
              "\n",
              "    .dataframe thead th {\n",
              "        text-align: right;\n",
              "    }\n",
              "</style>\n",
              "<table border=\"1\" class=\"dataframe\">\n",
              "  <thead>\n",
              "    <tr style=\"text-align: right;\">\n",
              "      <th></th>\n",
              "      <th>Patient ID</th>\n",
              "      <th>Name</th>\n",
              "      <th>Age</th>\n",
              "      <th>Body Temperature(F)</th>\n",
              "      <th>Heart rate(bpm)</th>\n",
              "      <th>Systolic Blood Pressure(mm Hg)</th>\n",
              "      <th>Diastolic Blood Pressure(mm Hg)</th>\n",
              "      <th>BMI(kg/m 2)</th>\n",
              "      <th>Blood Glucose(HbA1c)</th>\n",
              "      <th>Blood Glucose(Fasting hour-mg/dl)</th>\n",
              "      <th>Outcome</th>\n",
              "    </tr>\n",
              "  </thead>\n",
              "  <tbody>\n",
              "    <tr>\n",
              "      <th>0</th>\n",
              "      <td>1994601</td>\n",
              "      <td>Moulya</td>\n",
              "      <td>20</td>\n",
              "      <td>97.5</td>\n",
              "      <td>91</td>\n",
              "      <td>161</td>\n",
              "      <td>100</td>\n",
              "      <td>24.9</td>\n",
              "      <td>41</td>\n",
              "      <td>5.8</td>\n",
              "      <td>high risk</td>\n",
              "    </tr>\n",
              "    <tr>\n",
              "      <th>1</th>\n",
              "      <td>2001562</td>\n",
              "      <td>Soni</td>\n",
              "      <td>45</td>\n",
              "      <td>97.7</td>\n",
              "      <td>99</td>\n",
              "      <td>99</td>\n",
              "      <td>94</td>\n",
              "      <td>22.1</td>\n",
              "      <td>36</td>\n",
              "      <td>5.7</td>\n",
              "      <td>high risk</td>\n",
              "    </tr>\n",
              "    <tr>\n",
              "      <th>2</th>\n",
              "      <td>2002530</td>\n",
              "      <td>Baishali</td>\n",
              "      <td>29</td>\n",
              "      <td>98.6</td>\n",
              "      <td>84</td>\n",
              "      <td>129</td>\n",
              "      <td>87</td>\n",
              "      <td>19.0</td>\n",
              "      <td>42</td>\n",
              "      <td>6.4</td>\n",
              "      <td>mid risk</td>\n",
              "    </tr>\n",
              "    <tr>\n",
              "      <th>3</th>\n",
              "      <td>2002114</td>\n",
              "      <td>Abhilasha</td>\n",
              "      <td>26</td>\n",
              "      <td>99.5</td>\n",
              "      <td>135</td>\n",
              "      <td>161</td>\n",
              "      <td>101</td>\n",
              "      <td>23.7</td>\n",
              "      <td>46</td>\n",
              "      <td>4.5</td>\n",
              "      <td>high risk</td>\n",
              "    </tr>\n",
              "    <tr>\n",
              "      <th>4</th>\n",
              "      <td>2002058</td>\n",
              "      <td>Aanaya</td>\n",
              "      <td>38</td>\n",
              "      <td>102.5</td>\n",
              "      <td>51</td>\n",
              "      <td>106</td>\n",
              "      <td>91</td>\n",
              "      <td>18.8</td>\n",
              "      <td>38</td>\n",
              "      <td>4.3</td>\n",
              "      <td>high risk</td>\n",
              "    </tr>\n",
              "  </tbody>\n",
              "</table>\n",
              "</div>\n",
              "    <div class=\"colab-df-buttons\">\n",
              "\n",
              "  <div class=\"colab-df-container\">\n",
              "    <button class=\"colab-df-convert\" onclick=\"convertToInteractive('df-3a291442-b0d7-42f0-9527-6bd18df0d3e7')\"\n",
              "            title=\"Convert this dataframe to an interactive table.\"\n",
              "            style=\"display:none;\">\n",
              "\n",
              "  <svg xmlns=\"http://www.w3.org/2000/svg\" height=\"24px\" viewBox=\"0 -960 960 960\">\n",
              "    <path d=\"M120-120v-720h720v720H120Zm60-500h600v-160H180v160Zm220 220h160v-160H400v160Zm0 220h160v-160H400v160ZM180-400h160v-160H180v160Zm440 0h160v-160H620v160ZM180-180h160v-160H180v160Zm440 0h160v-160H620v160Z\"/>\n",
              "  </svg>\n",
              "    </button>\n",
              "\n",
              "  <style>\n",
              "    .colab-df-container {\n",
              "      display:flex;\n",
              "      gap: 12px;\n",
              "    }\n",
              "\n",
              "    .colab-df-convert {\n",
              "      background-color: #E8F0FE;\n",
              "      border: none;\n",
              "      border-radius: 50%;\n",
              "      cursor: pointer;\n",
              "      display: none;\n",
              "      fill: #1967D2;\n",
              "      height: 32px;\n",
              "      padding: 0 0 0 0;\n",
              "      width: 32px;\n",
              "    }\n",
              "\n",
              "    .colab-df-convert:hover {\n",
              "      background-color: #E2EBFA;\n",
              "      box-shadow: 0px 1px 2px rgba(60, 64, 67, 0.3), 0px 1px 3px 1px rgba(60, 64, 67, 0.15);\n",
              "      fill: #174EA6;\n",
              "    }\n",
              "\n",
              "    .colab-df-buttons div {\n",
              "      margin-bottom: 4px;\n",
              "    }\n",
              "\n",
              "    [theme=dark] .colab-df-convert {\n",
              "      background-color: #3B4455;\n",
              "      fill: #D2E3FC;\n",
              "    }\n",
              "\n",
              "    [theme=dark] .colab-df-convert:hover {\n",
              "      background-color: #434B5C;\n",
              "      box-shadow: 0px 1px 3px 1px rgba(0, 0, 0, 0.15);\n",
              "      filter: drop-shadow(0px 1px 2px rgba(0, 0, 0, 0.3));\n",
              "      fill: #FFFFFF;\n",
              "    }\n",
              "  </style>\n",
              "\n",
              "    <script>\n",
              "      const buttonEl =\n",
              "        document.querySelector('#df-3a291442-b0d7-42f0-9527-6bd18df0d3e7 button.colab-df-convert');\n",
              "      buttonEl.style.display =\n",
              "        google.colab.kernel.accessAllowed ? 'block' : 'none';\n",
              "\n",
              "      async function convertToInteractive(key) {\n",
              "        const element = document.querySelector('#df-3a291442-b0d7-42f0-9527-6bd18df0d3e7');\n",
              "        const dataTable =\n",
              "          await google.colab.kernel.invokeFunction('convertToInteractive',\n",
              "                                                    [key], {});\n",
              "        if (!dataTable) return;\n",
              "\n",
              "        const docLinkHtml = 'Like what you see? Visit the ' +\n",
              "          '<a target=\"_blank\" href=https://colab.research.google.com/notebooks/data_table.ipynb>data table notebook</a>'\n",
              "          + ' to learn more about interactive tables.';\n",
              "        element.innerHTML = '';\n",
              "        dataTable['output_type'] = 'display_data';\n",
              "        await google.colab.output.renderOutput(dataTable, element);\n",
              "        const docLink = document.createElement('div');\n",
              "        docLink.innerHTML = docLinkHtml;\n",
              "        element.appendChild(docLink);\n",
              "      }\n",
              "    </script>\n",
              "  </div>\n",
              "\n",
              "\n",
              "<div id=\"df-05cbe7ff-5335-4492-80bf-7639ae6daca2\">\n",
              "  <button class=\"colab-df-quickchart\" onclick=\"quickchart('df-05cbe7ff-5335-4492-80bf-7639ae6daca2')\"\n",
              "            title=\"Suggest charts\"\n",
              "            style=\"display:none;\">\n",
              "\n",
              "<svg xmlns=\"http://www.w3.org/2000/svg\" height=\"24px\"viewBox=\"0 0 24 24\"\n",
              "     width=\"24px\">\n",
              "    <g>\n",
              "        <path d=\"M19 3H5c-1.1 0-2 .9-2 2v14c0 1.1.9 2 2 2h14c1.1 0 2-.9 2-2V5c0-1.1-.9-2-2-2zM9 17H7v-7h2v7zm4 0h-2V7h2v10zm4 0h-2v-4h2v4z\"/>\n",
              "    </g>\n",
              "</svg>\n",
              "  </button>\n",
              "\n",
              "<style>\n",
              "  .colab-df-quickchart {\n",
              "      --bg-color: #E8F0FE;\n",
              "      --fill-color: #1967D2;\n",
              "      --hover-bg-color: #E2EBFA;\n",
              "      --hover-fill-color: #174EA6;\n",
              "      --disabled-fill-color: #AAA;\n",
              "      --disabled-bg-color: #DDD;\n",
              "  }\n",
              "\n",
              "  [theme=dark] .colab-df-quickchart {\n",
              "      --bg-color: #3B4455;\n",
              "      --fill-color: #D2E3FC;\n",
              "      --hover-bg-color: #434B5C;\n",
              "      --hover-fill-color: #FFFFFF;\n",
              "      --disabled-bg-color: #3B4455;\n",
              "      --disabled-fill-color: #666;\n",
              "  }\n",
              "\n",
              "  .colab-df-quickchart {\n",
              "    background-color: var(--bg-color);\n",
              "    border: none;\n",
              "    border-radius: 50%;\n",
              "    cursor: pointer;\n",
              "    display: none;\n",
              "    fill: var(--fill-color);\n",
              "    height: 32px;\n",
              "    padding: 0;\n",
              "    width: 32px;\n",
              "  }\n",
              "\n",
              "  .colab-df-quickchart:hover {\n",
              "    background-color: var(--hover-bg-color);\n",
              "    box-shadow: 0 1px 2px rgba(60, 64, 67, 0.3), 0 1px 3px 1px rgba(60, 64, 67, 0.15);\n",
              "    fill: var(--button-hover-fill-color);\n",
              "  }\n",
              "\n",
              "  .colab-df-quickchart-complete:disabled,\n",
              "  .colab-df-quickchart-complete:disabled:hover {\n",
              "    background-color: var(--disabled-bg-color);\n",
              "    fill: var(--disabled-fill-color);\n",
              "    box-shadow: none;\n",
              "  }\n",
              "\n",
              "  .colab-df-spinner {\n",
              "    border: 2px solid var(--fill-color);\n",
              "    border-color: transparent;\n",
              "    border-bottom-color: var(--fill-color);\n",
              "    animation:\n",
              "      spin 1s steps(1) infinite;\n",
              "  }\n",
              "\n",
              "  @keyframes spin {\n",
              "    0% {\n",
              "      border-color: transparent;\n",
              "      border-bottom-color: var(--fill-color);\n",
              "      border-left-color: var(--fill-color);\n",
              "    }\n",
              "    20% {\n",
              "      border-color: transparent;\n",
              "      border-left-color: var(--fill-color);\n",
              "      border-top-color: var(--fill-color);\n",
              "    }\n",
              "    30% {\n",
              "      border-color: transparent;\n",
              "      border-left-color: var(--fill-color);\n",
              "      border-top-color: var(--fill-color);\n",
              "      border-right-color: var(--fill-color);\n",
              "    }\n",
              "    40% {\n",
              "      border-color: transparent;\n",
              "      border-right-color: var(--fill-color);\n",
              "      border-top-color: var(--fill-color);\n",
              "    }\n",
              "    60% {\n",
              "      border-color: transparent;\n",
              "      border-right-color: var(--fill-color);\n",
              "    }\n",
              "    80% {\n",
              "      border-color: transparent;\n",
              "      border-right-color: var(--fill-color);\n",
              "      border-bottom-color: var(--fill-color);\n",
              "    }\n",
              "    90% {\n",
              "      border-color: transparent;\n",
              "      border-bottom-color: var(--fill-color);\n",
              "    }\n",
              "  }\n",
              "</style>\n",
              "\n",
              "  <script>\n",
              "    async function quickchart(key) {\n",
              "      const quickchartButtonEl =\n",
              "        document.querySelector('#' + key + ' button');\n",
              "      quickchartButtonEl.disabled = true;  // To prevent multiple clicks.\n",
              "      quickchartButtonEl.classList.add('colab-df-spinner');\n",
              "      try {\n",
              "        const charts = await google.colab.kernel.invokeFunction(\n",
              "            'suggestCharts', [key], {});\n",
              "      } catch (error) {\n",
              "        console.error('Error during call to suggestCharts:', error);\n",
              "      }\n",
              "      quickchartButtonEl.classList.remove('colab-df-spinner');\n",
              "      quickchartButtonEl.classList.add('colab-df-quickchart-complete');\n",
              "    }\n",
              "    (() => {\n",
              "      let quickchartButtonEl =\n",
              "        document.querySelector('#df-05cbe7ff-5335-4492-80bf-7639ae6daca2 button');\n",
              "      quickchartButtonEl.style.display =\n",
              "        google.colab.kernel.accessAllowed ? 'block' : 'none';\n",
              "    })();\n",
              "  </script>\n",
              "</div>\n",
              "\n",
              "    </div>\n",
              "  </div>\n"
            ],
            "application/vnd.google.colaboratory.intrinsic+json": {
              "type": "dataframe",
              "variable_name": "data",
              "summary": "{\n  \"name\": \"data\",\n  \"rows\": 6103,\n  \"fields\": [\n    {\n      \"column\": \"Patient ID\",\n      \"properties\": {\n        \"dtype\": \"number\",\n        \"std\": 6604,\n        \"min\": 1993365,\n        \"max\": 2013179,\n        \"num_unique_values\": 6103,\n        \"samples\": [\n          2001630,\n          2011843,\n          2011793\n        ],\n        \"semantic_type\": \"\",\n        \"description\": \"\"\n      }\n    },\n    {\n      \"column\": \"Name\",\n      \"properties\": {\n        \"dtype\": \"string\",\n        \"num_unique_values\": 5797,\n        \"samples\": [\n          \"Sriksha\",\n          \"Sharmista\",\n          \"Jainel\"\n        ],\n        \"semantic_type\": \"\",\n        \"description\": \"\"\n      }\n    },\n    {\n      \"column\": \"Age\",\n      \"properties\": {\n        \"dtype\": \"number\",\n        \"std\": 6,\n        \"min\": 15,\n        \"max\": 250,\n        \"num_unique_values\": 35,\n        \"samples\": [\n          43,\n          33,\n          40\n        ],\n        \"semantic_type\": \"\",\n        \"description\": \"\"\n      }\n    },\n    {\n      \"column\": \"Body Temperature(F) \",\n      \"properties\": {\n        \"dtype\": \"number\",\n        \"std\": 1.5909825148356396,\n        \"min\": 39.6,\n        \"max\": 104.0,\n        \"num_unique_values\": 104,\n        \"samples\": [\n          100.9,\n          94.1,\n          96.6\n        ],\n        \"semantic_type\": \"\",\n        \"description\": \"\"\n      }\n    },\n    {\n      \"column\": \"Heart rate(bpm)\",\n      \"properties\": {\n        \"dtype\": \"number\",\n        \"std\": 22,\n        \"min\": 45,\n        \"max\": 150,\n        \"num_unique_values\": 106,\n        \"samples\": [\n          123,\n          79,\n          51\n        ],\n        \"semantic_type\": \"\",\n        \"description\": \"\"\n      }\n    },\n    {\n      \"column\": \"Systolic Blood Pressure(mm Hg)\",\n      \"properties\": {\n        \"dtype\": \"number\",\n        \"std\": 17,\n        \"min\": 90,\n        \"max\": 169,\n        \"num_unique_values\": 79,\n        \"samples\": [\n          131,\n          161,\n          116\n        ],\n        \"semantic_type\": \"\",\n        \"description\": \"\"\n      }\n    },\n    {\n      \"column\": \"Diastolic Blood Pressure(mm Hg)\",\n      \"properties\": {\n        \"dtype\": \"number\",\n        \"std\": 7,\n        \"min\": 9,\n        \"max\": 142,\n        \"num_unique_values\": 65,\n        \"samples\": [\n          117,\n          114,\n          100\n        ],\n        \"semantic_type\": \"\",\n        \"description\": \"\"\n      }\n    },\n    {\n      \"column\": \"BMI(kg/m 2)\",\n      \"properties\": {\n        \"dtype\": \"number\",\n        \"std\": 2.157060283162956,\n        \"min\": 14.9,\n        \"max\": 27.9,\n        \"num_unique_values\": 127,\n        \"samples\": [\n          21.8,\n          16.6,\n          18.4\n        ],\n        \"semantic_type\": \"\",\n        \"description\": \"\"\n      }\n    },\n    {\n      \"column\": \"Blood Glucose(HbA1c)\",\n      \"properties\": {\n        \"dtype\": \"number\",\n        \"std\": 4,\n        \"min\": 30,\n        \"max\": 50,\n        \"num_unique_values\": 21,\n        \"samples\": [\n          41,\n          43,\n          47\n        ],\n        \"semantic_type\": \"\",\n        \"description\": \"\"\n      }\n    },\n    {\n      \"column\": \"Blood Glucose(Fasting hour-mg/dl)\",\n      \"properties\": {\n        \"dtype\": \"number\",\n        \"std\": 0.9053269462102326,\n        \"min\": 3.5,\n        \"max\": 8.9,\n        \"num_unique_values\": 49,\n        \"samples\": [\n          6.8,\n          3.6,\n          8.2\n        ],\n        \"semantic_type\": \"\",\n        \"description\": \"\"\n      }\n    },\n    {\n      \"column\": \"Outcome\",\n      \"properties\": {\n        \"dtype\": \"category\",\n        \"num_unique_values\": 3,\n        \"samples\": [\n          \"high risk\",\n          \"mid risk\",\n          \"low risk\"\n        ],\n        \"semantic_type\": \"\",\n        \"description\": \"\"\n      }\n    }\n  ]\n}"
            }
          },
          "metadata": {},
          "execution_count": 5
        }
      ]
    },
    {
      "cell_type": "code",
      "source": [
        "# printing the shape of data\n",
        "data.shape"
      ],
      "metadata": {
        "colab": {
          "base_uri": "https://localhost:8080/"
        },
        "id": "y_OUwyOmatda",
        "outputId": "6e45261a-5e1b-4d4a-8cdf-09f1049887d1"
      },
      "execution_count": null,
      "outputs": [
        {
          "output_type": "execute_result",
          "data": {
            "text/plain": [
              "(6103, 11)"
            ]
          },
          "metadata": {},
          "execution_count": 7
        }
      ]
    },
    {
      "cell_type": "code",
      "source": [
        "# printing the information of the data\n",
        "data.info()"
      ],
      "metadata": {
        "colab": {
          "base_uri": "https://localhost:8080/"
        },
        "id": "e1e1OKZ3a2Jz",
        "outputId": "c5dbcf56-28d6-48c7-d53c-e9594dcd0b53"
      },
      "execution_count": null,
      "outputs": [
        {
          "output_type": "stream",
          "name": "stdout",
          "text": [
            "<class 'pandas.core.frame.DataFrame'>\n",
            "RangeIndex: 6103 entries, 0 to 6102\n",
            "Data columns (total 11 columns):\n",
            " #   Column                             Non-Null Count  Dtype  \n",
            "---  ------                             --------------  -----  \n",
            " 0   Patient ID                         6103 non-null   int64  \n",
            " 1   Name                               6103 non-null   object \n",
            " 2   Age                                6103 non-null   int64  \n",
            " 3   Body Temperature(F)                6103 non-null   float64\n",
            " 4   Heart rate(bpm)                    6103 non-null   int64  \n",
            " 5   Systolic Blood Pressure(mm Hg)     6103 non-null   int64  \n",
            " 6   Diastolic Blood Pressure(mm Hg)    6103 non-null   int64  \n",
            " 7   BMI(kg/m 2)                        6103 non-null   float64\n",
            " 8   Blood Glucose(HbA1c)               6103 non-null   int64  \n",
            " 9   Blood Glucose(Fasting hour-mg/dl)  6103 non-null   float64\n",
            " 10  Outcome                            6103 non-null   object \n",
            "dtypes: float64(3), int64(6), object(2)\n",
            "memory usage: 524.6+ KB\n"
          ]
        }
      ]
    },
    {
      "cell_type": "code",
      "source": [
        "# overview of the data\n",
        "data.describe()"
      ],
      "metadata": {
        "colab": {
          "base_uri": "https://localhost:8080/",
          "height": 372
        },
        "id": "botOmbI7a7dr",
        "outputId": "cab64434-ac6d-4a85-c3d5-dee53108b9f7"
      },
      "execution_count": null,
      "outputs": [
        {
          "output_type": "execute_result",
          "data": {
            "text/plain": [
              "         Patient ID          Age  Body Temperature(F)   Heart rate(bpm)  \\\n",
              "count  6.103000e+03  6103.000000           6103.000000      6103.000000   \n",
              "mean   2.003343e+06    26.425037             98.665574        86.100770   \n",
              "std    6.604395e+03     6.390205              1.590983        22.627587   \n",
              "min    1.993365e+06    15.000000             39.600000        45.000000   \n",
              "25%    1.994890e+06    22.000000             98.600000        72.000000   \n",
              "50%    2.003000e+06    25.000000             98.600000        80.000000   \n",
              "75%    2.010128e+06    30.000000             98.800000        91.000000   \n",
              "max    2.013179e+06   250.000000            104.000000       150.000000   \n",
              "\n",
              "       Systolic Blood Pressure(mm Hg)  Diastolic Blood Pressure(mm Hg)  \\\n",
              "count                     6103.000000                      6103.000000   \n",
              "mean                       129.218253                        87.257578   \n",
              "std                         17.234217                         7.793099   \n",
              "min                         90.000000                         9.000000   \n",
              "25%                        120.000000                        82.000000   \n",
              "50%                        128.000000                        87.000000   \n",
              "75%                        141.000000                        92.000000   \n",
              "max                        169.000000                       142.000000   \n",
              "\n",
              "       BMI(kg/m 2)  Blood Glucose(HbA1c)  Blood Glucose(Fasting hour-mg/dl)  \n",
              "count  6103.000000           6103.000000                        6103.000000  \n",
              "mean     21.435581             37.904473                           5.504752  \n",
              "std       2.157060              4.400272                           0.905327  \n",
              "min      14.900000             30.000000                           3.500000  \n",
              "25%      19.600000             34.000000                           4.800000  \n",
              "50%      21.300000             38.000000                           5.700000  \n",
              "75%      23.100000             41.000000                           6.000000  \n",
              "max      27.900000             50.000000                           8.900000  "
            ],
            "text/html": [
              "\n",
              "  <div id=\"df-5032babc-2709-45d4-a426-656d5bb10003\" class=\"colab-df-container\">\n",
              "    <div>\n",
              "<style scoped>\n",
              "    .dataframe tbody tr th:only-of-type {\n",
              "        vertical-align: middle;\n",
              "    }\n",
              "\n",
              "    .dataframe tbody tr th {\n",
              "        vertical-align: top;\n",
              "    }\n",
              "\n",
              "    .dataframe thead th {\n",
              "        text-align: right;\n",
              "    }\n",
              "</style>\n",
              "<table border=\"1\" class=\"dataframe\">\n",
              "  <thead>\n",
              "    <tr style=\"text-align: right;\">\n",
              "      <th></th>\n",
              "      <th>Patient ID</th>\n",
              "      <th>Age</th>\n",
              "      <th>Body Temperature(F)</th>\n",
              "      <th>Heart rate(bpm)</th>\n",
              "      <th>Systolic Blood Pressure(mm Hg)</th>\n",
              "      <th>Diastolic Blood Pressure(mm Hg)</th>\n",
              "      <th>BMI(kg/m 2)</th>\n",
              "      <th>Blood Glucose(HbA1c)</th>\n",
              "      <th>Blood Glucose(Fasting hour-mg/dl)</th>\n",
              "    </tr>\n",
              "  </thead>\n",
              "  <tbody>\n",
              "    <tr>\n",
              "      <th>count</th>\n",
              "      <td>6.103000e+03</td>\n",
              "      <td>6103.000000</td>\n",
              "      <td>6103.000000</td>\n",
              "      <td>6103.000000</td>\n",
              "      <td>6103.000000</td>\n",
              "      <td>6103.000000</td>\n",
              "      <td>6103.000000</td>\n",
              "      <td>6103.000000</td>\n",
              "      <td>6103.000000</td>\n",
              "    </tr>\n",
              "    <tr>\n",
              "      <th>mean</th>\n",
              "      <td>2.003343e+06</td>\n",
              "      <td>26.425037</td>\n",
              "      <td>98.665574</td>\n",
              "      <td>86.100770</td>\n",
              "      <td>129.218253</td>\n",
              "      <td>87.257578</td>\n",
              "      <td>21.435581</td>\n",
              "      <td>37.904473</td>\n",
              "      <td>5.504752</td>\n",
              "    </tr>\n",
              "    <tr>\n",
              "      <th>std</th>\n",
              "      <td>6.604395e+03</td>\n",
              "      <td>6.390205</td>\n",
              "      <td>1.590983</td>\n",
              "      <td>22.627587</td>\n",
              "      <td>17.234217</td>\n",
              "      <td>7.793099</td>\n",
              "      <td>2.157060</td>\n",
              "      <td>4.400272</td>\n",
              "      <td>0.905327</td>\n",
              "    </tr>\n",
              "    <tr>\n",
              "      <th>min</th>\n",
              "      <td>1.993365e+06</td>\n",
              "      <td>15.000000</td>\n",
              "      <td>39.600000</td>\n",
              "      <td>45.000000</td>\n",
              "      <td>90.000000</td>\n",
              "      <td>9.000000</td>\n",
              "      <td>14.900000</td>\n",
              "      <td>30.000000</td>\n",
              "      <td>3.500000</td>\n",
              "    </tr>\n",
              "    <tr>\n",
              "      <th>25%</th>\n",
              "      <td>1.994890e+06</td>\n",
              "      <td>22.000000</td>\n",
              "      <td>98.600000</td>\n",
              "      <td>72.000000</td>\n",
              "      <td>120.000000</td>\n",
              "      <td>82.000000</td>\n",
              "      <td>19.600000</td>\n",
              "      <td>34.000000</td>\n",
              "      <td>4.800000</td>\n",
              "    </tr>\n",
              "    <tr>\n",
              "      <th>50%</th>\n",
              "      <td>2.003000e+06</td>\n",
              "      <td>25.000000</td>\n",
              "      <td>98.600000</td>\n",
              "      <td>80.000000</td>\n",
              "      <td>128.000000</td>\n",
              "      <td>87.000000</td>\n",
              "      <td>21.300000</td>\n",
              "      <td>38.000000</td>\n",
              "      <td>5.700000</td>\n",
              "    </tr>\n",
              "    <tr>\n",
              "      <th>75%</th>\n",
              "      <td>2.010128e+06</td>\n",
              "      <td>30.000000</td>\n",
              "      <td>98.800000</td>\n",
              "      <td>91.000000</td>\n",
              "      <td>141.000000</td>\n",
              "      <td>92.000000</td>\n",
              "      <td>23.100000</td>\n",
              "      <td>41.000000</td>\n",
              "      <td>6.000000</td>\n",
              "    </tr>\n",
              "    <tr>\n",
              "      <th>max</th>\n",
              "      <td>2.013179e+06</td>\n",
              "      <td>250.000000</td>\n",
              "      <td>104.000000</td>\n",
              "      <td>150.000000</td>\n",
              "      <td>169.000000</td>\n",
              "      <td>142.000000</td>\n",
              "      <td>27.900000</td>\n",
              "      <td>50.000000</td>\n",
              "      <td>8.900000</td>\n",
              "    </tr>\n",
              "  </tbody>\n",
              "</table>\n",
              "</div>\n",
              "    <div class=\"colab-df-buttons\">\n",
              "\n",
              "  <div class=\"colab-df-container\">\n",
              "    <button class=\"colab-df-convert\" onclick=\"convertToInteractive('df-5032babc-2709-45d4-a426-656d5bb10003')\"\n",
              "            title=\"Convert this dataframe to an interactive table.\"\n",
              "            style=\"display:none;\">\n",
              "\n",
              "  <svg xmlns=\"http://www.w3.org/2000/svg\" height=\"24px\" viewBox=\"0 -960 960 960\">\n",
              "    <path d=\"M120-120v-720h720v720H120Zm60-500h600v-160H180v160Zm220 220h160v-160H400v160Zm0 220h160v-160H400v160ZM180-400h160v-160H180v160Zm440 0h160v-160H620v160ZM180-180h160v-160H180v160Zm440 0h160v-160H620v160Z\"/>\n",
              "  </svg>\n",
              "    </button>\n",
              "\n",
              "  <style>\n",
              "    .colab-df-container {\n",
              "      display:flex;\n",
              "      gap: 12px;\n",
              "    }\n",
              "\n",
              "    .colab-df-convert {\n",
              "      background-color: #E8F0FE;\n",
              "      border: none;\n",
              "      border-radius: 50%;\n",
              "      cursor: pointer;\n",
              "      display: none;\n",
              "      fill: #1967D2;\n",
              "      height: 32px;\n",
              "      padding: 0 0 0 0;\n",
              "      width: 32px;\n",
              "    }\n",
              "\n",
              "    .colab-df-convert:hover {\n",
              "      background-color: #E2EBFA;\n",
              "      box-shadow: 0px 1px 2px rgba(60, 64, 67, 0.3), 0px 1px 3px 1px rgba(60, 64, 67, 0.15);\n",
              "      fill: #174EA6;\n",
              "    }\n",
              "\n",
              "    .colab-df-buttons div {\n",
              "      margin-bottom: 4px;\n",
              "    }\n",
              "\n",
              "    [theme=dark] .colab-df-convert {\n",
              "      background-color: #3B4455;\n",
              "      fill: #D2E3FC;\n",
              "    }\n",
              "\n",
              "    [theme=dark] .colab-df-convert:hover {\n",
              "      background-color: #434B5C;\n",
              "      box-shadow: 0px 1px 3px 1px rgba(0, 0, 0, 0.15);\n",
              "      filter: drop-shadow(0px 1px 2px rgba(0, 0, 0, 0.3));\n",
              "      fill: #FFFFFF;\n",
              "    }\n",
              "  </style>\n",
              "\n",
              "    <script>\n",
              "      const buttonEl =\n",
              "        document.querySelector('#df-5032babc-2709-45d4-a426-656d5bb10003 button.colab-df-convert');\n",
              "      buttonEl.style.display =\n",
              "        google.colab.kernel.accessAllowed ? 'block' : 'none';\n",
              "\n",
              "      async function convertToInteractive(key) {\n",
              "        const element = document.querySelector('#df-5032babc-2709-45d4-a426-656d5bb10003');\n",
              "        const dataTable =\n",
              "          await google.colab.kernel.invokeFunction('convertToInteractive',\n",
              "                                                    [key], {});\n",
              "        if (!dataTable) return;\n",
              "\n",
              "        const docLinkHtml = 'Like what you see? Visit the ' +\n",
              "          '<a target=\"_blank\" href=https://colab.research.google.com/notebooks/data_table.ipynb>data table notebook</a>'\n",
              "          + ' to learn more about interactive tables.';\n",
              "        element.innerHTML = '';\n",
              "        dataTable['output_type'] = 'display_data';\n",
              "        await google.colab.output.renderOutput(dataTable, element);\n",
              "        const docLink = document.createElement('div');\n",
              "        docLink.innerHTML = docLinkHtml;\n",
              "        element.appendChild(docLink);\n",
              "      }\n",
              "    </script>\n",
              "  </div>\n",
              "\n",
              "\n",
              "<div id=\"df-1ed6794d-0363-4faa-9ef9-73d1a64319e6\">\n",
              "  <button class=\"colab-df-quickchart\" onclick=\"quickchart('df-1ed6794d-0363-4faa-9ef9-73d1a64319e6')\"\n",
              "            title=\"Suggest charts\"\n",
              "            style=\"display:none;\">\n",
              "\n",
              "<svg xmlns=\"http://www.w3.org/2000/svg\" height=\"24px\"viewBox=\"0 0 24 24\"\n",
              "     width=\"24px\">\n",
              "    <g>\n",
              "        <path d=\"M19 3H5c-1.1 0-2 .9-2 2v14c0 1.1.9 2 2 2h14c1.1 0 2-.9 2-2V5c0-1.1-.9-2-2-2zM9 17H7v-7h2v7zm4 0h-2V7h2v10zm4 0h-2v-4h2v4z\"/>\n",
              "    </g>\n",
              "</svg>\n",
              "  </button>\n",
              "\n",
              "<style>\n",
              "  .colab-df-quickchart {\n",
              "      --bg-color: #E8F0FE;\n",
              "      --fill-color: #1967D2;\n",
              "      --hover-bg-color: #E2EBFA;\n",
              "      --hover-fill-color: #174EA6;\n",
              "      --disabled-fill-color: #AAA;\n",
              "      --disabled-bg-color: #DDD;\n",
              "  }\n",
              "\n",
              "  [theme=dark] .colab-df-quickchart {\n",
              "      --bg-color: #3B4455;\n",
              "      --fill-color: #D2E3FC;\n",
              "      --hover-bg-color: #434B5C;\n",
              "      --hover-fill-color: #FFFFFF;\n",
              "      --disabled-bg-color: #3B4455;\n",
              "      --disabled-fill-color: #666;\n",
              "  }\n",
              "\n",
              "  .colab-df-quickchart {\n",
              "    background-color: var(--bg-color);\n",
              "    border: none;\n",
              "    border-radius: 50%;\n",
              "    cursor: pointer;\n",
              "    display: none;\n",
              "    fill: var(--fill-color);\n",
              "    height: 32px;\n",
              "    padding: 0;\n",
              "    width: 32px;\n",
              "  }\n",
              "\n",
              "  .colab-df-quickchart:hover {\n",
              "    background-color: var(--hover-bg-color);\n",
              "    box-shadow: 0 1px 2px rgba(60, 64, 67, 0.3), 0 1px 3px 1px rgba(60, 64, 67, 0.15);\n",
              "    fill: var(--button-hover-fill-color);\n",
              "  }\n",
              "\n",
              "  .colab-df-quickchart-complete:disabled,\n",
              "  .colab-df-quickchart-complete:disabled:hover {\n",
              "    background-color: var(--disabled-bg-color);\n",
              "    fill: var(--disabled-fill-color);\n",
              "    box-shadow: none;\n",
              "  }\n",
              "\n",
              "  .colab-df-spinner {\n",
              "    border: 2px solid var(--fill-color);\n",
              "    border-color: transparent;\n",
              "    border-bottom-color: var(--fill-color);\n",
              "    animation:\n",
              "      spin 1s steps(1) infinite;\n",
              "  }\n",
              "\n",
              "  @keyframes spin {\n",
              "    0% {\n",
              "      border-color: transparent;\n",
              "      border-bottom-color: var(--fill-color);\n",
              "      border-left-color: var(--fill-color);\n",
              "    }\n",
              "    20% {\n",
              "      border-color: transparent;\n",
              "      border-left-color: var(--fill-color);\n",
              "      border-top-color: var(--fill-color);\n",
              "    }\n",
              "    30% {\n",
              "      border-color: transparent;\n",
              "      border-left-color: var(--fill-color);\n",
              "      border-top-color: var(--fill-color);\n",
              "      border-right-color: var(--fill-color);\n",
              "    }\n",
              "    40% {\n",
              "      border-color: transparent;\n",
              "      border-right-color: var(--fill-color);\n",
              "      border-top-color: var(--fill-color);\n",
              "    }\n",
              "    60% {\n",
              "      border-color: transparent;\n",
              "      border-right-color: var(--fill-color);\n",
              "    }\n",
              "    80% {\n",
              "      border-color: transparent;\n",
              "      border-right-color: var(--fill-color);\n",
              "      border-bottom-color: var(--fill-color);\n",
              "    }\n",
              "    90% {\n",
              "      border-color: transparent;\n",
              "      border-bottom-color: var(--fill-color);\n",
              "    }\n",
              "  }\n",
              "</style>\n",
              "\n",
              "  <script>\n",
              "    async function quickchart(key) {\n",
              "      const quickchartButtonEl =\n",
              "        document.querySelector('#' + key + ' button');\n",
              "      quickchartButtonEl.disabled = true;  // To prevent multiple clicks.\n",
              "      quickchartButtonEl.classList.add('colab-df-spinner');\n",
              "      try {\n",
              "        const charts = await google.colab.kernel.invokeFunction(\n",
              "            'suggestCharts', [key], {});\n",
              "      } catch (error) {\n",
              "        console.error('Error during call to suggestCharts:', error);\n",
              "      }\n",
              "      quickchartButtonEl.classList.remove('colab-df-spinner');\n",
              "      quickchartButtonEl.classList.add('colab-df-quickchart-complete');\n",
              "    }\n",
              "    (() => {\n",
              "      let quickchartButtonEl =\n",
              "        document.querySelector('#df-1ed6794d-0363-4faa-9ef9-73d1a64319e6 button');\n",
              "      quickchartButtonEl.style.display =\n",
              "        google.colab.kernel.accessAllowed ? 'block' : 'none';\n",
              "    })();\n",
              "  </script>\n",
              "</div>\n",
              "\n",
              "    </div>\n",
              "  </div>\n"
            ],
            "application/vnd.google.colaboratory.intrinsic+json": {
              "type": "dataframe",
              "summary": "{\n  \"name\": \"data\",\n  \"rows\": 8,\n  \"fields\": [\n    {\n      \"column\": \"Patient ID\",\n      \"properties\": {\n        \"dtype\": \"number\",\n        \"std\": 924284.5674661698,\n        \"min\": 6103.0,\n        \"max\": 2013179.0,\n        \"num_unique_values\": 8,\n        \"samples\": [\n          2003343.1284614124,\n          2003000.0,\n          6103.0\n        ],\n        \"semantic_type\": \"\",\n        \"description\": \"\"\n      }\n    },\n    {\n      \"column\": \"Age\",\n      \"properties\": {\n        \"dtype\": \"number\",\n        \"std\": 2140.321098372227,\n        \"min\": 6.390204913836805,\n        \"max\": 6103.0,\n        \"num_unique_values\": 8,\n        \"samples\": [\n          26.425036867114535,\n          25.0,\n          6103.0\n        ],\n        \"semantic_type\": \"\",\n        \"description\": \"\"\n      }\n    },\n    {\n      \"column\": \"Body Temperature(F) \",\n      \"properties\": {\n        \"dtype\": \"number\",\n        \"std\": 2130.7943871598613,\n        \"min\": 1.5909825148356396,\n        \"max\": 6103.0,\n        \"num_unique_values\": 7,\n        \"samples\": [\n          6103.0,\n          98.66557430771752,\n          98.8\n        ],\n        \"semantic_type\": \"\",\n        \"description\": \"\"\n      }\n    },\n    {\n      \"column\": \"Heart rate(bpm)\",\n      \"properties\": {\n        \"dtype\": \"number\",\n        \"std\": 2130.4447371687106,\n        \"min\": 22.62758729329913,\n        \"max\": 6103.0,\n        \"num_unique_values\": 8,\n        \"samples\": [\n          86.10077011305916,\n          80.0,\n          6103.0\n        ],\n        \"semantic_type\": \"\",\n        \"description\": \"\"\n      }\n    },\n    {\n      \"column\": \"Systolic Blood Pressure(mm Hg)\",\n      \"properties\": {\n        \"dtype\": \"number\",\n        \"std\": 2118.087852372823,\n        \"min\": 17.234217061477413,\n        \"max\": 6103.0,\n        \"num_unique_values\": 8,\n        \"samples\": [\n          129.2182533180403,\n          128.0,\n          6103.0\n        ],\n        \"semantic_type\": \"\",\n        \"description\": \"\"\n      }\n    },\n    {\n      \"column\": \"Diastolic Blood Pressure(mm Hg)\",\n      \"properties\": {\n        \"dtype\": \"number\",\n        \"std\": 2132.5936379495565,\n        \"min\": 7.793099324657122,\n        \"max\": 6103.0,\n        \"num_unique_values\": 8,\n        \"samples\": [\n          87.25757824020974,\n          87.0,\n          6103.0\n        ],\n        \"semantic_type\": \"\",\n        \"description\": \"\"\n      }\n    },\n    {\n      \"column\": \"BMI(kg/m 2)\",\n      \"properties\": {\n        \"dtype\": \"number\",\n        \"std\": 2151.164038365568,\n        \"min\": 2.157060283162956,\n        \"max\": 6103.0,\n        \"num_unique_values\": 8,\n        \"samples\": [\n          21.435580861871212,\n          21.3,\n          6103.0\n        ],\n        \"semantic_type\": \"\",\n        \"description\": \"\"\n      }\n    },\n    {\n      \"column\": \"Blood Glucose(HbA1c)\",\n      \"properties\": {\n        \"dtype\": \"number\",\n        \"std\": 2145.8925126731465,\n        \"min\": 4.400271658901851,\n        \"max\": 6103.0,\n        \"num_unique_values\": 8,\n        \"samples\": [\n          37.90447320989677,\n          38.0,\n          6103.0\n        ],\n        \"semantic_type\": \"\",\n        \"description\": \"\"\n      }\n    },\n    {\n      \"column\": \"Blood Glucose(Fasting hour-mg/dl)\",\n      \"properties\": {\n        \"dtype\": \"number\",\n        \"std\": 2155.9541071219937,\n        \"min\": 0.9053269462102326,\n        \"max\": 6103.0,\n        \"num_unique_values\": 8,\n        \"samples\": [\n          5.504751761428805,\n          5.7,\n          6103.0\n        ],\n        \"semantic_type\": \"\",\n        \"description\": \"\"\n      }\n    }\n  ]\n}"
            }
          },
          "metadata": {},
          "execution_count": 9
        }
      ]
    },
    {
      "cell_type": "code",
      "source": [
        "# change the outcome column String to integer type\n",
        "data['Outcome'] = data['Outcome'].replace({'low risk': 0, 'mid risk': 1, 'high risk': 2})"
      ],
      "metadata": {
        "colab": {
          "base_uri": "https://localhost:8080/"
        },
        "id": "IGFprs0UaoKx",
        "outputId": "894996f2-a4bd-4997-98e5-37304ff1d4e4"
      },
      "execution_count": null,
      "outputs": [
        {
          "output_type": "stream",
          "name": "stderr",
          "text": [
            "<ipython-input-10-6843b6ea97eb>:2: FutureWarning: Downcasting behavior in `replace` is deprecated and will be removed in a future version. To retain the old behavior, explicitly call `result.infer_objects(copy=False)`. To opt-in to the future behavior, set `pd.set_option('future.no_silent_downcasting', True)`\n",
            "  data['Outcome'] = data['Outcome'].replace({'low risk': 0, 'mid risk': 1, 'high risk': 2})\n"
          ]
        }
      ]
    },
    {
      "cell_type": "code",
      "source": [
        "# drop the Paitient ID and Name Column\n",
        "data.drop(['Patient ID', 'Name'],axis=1,inplace=True)"
      ],
      "metadata": {
        "id": "pwHhtX-mbHAe"
      },
      "execution_count": null,
      "outputs": []
    },
    {
      "cell_type": "code",
      "source": [
        "# Box Plot of Age\n",
        "import seaborn as sns\n",
        "import matplotlib.pyplot as plt\n",
        "\n",
        "# Create the box plot for 'Age' with outlier markers\n",
        "sns.boxplot(x=data['Age'], showmeans=True, flierprops={\"marker\": \"o\", \"markerfacecolor\": \"red\", \"markersize\": 8})\n",
        "plt.title('Box Plot for Age with Outliers')\n",
        "plt.xlabel('Age')\n",
        "plt.show()"
      ],
      "metadata": {
        "colab": {
          "base_uri": "https://localhost:8080/",
          "height": 472
        },
        "id": "uo6S6i9abP7J",
        "outputId": "077664fa-3293-4952-98c1-62e45b76efd0"
      },
      "execution_count": null,
      "outputs": [
        {
          "output_type": "display_data",
          "data": {
            "text/plain": [
              "<Figure size 640x480 with 1 Axes>"
            ],
            "image/png": "[encoded data removed]"
          },
          "metadata": {}
        }
      ]
    },
    {
      "cell_type": "code",
      "source": [
        "# Removing the outlier and print the boxplot\n",
        "import seaborn as sns\n",
        "import matplotlib.pyplot as plt\n",
        "import numpy as np\n",
        "\n",
        "# Calculate quantiles\n",
        "Q1 = data['Age'].quantile(0.25)\n",
        "Q3 = data['Age'].quantile(0.75)\n",
        "IQR = Q3 - Q1\n",
        "\n",
        "# Define upper and lower bounds for outliers\n",
        "lower_bound = Q1 - 1.5 * IQR\n",
        "upper_bound = Q3 + 1.5 * IQR\n",
        "\n",
        "# Filter data to remove outliers\n",
        "filtered_age_data = data[(data['Age'] >= lower_bound) & (data['Age'] <= upper_bound)]\n",
        "\n",
        "# Create the box plot for 'Age' after removing outliers\n",
        "sns.boxplot(x=filtered_age_data['Age'], showmeans=True)  # Show means for better visualization\n",
        "plt.title('Box Plot for Age after Removing Outliers (using Quantiles)')\n",
        "plt.xlabel('Age')\n",
        "plt.show()"
      ],
      "metadata": {
        "colab": {
          "base_uri": "https://localhost:8080/",
          "height": 472
        },
        "id": "lRcxOQ8fbVPJ",
        "outputId": "75755457-570c-4ef8-9839-acaa02b16c10"
      },
      "execution_count": null,
      "outputs": [
        {
          "output_type": "display_data",
          "data": {
            "text/plain": [
              "<Figure size 640x480 with 1 Axes>"
            ],
            "image/png": "[encoded data removed]"
          },
          "metadata": {}
        }
      ]
    },
    {
      "cell_type": "code",
      "source": [
        "# print the data shape after 'Age' Outlier removal\n",
        "print(\"after age outlier remove : \")\n",
        "filtered_age_data.shape"
      ],
      "metadata": {
        "colab": {
          "base_uri": "https://localhost:8080/"
        },
        "id": "Le4yum8vbfA_",
        "outputId": "57006567-a9d5-482f-caba-2c387f5d7635"
      },
      "execution_count": null,
      "outputs": [
        {
          "output_type": "stream",
          "name": "stdout",
          "text": [
            "after age outlier remove : \n"
          ]
        },
        {
          "output_type": "execute_result",
          "data": {
            "text/plain": [
              "(6017, 9)"
            ]
          },
          "metadata": {},
          "execution_count": 14
        }
      ]
    },
    {
      "cell_type": "code",
      "source": [
        "# Create the box plot for 'BP' with outlier markers\n",
        "sns.boxplot(x=data['Systolic Blood Pressure(mm Hg)'], showmeans=True, flierprops={\"marker\": \"o\", \"markerfacecolor\": \"red\", \"markersize\": 8})\n",
        "plt.title('Box Plot for BP with Outliers')\n",
        "plt.xlabel('BP')\n",
        "# Create the box plot for 'BP' with outlier markers\n",
        "sns.boxplot(x=data['Systolic Blood Pressure(mm Hg)'], showmeans=True, flierprops={\"marker\": \"o\", \"markerfacecolor\": \"red\", \"markersize\": 8})\n",
        "plt.title('Box Plot for BP with Outliers')\n",
        "plt.xlabel('BP')\n",
        "plt.show()\n"
      ],
      "metadata": {
        "colab": {
          "base_uri": "https://localhost:8080/",
          "height": 472
        },
        "id": "PKcSmBH-boz-",
        "outputId": "83330e9c-07d1-4c03-e32f-0eff99f5665a"
      },
      "execution_count": null,
      "outputs": [
        {
          "output_type": "display_data",
          "data": {
            "text/plain": [
              "<Figure size 640x480 with 1 Axes>"
            ],
            "image/png": "[encoded data removed]"
          },
          "metadata": {}
        }
      ]
    },
    {
      "cell_type": "code",
      "source": [
        "# No need to change the shape , because no Outlier present\n",
        "filtered_age_data.shape"
      ],
      "metadata": {
        "colab": {
          "base_uri": "https://localhost:8080/"
        },
        "id": "aMSUSV6TbtnI",
        "outputId": "a74d77f8-9829-4458-e4d0-17b5d14670dc"
      },
      "execution_count": null,
      "outputs": [
        {
          "output_type": "execute_result",
          "data": {
            "text/plain": [
              "(6017, 9)"
            ]
          },
          "metadata": {},
          "execution_count": 17
        }
      ]
    },
    {
      "cell_type": "code",
      "source": [
        "# Create the box plot for 'Body Temperature(F)' with outlier markers\n",
        "sns.boxplot(x=filtered_age_data['Body Temperature(F) '], showmeans=True, flierprops={\"marker\": \"o\", \"markerfacecolor\": \"red\", \"markersize\": 8})\n",
        "plt.title('Box Plot for Body Temperature(F) with Outliers')\n",
        "plt.xlabel('Body Temperature(F)')\n",
        "#plt.show()"
      ],
      "metadata": {
        "colab": {
          "base_uri": "https://localhost:8080/",
          "height": 472
        },
        "id": "KYwJH_Tnb5PK",
        "outputId": "55565abb-5922-41b3-c49d-ebb820128850"
      },
      "execution_count": null,
      "outputs": [
        {
          "output_type": "display_data",
          "data": {
            "text/plain": [
              "<Figure size 640x480 with 1 Axes>"
            ],
            "image/png": "[encoded data removed]"
          },
          "metadata": {}
        }
      ]
    },
    {
      "cell_type": "code",
      "source": [
        "# removing the Outlier part\n",
        "\n",
        "column_data = filtered_age_data['Body Temperature(F) ']\n",
        "\n",
        "# Calculate the mean and standard deviation\n",
        "mean = np.mean(column_data)\n",
        "std_dev = np.std(column_data)\n",
        "\n",
        "# Calculate the upper and lower bounds\n",
        "upper_bound1 = mean + 3 * std_dev\n",
        "lower_bound1 = mean - 3 * std_dev\n",
        "\n",
        "print(f\"Upper Bound (3u): {upper_bound1}\")\n",
        "print(f\"Lower Bound (-3u): {lower_bound1}\")\n",
        "\n",
        "\n",
        "# Filter data to remove outliers\n",
        "filtered_temperature_data = filtered_age_data[(filtered_age_data['Body Temperature(F) '] >= lower_bound1) & (filtered_age_data['Body Temperature(F) '] <= upper_bound1)]\n",
        "\n",
        "# Create the box plot for 'Age' after removing outliers\n",
        "sns.boxplot(x=filtered_temperature_data['Body Temperature(F) '], showmeans=True)  # Show means for better visualization\n",
        "plt.title('Box Plot for Body Temperature(F)  after Removing Outliers (using Quantiles)')\n",
        "plt.xlabel('Body Temperature(F) ')\n",
        "plt.show()"
      ],
      "metadata": {
        "colab": {
          "base_uri": "https://localhost:8080/",
          "height": 507
        },
        "id": "rCstQOyLcD9D",
        "outputId": "e5f63a05-ae5d-430f-db4e-c99bc0731656"
      },
      "execution_count": null,
      "outputs": [
        {
          "output_type": "stream",
          "name": "stdout",
          "text": [
            "Upper Bound (3u): 103.32796939468207\n",
            "Lower Bound (-3u): 93.96785909127439\n"
          ]
        },
        {
          "output_type": "display_data",
          "data": {
            "text/plain": [
              "<Figure size 640x480 with 1 Axes>"
            ],
            "image/png": "[encoded data removed]"
          },
          "metadata": {}
        }
      ]
    },
    {
      "cell_type": "code",
      "source": [
        "# print the data shape after removing 'Body Temperature(F) '\n",
        "print(\"after Body Temperature(F)  Outlier remove : \")\n",
        "filtered_temperature_data.shape"
      ],
      "metadata": {
        "colab": {
          "base_uri": "https://localhost:8080/"
        },
        "id": "BLgM1xgJcr2K",
        "outputId": "7bec40f0-4f3f-485d-8654-59e094acde54"
      },
      "execution_count": null,
      "outputs": [
        {
          "output_type": "stream",
          "name": "stdout",
          "text": [
            "after Body Temperature(F)  Outlier remove : \n"
          ]
        },
        {
          "output_type": "execute_result",
          "data": {
            "text/plain": [
              "(5960, 9)"
            ]
          },
          "metadata": {},
          "execution_count": 20
        }
      ]
    },
    {
      "cell_type": "code",
      "source": [
        "# Create the box plot for 'Heart rate(bpm)' with outlier markers\n",
        "sns.boxplot(x=filtered_temperature_data['Heart rate(bpm)'], showmeans=True, flierprops={\"marker\": \"o\", \"markerfacecolor\": \"red\", \"markersize\": 8})\n",
        "plt.title('Box Plot for Heart rate(bpm) with Outliers')\n",
        "plt.xlabel('Heart rate(bpm)')\n",
        "plt.show()"
      ],
      "metadata": {
        "colab": {
          "base_uri": "https://localhost:8080/",
          "height": 472
        },
        "id": "uM1wqljDdACO",
        "outputId": "f25029b5-4a9c-4d9e-9023-ab7c19eae168"
      },
      "execution_count": null,
      "outputs": [
        {
          "output_type": "display_data",
          "data": {
            "text/plain": [
              "<Figure size 640x480 with 1 Axes>"
            ],
            "image/png": "[encoded data removed]"
          },
          "metadata": {}
        }
      ]
    },
    {
      "cell_type": "code",
      "source": [
        "# removing the 'Heart rate(bpm)\n",
        "import seaborn as sns\n",
        "import matplotlib.pyplot as plt\n",
        "import numpy as np\n",
        "\n",
        "# Calculate quantiles\n",
        "Q1 = filtered_temperature_data['Heart rate(bpm)'].quantile(0.25)\n",
        "Q3 = filtered_temperature_data['Heart rate(bpm)'].quantile(0.75)\n",
        "IQR = Q3 - Q1\n",
        "\n",
        "print(Q1 ,Q3, IQR)\n",
        "# Define upper and lower bounds for outliers\n",
        "lower_bound2 = Q1 - 1.5 * IQR\n",
        "upper_bound2 = Q3 + 1.5 * IQR\n",
        "\n",
        "print(f\"Upper Bound (3u): {upper_bound2}\")\n",
        "print(f\"Lower Bound (-3u): {lower_bound2}\")\n",
        "\n",
        "filtered_temperature_data1=filtered_temperature_data[ (filtered_temperature_data['Heart rate(bpm)'] >= Q3)]\n",
        "\n",
        "# Calculate quantiles\n",
        "Q11 = filtered_temperature_data1['Heart rate(bpm)'].quantile(0.25)\n",
        "Q31 = filtered_temperature_data1['Heart rate(bpm)'].quantile(0.75)\n",
        "IQR = Q31 - Q11\n",
        "\n",
        "print(Q1 ,Q3, IQR)\n",
        "# Define upper and lower bounds for outliers\n",
        "lower_bound2 = Q11 - 1.5 * IQR\n",
        "upper_bound2 = Q31 + 1.5 * IQR\n",
        "\n",
        "print(f\"Upper Bound (3u): {upper_bound2}\")\n",
        "print(f\"Lower Bound (-3u): {lower_bound2}\")\n",
        "\n",
        "# Filter data to remove outliers\n",
        "filtered_heart2_data = filtered_temperature_data1[(filtered_temperature_data['Heart rate(bpm)'] >= lower_bound2) & (filtered_temperature_data['Heart rate(bpm)'] <= upper_bound2)]\n",
        "\n",
        "# Create the box plot for 'Age' after removing outliers\n",
        "sns.boxplot(x=filtered_heart2_data['Heart rate(bpm)'], showmeans=True)  # Show means for better visualization\n",
        "plt.title('Box Plot for Heart rate(bpm) after Removing Outliers (using Quantiles)')\n",
        "plt.xlabel('Heart rate(bpm)')\n",
        "plt.show()"
      ],
      "metadata": {
        "colab": {
          "base_uri": "https://localhost:8080/",
          "height": 631
        },
        "id": "uKqWVGnodGqN",
        "outputId": "545a5e96-abcb-4c60-cc5e-ce6cfce5def6"
      },
      "execution_count": null,
      "outputs": [
        {
          "output_type": "stream",
          "name": "stdout",
          "text": [
            "72.0 90.0 18.0\n",
            "Upper Bound (3u): 117.0\n",
            "Lower Bound (-3u): 45.0\n",
            "72.0 90.0 36.0\n",
            "Upper Bound (3u): 189.0\n",
            "Lower Bound (-3u): 45.0\n"
          ]
        },
        {
          "output_type": "stream",
          "name": "stderr",
          "text": [
            "<ipython-input-24-8aa1ae62f327>:35: UserWarning: Boolean Series key will be reindexed to match DataFrame index.\n",
            "  filtered_heart2_data = filtered_temperature_data1[(filtered_temperature_data['Heart rate(bpm)'] >= lower_bound2) & (filtered_temperature_data['Heart rate(bpm)'] <= upper_bound2)]\n"
          ]
        },
        {
          "output_type": "display_data",
          "data": {
            "text/plain": [
              "<Figure size 640x480 with 1 Axes>"
            ],
            "image/png": "[encoded data removed]"
          },
          "metadata": {}
        }
      ]
    },
    {
      "cell_type": "code",
      "source": [
        "filtered_heart_data = pd.concat([filtered_temperature_data[ (filtered_temperature_data['Heart rate(bpm)'] < Q3)],filtered_heart2_data],ignore_index=True)"
      ],
      "metadata": {
        "id": "_x3LiZh6dqE9"
      },
      "execution_count": null,
      "outputs": []
    },
    {
      "cell_type": "code",
      "source": [
        "# data size after removing Heart rate Outlier\n",
        "print(\"after Heart rate Outlier remove : \")\n",
        "filtered_heart_data.shape"
      ],
      "metadata": {
        "colab": {
          "base_uri": "https://localhost:8080/"
        },
        "id": "dcQehCcgd-jG",
        "outputId": "286bc437-155d-4d13-f255-e3b49fa9a86c"
      },
      "execution_count": null,
      "outputs": [
        {
          "output_type": "stream",
          "name": "stdout",
          "text": [
            "after Heart rate Outlier remove : \n"
          ]
        },
        {
          "output_type": "execute_result",
          "data": {
            "text/plain": [
              "(5960, 9)"
            ]
          },
          "metadata": {},
          "execution_count": 26
        }
      ]
    },
    {
      "cell_type": "code",
      "source": [
        "# Create the box plot for 'Diastolic Blood Pressure(mm Hg)' with outlier markers\n",
        "sns.boxplot(x=data['Diastolic Blood Pressure(mm Hg)'], showmeans=True, flierprops={\"marker\": \"o\", \"markerfacecolor\": \"red\", \"markersize\": 8})\n",
        "plt.title('Box Plot for Diastolic Blood Pressure(mm Hg) with Outliers')\n",
        "plt.xlabel('Diastolic Blood Pressure(mm Hg)')\n",
        "plt.show()"
      ],
      "metadata": {
        "colab": {
          "base_uri": "https://localhost:8080/",
          "height": 472
        },
        "id": "upjqJvizeV18",
        "outputId": "d95bdfd3-6386-4356-b29c-dd68f15c4d18"
      },
      "execution_count": null,
      "outputs": [
        {
          "output_type": "display_data",
          "data": {
            "text/plain": [
              "<Figure size 640x480 with 1 Axes>"
            ],
            "image/png": "[encoded data removed]"
          },
          "metadata": {}
        }
      ]
    },
    {
      "cell_type": "code",
      "source": [
        "# removing the Diastolic Blood Pressure(mm Hg) Outlier\n",
        "\n",
        "# Calculate quantiles\n",
        "Q1 = filtered_heart_data['Diastolic Blood Pressure(mm Hg)'].quantile(0.25)\n",
        "Q3 = filtered_heart_data['Diastolic Blood Pressure(mm Hg)'].quantile(0.75)\n",
        "IQR = Q3 - Q1\n",
        "\n",
        "# Define upper and lower bounds for outliers\n",
        "lower_bound = Q1 - 1.5 * IQR\n",
        "upper_bound = Q3 + 1.5 * IQR\n",
        "\n",
        "# Filter data to remove outliers\n",
        "filtered_blood_data = filtered_heart_data[(filtered_heart_data['Diastolic Blood Pressure(mm Hg)'] >= lower_bound) & (filtered_heart_data['Diastolic Blood Pressure(mm Hg)'] <= upper_bound)]\n",
        "\n",
        "# Create the box plot for 'Age' after removing outliers\n",
        "sns.boxplot(x=filtered_blood_data['Diastolic Blood Pressure(mm Hg)'], showmeans=True)  # Show means for better visualization\n",
        "plt.title('Box Plot for Diastolic Blood Pressure(mm Hg) after Removing Outliers (using Quantiles)')\n",
        "plt.xlabel('Diastolic Blood Pressure(mm Hg)')\n",
        "plt.show()"
      ],
      "metadata": {
        "colab": {
          "base_uri": "https://localhost:8080/",
          "height": 472
        },
        "id": "38ivlmK0epky",
        "outputId": "8a25ce0c-1108-428c-d412-b9016107faea"
      },
      "execution_count": null,
      "outputs": [
        {
          "output_type": "display_data",
          "data": {
            "text/plain": [
              "<Figure size 640x480 with 1 Axes>"
            ],
            "image/png": "[encoded data removed]"
          },
          "metadata": {}
        }
      ]
    },
    {
      "cell_type": "code",
      "source": [
        "# data size after removing Diastolic Blood Pressure(mm Hg) Outlier\n",
        "print(\"after Diastolic Blood Pressure(mm Hg) Outlier remove : \")\n",
        "filtered_blood_data.shape"
      ],
      "metadata": {
        "colab": {
          "base_uri": "https://localhost:8080/"
        },
        "id": "ZCro0-5BepMc",
        "outputId": "fed15322-0563-45e0-94b5-7f279ca9a817"
      },
      "execution_count": null,
      "outputs": [
        {
          "output_type": "stream",
          "name": "stdout",
          "text": [
            "after Diastolic Blood Pressure(mm Hg) Outlier remove : \n"
          ]
        },
        {
          "output_type": "execute_result",
          "data": {
            "text/plain": [
              "(5816, 9)"
            ]
          },
          "metadata": {},
          "execution_count": 29
        }
      ]
    },
    {
      "cell_type": "code",
      "source": [
        "# Create the box plot for 'BMI(kg/m 2)' with outlier markers\n",
        "sns.boxplot(x=data['BMI(kg/m 2)'], showmeans=True, flierprops={\"marker\": \"o\", \"markerfacecolor\": \"red\", \"markersize\": 8})\n",
        "plt.title('Box Plot for BMI(kg/m 2) with Outliers')\n",
        "plt.xlabel('BMI(kg/m 2)')\n",
        "plt.show()\n",
        "\n",
        "# Assigning the value of filtered_blood_data into filtered_BMI_data\n",
        "filtered_BMI_data=filtered_blood_data"
      ],
      "metadata": {
        "colab": {
          "base_uri": "https://localhost:8080/",
          "height": 472
        },
        "id": "47DN_MaefFHV",
        "outputId": "06b74936-193f-4ed4-a49e-58d3b0cddfd3"
      },
      "execution_count": null,
      "outputs": [
        {
          "output_type": "display_data",
          "data": {
            "text/plain": [
              "<Figure size 640x480 with 1 Axes>"
            ],
            "image/png": "[encoded data removed]"
          },
          "metadata": {}
        }
      ]
    },
    {
      "cell_type": "code",
      "source": [
        "# Data size after removing BMI (Kg/m 2)\n",
        "print(\"after BMI (Kg/m 2) Outlier remove : \")\n",
        "filtered_BMI_data.shape"
      ],
      "metadata": {
        "colab": {
          "base_uri": "https://localhost:8080/"
        },
        "id": "gXTLa8pBfXcb",
        "outputId": "ed648886-3f3d-4332-d959-40789033b9a6"
      },
      "execution_count": null,
      "outputs": [
        {
          "output_type": "stream",
          "name": "stdout",
          "text": [
            "after BMI (Kg/m 2) Outlier remove : \n"
          ]
        },
        {
          "output_type": "execute_result",
          "data": {
            "text/plain": [
              "(5816, 9)"
            ]
          },
          "metadata": {},
          "execution_count": 31
        }
      ]
    },
    {
      "cell_type": "code",
      "source": [
        "# Create the box plot for 'Blood Glucose(Fasting hour-mg/dl)' with outlier markers\n",
        "\n",
        "sns.boxplot(x=data['Blood Glucose(HbA1c)'], showmeans=True, flierprops={\"marker\": \"o\", \"markerfacecolor\": \"red\", \"markersize\": 8})\n",
        "plt.title('Box Plot for Blood Glucose(HbA1c) with Outliers')\n",
        "plt.xlabel('Blood Glucose(HbA1c)')\n",
        "plt.show()\n",
        "\n",
        "filtered_glucose_data = filtered_BMI_data"
      ],
      "metadata": {
        "colab": {
          "base_uri": "https://localhost:8080/",
          "height": 472
        },
        "id": "q6g6VTBnfpjM",
        "outputId": "2c25095d-3a00-4f64-c101-deb7c9acf929"
      },
      "execution_count": null,
      "outputs": [
        {
          "output_type": "display_data",
          "data": {
            "text/plain": [
              "<Figure size 640x480 with 1 Axes>"
            ],
            "image/png": "[encoded data removed]"
          },
          "metadata": {}
        }
      ]
    },
    {
      "cell_type": "code",
      "source": [
        "# Data shape after removing Blood Glucose(HbA1c)\n",
        "print(\"after Blood Glucose(HbA1c) Outlier remove : \")\n",
        "filtered_glucose_data.shape"
      ],
      "metadata": {
        "colab": {
          "base_uri": "https://localhost:8080/"
        },
        "id": "bZFJMzXAf21E",
        "outputId": "ff57e06f-d716-4dca-d0c5-2ab9b25858df"
      },
      "execution_count": null,
      "outputs": [
        {
          "output_type": "stream",
          "name": "stdout",
          "text": [
            "after Blood Glucose(HbA1c) Outlier remove : \n"
          ]
        },
        {
          "output_type": "execute_result",
          "data": {
            "text/plain": [
              "(5816, 9)"
            ]
          },
          "metadata": {},
          "execution_count": 35
        }
      ]
    },
    {
      "cell_type": "code",
      "source": [
        "# Box plot for Blood Glucose(Fasting hour-mg/dl) data\n",
        "\n",
        "sns.boxplot(x=data['Blood Glucose(Fasting hour-mg/dl)'], showmeans=True, flierprops={\"marker\": \"o\", \"markerfacecolor\": \"red\", \"markersize\": 8})\n",
        "plt.title('Box Plot for Blood Glucose(Fasting hour-mg/dl) with Outliers')\n",
        "plt.xlabel('Blood Glucose(Fasting hour-mg/dl)')\n",
        "plt.show()"
      ],
      "metadata": {
        "colab": {
          "base_uri": "https://localhost:8080/",
          "height": 472
        },
        "id": "4Rd5hYmcgIEj",
        "outputId": "72ff5ae5-c234-45a4-a6bc-833ebadc01e0"
      },
      "execution_count": null,
      "outputs": [
        {
          "output_type": "display_data",
          "data": {
            "text/plain": [
              "<Figure size 640x480 with 1 Axes>"
            ],
            "image/png": "[encoded data removed]"
          },
          "metadata": {}
        }
      ]
    },
    {
      "cell_type": "code",
      "source": [
        "# removing the Outlier in Blood Glucose(Fasting hour-mg/dl) and show the boxplot\n",
        "\n",
        "import seaborn as sns\n",
        "import matplotlib.pyplot as plt\n",
        "import numpy as np\n",
        "\n",
        "# Calculate quantiles\n",
        "Q1 = filtered_glucose_data['Blood Glucose(Fasting hour-mg/dl)'].quantile(0.25)\n",
        "Q3 = filtered_glucose_data['Blood Glucose(Fasting hour-mg/dl)'].quantile(0.75)\n",
        "IQR = Q3 - Q1\n",
        "\n",
        "# Define upper and lower bounds for outliers\n",
        "lower_bound = Q1 - 1.5 * IQR\n",
        "upper_bound = Q3 + 1.5 * IQR\n",
        "\n",
        "# Filter data to remove outliers\n",
        "filtered_Fasting_data = filtered_glucose_data[(filtered_glucose_data['Blood Glucose(Fasting hour-mg/dl)'] >= lower_bound) & (filtered_glucose_data['Blood Glucose(Fasting hour-mg/dl)'] <= upper_bound)]\n",
        "\n",
        "# Create the box plot for 'Age' after removing outliers\n",
        "sns.boxplot(x=filtered_Fasting_data['Blood Glucose(Fasting hour-mg/dl)'], showmeans=True)  # Show means for better visualization\n",
        "plt.title('Box Plot for Blood Glucose(Fasting hour-mg/dl) after Removing Outliers (using Quantiles)')\n",
        "plt.xlabel('Blood Glucose(Fasting hour-mg/dl)')\n",
        "plt.show()"
      ],
      "metadata": {
        "colab": {
          "base_uri": "https://localhost:8080/",
          "height": 472
        },
        "id": "m_tu97Gxg4B7",
        "outputId": "754ae3c8-345f-4074-8bec-9c4f758d99d6"
      },
      "execution_count": null,
      "outputs": [
        {
          "output_type": "display_data",
          "data": {
            "text/plain": [
              "<Figure size 640x480 with 1 Axes>"
            ],
            "image/png": "[encoded data removed]"
          },
          "metadata": {}
        }
      ]
    },
    {
      "cell_type": "code",
      "source": [
        "# Data size after removing the 'Blood Glucose(Fasting hour-mg/dl) Outlier\n",
        "print(\"after Blood Glucose(Fasting hour-mg/dl) Outlier remove : \")\n",
        "filtered_Fasting_data.shape"
      ],
      "metadata": {
        "colab": {
          "base_uri": "https://localhost:8080/"
        },
        "id": "rEUsbtBIhHCr",
        "outputId": "d95cb7a5-33fa-420f-ade0-53d5303f9b78"
      },
      "execution_count": null,
      "outputs": [
        {
          "output_type": "stream",
          "name": "stdout",
          "text": [
            "after Blood Glucose(Fasting hour-mg/dl) Outlier remove : \n"
          ]
        },
        {
          "output_type": "execute_result",
          "data": {
            "text/plain": [
              "(5789, 9)"
            ]
          },
          "metadata": {},
          "execution_count": 38
        }
      ]
    },
    {
      "cell_type": "code",
      "source": [
        "# Plotting the Outcome distribution\n",
        "\n",
        "sns.countplot(x='Outcome', data=data)\n",
        "plt.title('Distribution of Outcome')\n",
        "plt.xlabel('Outcome')\n",
        "plt.ylabel('Count')\n",
        "plt.show()"
      ],
      "metadata": {
        "colab": {
          "base_uri": "https://localhost:8080/",
          "height": 472
        },
        "id": "lN8t3-KfhQv8",
        "outputId": "7821f874-86ea-429e-e1ea-1e44a8e1d465"
      },
      "execution_count": null,
      "outputs": [
        {
          "output_type": "display_data",
          "data": {
            "text/plain": [
              "<Figure size 640x480 with 1 Axes>"
            ],
            "image/png": "[encoded data removed]"
          },
          "metadata": {}
        }
      ]
    },
    {
      "cell_type": "code",
      "source": [
        "# Counting the values Of Outcome\n",
        "outcome_distribution = data['Outcome'].value_counts()\n",
        "print(outcome_distribution)"
      ],
      "metadata": {
        "colab": {
          "base_uri": "https://localhost:8080/"
        },
        "id": "mTLkCw3fhZgz",
        "outputId": "950cae5c-3f01-43d9-ab71-bd5ebb266cf5"
      },
      "execution_count": null,
      "outputs": [
        {
          "output_type": "stream",
          "name": "stdout",
          "text": [
            "Outcome\n",
            "2    2059\n",
            "1    2043\n",
            "0    2001\n",
            "Name: count, dtype: int64\n"
          ]
        }
      ]
    },
    {
      "cell_type": "code",
      "source": [
        "# Intital Data shape\n",
        "print(f'Initial Data Shape: {data.shape}')\n",
        "\n",
        "# After removing all Outlier the data shape\n",
        "print(f'After Outlier Removal: {filtered_Fasting_data.shape}')\n"
      ],
      "metadata": {
        "colab": {
          "base_uri": "https://localhost:8080/"
        },
        "id": "l5HcXZD6hdR6",
        "outputId": "e833ff45-4779-42d9-f813-394bbc400354"
      },
      "execution_count": null,
      "outputs": [
        {
          "output_type": "stream",
          "name": "stdout",
          "text": [
            "Initial Data Shape: (6103, 9)\n",
            "After Outlier Removal: (5789, 9)\n"
          ]
        }
      ]
    },
    {
      "cell_type": "code",
      "source": [
        "# after the EDA\n",
        "updated_data = filtered_Fasting_data\n",
        "\n",
        "#showcasing the data\n",
        "updated_data.head()"
      ],
      "metadata": {
        "colab": {
          "base_uri": "https://localhost:8080/",
          "height": 258
        },
        "id": "jjw0YdcXh5NK",
        "outputId": "1281ab39-ec77-43ff-ecb6-07163bd83994"
      },
      "execution_count": null,
      "outputs": [
        {
          "output_type": "execute_result",
          "data": {
            "text/plain": [
              "   Age  Body Temperature(F)   Heart rate(bpm)  Systolic Blood Pressure(mm Hg)  \\\n",
              "0   29                  98.6               84                             129   \n",
              "1   38                 102.5               51                             106   \n",
              "2   21                  98.6               85                             142   \n",
              "3   23                  98.8               70                             141   \n",
              "4   22                 100.1               62                             144   \n",
              "\n",
              "   Diastolic Blood Pressure(mm Hg)  BMI(kg/m 2)  Blood Glucose(HbA1c)  \\\n",
              "0                               87         19.0                    42   \n",
              "1                               91         18.8                    38   \n",
              "2                               89         22.0                    30   \n",
              "3                               80         18.8                    32   \n",
              "4                               92         24.3                    46   \n",
              "\n",
              "   Blood Glucose(Fasting hour-mg/dl)  Outcome  \n",
              "0                                6.4        1  \n",
              "1                                4.3        2  \n",
              "2                                5.6        1  \n",
              "3                                5.6        1  \n",
              "4                                6.7        2  "
            ],
            "text/html": [
              "\n",
              "  <div id=\"df-bbd24a21-2733-4699-be4c-375a48ef6df1\" class=\"colab-df-container\">\n",
              "    <div>\n",
              "<style scoped>\n",
              "    .dataframe tbody tr th:only-of-type {\n",
              "        vertical-align: middle;\n",
              "    }\n",
              "\n",
              "    .dataframe tbody tr th {\n",
              "        vertical-align: top;\n",
              "    }\n",
              "\n",
              "    .dataframe thead th {\n",
              "        text-align: right;\n",
              "    }\n",
              "</style>\n",
              "<table border=\"1\" class=\"dataframe\">\n",
              "  <thead>\n",
              "    <tr style=\"text-align: right;\">\n",
              "      <th></th>\n",
              "      <th>Age</th>\n",
              "      <th>Body Temperature(F)</th>\n",
              "      <th>Heart rate(bpm)</th>\n",
              "      <th>Systolic Blood Pressure(mm Hg)</th>\n",
              "      <th>Diastolic Blood Pressure(mm Hg)</th>\n",
              "      <th>BMI(kg/m 2)</th>\n",
              "      <th>Blood Glucose(HbA1c)</th>\n",
              "      <th>Blood Glucose(Fasting hour-mg/dl)</th>\n",
              "      <th>Outcome</th>\n",
              "    </tr>\n",
              "  </thead>\n",
              "  <tbody>\n",
              "    <tr>\n",
              "      <th>0</th>\n",
              "      <td>29</td>\n",
              "      <td>98.6</td>\n",
              "      <td>84</td>\n",
              "      <td>129</td>\n",
              "      <td>87</td>\n",
              "      <td>19.0</td>\n",
              "      <td>42</td>\n",
              "      <td>6.4</td>\n",
              "      <td>1</td>\n",
              "    </tr>\n",
              "    <tr>\n",
              "      <th>1</th>\n",
              "      <td>38</td>\n",
              "      <td>102.5</td>\n",
              "      <td>51</td>\n",
              "      <td>106</td>\n",
              "      <td>91</td>\n",
              "      <td>18.8</td>\n",
              "      <td>38</td>\n",
              "      <td>4.3</td>\n",
              "      <td>2</td>\n",
              "    </tr>\n",
              "    <tr>\n",
              "      <th>2</th>\n",
              "      <td>21</td>\n",
              "      <td>98.6</td>\n",
              "      <td>85</td>\n",
              "      <td>142</td>\n",
              "      <td>89</td>\n",
              "      <td>22.0</td>\n",
              "      <td>30</td>\n",
              "      <td>5.6</td>\n",
              "      <td>1</td>\n",
              "    </tr>\n",
              "    <tr>\n",
              "      <th>3</th>\n",
              "      <td>23</td>\n",
              "      <td>98.8</td>\n",
              "      <td>70</td>\n",
              "      <td>141</td>\n",
              "      <td>80</td>\n",
              "      <td>18.8</td>\n",
              "      <td>32</td>\n",
              "      <td>5.6</td>\n",
              "      <td>1</td>\n",
              "    </tr>\n",
              "    <tr>\n",
              "      <th>4</th>\n",
              "      <td>22</td>\n",
              "      <td>100.1</td>\n",
              "      <td>62</td>\n",
              "      <td>144</td>\n",
              "      <td>92</td>\n",
              "      <td>24.3</td>\n",
              "      <td>46</td>\n",
              "      <td>6.7</td>\n",
              "      <td>2</td>\n",
              "    </tr>\n",
              "  </tbody>\n",
              "</table>\n",
              "</div>\n",
              "    <div class=\"colab-df-buttons\">\n",
              "\n",
              "  <div class=\"colab-df-container\">\n",
              "    <button class=\"colab-df-convert\" onclick=\"convertToInteractive('df-bbd24a21-2733-4699-be4c-375a48ef6df1')\"\n",
              "            title=\"Convert this dataframe to an interactive table.\"\n",
              "            style=\"display:none;\">\n",
              "\n",
              "  <svg xmlns=\"http://www.w3.org/2000/svg\" height=\"24px\" viewBox=\"0 -960 960 960\">\n",
              "    <path d=\"M120-120v-720h720v720H120Zm60-500h600v-160H180v160Zm220 220h160v-160H400v160Zm0 220h160v-160H400v160ZM180-400h160v-160H180v160Zm440 0h160v-160H620v160ZM180-180h160v-160H180v160Zm440 0h160v-160H620v160Z\"/>\n",
              "  </svg>\n",
              "    </button>\n",
              "\n",
              "  <style>\n",
              "    .colab-df-container {\n",
              "      display:flex;\n",
              "      gap: 12px;\n",
              "    }\n",
              "\n",
              "    .colab-df-convert {\n",
              "      background-color: #E8F0FE;\n",
              "      border: none;\n",
              "      border-radius: 50%;\n",
              "      cursor: pointer;\n",
              "      display: none;\n",
              "      fill: #1967D2;\n",
              "      height: 32px;\n",
              "      padding: 0 0 0 0;\n",
              "      width: 32px;\n",
              "    }\n",
              "\n",
              "    .colab-df-convert:hover {\n",
              "      background-color: #E2EBFA;\n",
              "      box-shadow: 0px 1px 2px rgba(60, 64, 67, 0.3), 0px 1px 3px 1px rgba(60, 64, 67, 0.15);\n",
              "      fill: #174EA6;\n",
              "    }\n",
              "\n",
              "    .colab-df-buttons div {\n",
              "      margin-bottom: 4px;\n",
              "    }\n",
              "\n",
              "    [theme=dark] .colab-df-convert {\n",
              "      background-color: #3B4455;\n",
              "      fill: #D2E3FC;\n",
              "    }\n",
              "\n",
              "    [theme=dark] .colab-df-convert:hover {\n",
              "      background-color: #434B5C;\n",
              "      box-shadow: 0px 1px 3px 1px rgba(0, 0, 0, 0.15);\n",
              "      filter: drop-shadow(0px 1px 2px rgba(0, 0, 0, 0.3));\n",
              "      fill: #FFFFFF;\n",
              "    }\n",
              "  </style>\n",
              "\n",
              "    <script>\n",
              "      const buttonEl =\n",
              "        document.querySelector('#df-bbd24a21-2733-4699-be4c-375a48ef6df1 button.colab-df-convert');\n",
              "      buttonEl.style.display =\n",
              "        google.colab.kernel.accessAllowed ? 'block' : 'none';\n",
              "\n",
              "      async function convertToInteractive(key) {\n",
              "        const element = document.querySelector('#df-bbd24a21-2733-4699-be4c-375a48ef6df1');\n",
              "        const dataTable =\n",
              "          await google.colab.kernel.invokeFunction('convertToInteractive',\n",
              "                                                    [key], {});\n",
              "        if (!dataTable) return;\n",
              "\n",
              "        const docLinkHtml = 'Like what you see? Visit the ' +\n",
              "          '<a target=\"_blank\" href=https://colab.research.google.com/notebooks/data_table.ipynb>data table notebook</a>'\n",
              "          + ' to learn more about interactive tables.';\n",
              "        element.innerHTML = '';\n",
              "        dataTable['output_type'] = 'display_data';\n",
              "        await google.colab.output.renderOutput(dataTable, element);\n",
              "        const docLink = document.createElement('div');\n",
              "        docLink.innerHTML = docLinkHtml;\n",
              "        element.appendChild(docLink);\n",
              "      }\n",
              "    </script>\n",
              "  </div>\n",
              "\n",
              "\n",
              "<div id=\"df-2b9376f2-a9e6-4e9e-af2c-71e27d938cf5\">\n",
              "  <button class=\"colab-df-quickchart\" onclick=\"quickchart('df-2b9376f2-a9e6-4e9e-af2c-71e27d938cf5')\"\n",
              "            title=\"Suggest charts\"\n",
              "            style=\"display:none;\">\n",
              "\n",
              "<svg xmlns=\"http://www.w3.org/2000/svg\" height=\"24px\"viewBox=\"0 0 24 24\"\n",
              "     width=\"24px\">\n",
              "    <g>\n",
              "        <path d=\"M19 3H5c-1.1 0-2 .9-2 2v14c0 1.1.9 2 2 2h14c1.1 0 2-.9 2-2V5c0-1.1-.9-2-2-2zM9 17H7v-7h2v7zm4 0h-2V7h2v10zm4 0h-2v-4h2v4z\"/>\n",
              "    </g>\n",
              "</svg>\n",
              "  </button>\n",
              "\n",
              "<style>\n",
              "  .colab-df-quickchart {\n",
              "      --bg-color: #E8F0FE;\n",
              "      --fill-color: #1967D2;\n",
              "      --hover-bg-color: #E2EBFA;\n",
              "      --hover-fill-color: #174EA6;\n",
              "      --disabled-fill-color: #AAA;\n",
              "      --disabled-bg-color: #DDD;\n",
              "  }\n",
              "\n",
              "  [theme=dark] .colab-df-quickchart {\n",
              "      --bg-color: #3B4455;\n",
              "      --fill-color: #D2E3FC;\n",
              "      --hover-bg-color: #434B5C;\n",
              "      --hover-fill-color: #FFFFFF;\n",
              "      --disabled-bg-color: #3B4455;\n",
              "      --disabled-fill-color: #666;\n",
              "  }\n",
              "\n",
              "  .colab-df-quickchart {\n",
              "    background-color: var(--bg-color);\n",
              "    border: none;\n",
              "    border-radius: 50%;\n",
              "    cursor: pointer;\n",
              "    display: none;\n",
              "    fill: var(--fill-color);\n",
              "    height: 32px;\n",
              "    padding: 0;\n",
              "    width: 32px;\n",
              "  }\n",
              "\n",
              "  .colab-df-quickchart:hover {\n",
              "    background-color: var(--hover-bg-color);\n",
              "    box-shadow: 0 1px 2px rgba(60, 64, 67, 0.3), 0 1px 3px 1px rgba(60, 64, 67, 0.15);\n",
              "    fill: var(--button-hover-fill-color);\n",
              "  }\n",
              "\n",
              "  .colab-df-quickchart-complete:disabled,\n",
              "  .colab-df-quickchart-complete:disabled:hover {\n",
              "    background-color: var(--disabled-bg-color);\n",
              "    fill: var(--disabled-fill-color);\n",
              "    box-shadow: none;\n",
              "  }\n",
              "\n",
              "  .colab-df-spinner {\n",
              "    border: 2px solid var(--fill-color);\n",
              "    border-color: transparent;\n",
              "    border-bottom-color: var(--fill-color);\n",
              "    animation:\n",
              "      spin 1s steps(1) infinite;\n",
              "  }\n",
              "\n",
              "  @keyframes spin {\n",
              "    0% {\n",
              "      border-color: transparent;\n",
              "      border-bottom-color: var(--fill-color);\n",
              "      border-left-color: var(--fill-color);\n",
              "    }\n",
              "    20% {\n",
              "      border-color: transparent;\n",
              "      border-left-color: var(--fill-color);\n",
              "      border-top-color: var(--fill-color);\n",
              "    }\n",
              "    30% {\n",
              "      border-color: transparent;\n",
              "      border-left-color: var(--fill-color);\n",
              "      border-top-color: var(--fill-color);\n",
              "      border-right-color: var(--fill-color);\n",
              "    }\n",
              "    40% {\n",
              "      border-color: transparent;\n",
              "      border-right-color: var(--fill-color);\n",
              "      border-top-color: var(--fill-color);\n",
              "    }\n",
              "    60% {\n",
              "      border-color: transparent;\n",
              "      border-right-color: var(--fill-color);\n",
              "    }\n",
              "    80% {\n",
              "      border-color: transparent;\n",
              "      border-right-color: var(--fill-color);\n",
              "      border-bottom-color: var(--fill-color);\n",
              "    }\n",
              "    90% {\n",
              "      border-color: transparent;\n",
              "      border-bottom-color: var(--fill-color);\n",
              "    }\n",
              "  }\n",
              "</style>\n",
              "\n",
              "  <script>\n",
              "    async function quickchart(key) {\n",
              "      const quickchartButtonEl =\n",
              "        document.querySelector('#' + key + ' button');\n",
              "      quickchartButtonEl.disabled = true;  // To prevent multiple clicks.\n",
              "      quickchartButtonEl.classList.add('colab-df-spinner');\n",
              "      try {\n",
              "        const charts = await google.colab.kernel.invokeFunction(\n",
              "            'suggestCharts', [key], {});\n",
              "      } catch (error) {\n",
              "        console.error('Error during call to suggestCharts:', error);\n",
              "      }\n",
              "      quickchartButtonEl.classList.remove('colab-df-spinner');\n",
              "      quickchartButtonEl.classList.add('colab-df-quickchart-complete');\n",
              "    }\n",
              "    (() => {\n",
              "      let quickchartButtonEl =\n",
              "        document.querySelector('#df-2b9376f2-a9e6-4e9e-af2c-71e27d938cf5 button');\n",
              "      quickchartButtonEl.style.display =\n",
              "        google.colab.kernel.accessAllowed ? 'block' : 'none';\n",
              "    })();\n",
              "  </script>\n",
              "</div>\n",
              "\n",
              "    </div>\n",
              "  </div>\n"
            ],
            "application/vnd.google.colaboratory.intrinsic+json": {
              "type": "dataframe",
              "variable_name": "updated_data",
              "summary": "{\n  \"name\": \"updated_data\",\n  \"rows\": 5789,\n  \"fields\": [\n    {\n      \"column\": \"Age\",\n      \"properties\": {\n        \"dtype\": \"number\",\n        \"std\": 5,\n        \"min\": 15,\n        \"max\": 42,\n        \"num_unique_values\": 28,\n        \"samples\": [\n          20,\n          16,\n          25\n        ],\n        \"semantic_type\": \"\",\n        \"description\": \"\"\n      }\n    },\n    {\n      \"column\": \"Body Temperature(F) \",\n      \"properties\": {\n        \"dtype\": \"number\",\n        \"std\": 1.2549534628707457,\n        \"min\": 94.0,\n        \"max\": 103.3,\n        \"num_unique_values\": 93,\n        \"samples\": [\n          99.2,\n          103.0,\n          100.5\n        ],\n        \"semantic_type\": \"\",\n        \"description\": \"\"\n      }\n    },\n    {\n      \"column\": \"Heart rate(bpm)\",\n      \"properties\": {\n        \"dtype\": \"number\",\n        \"std\": 21,\n        \"min\": 45,\n        \"max\": 148,\n        \"num_unique_values\": 104,\n        \"samples\": [\n          66,\n          142,\n          144\n        ],\n        \"semantic_type\": \"\",\n        \"description\": \"\"\n      }\n    },\n    {\n      \"column\": \"Systolic Blood Pressure(mm Hg)\",\n      \"properties\": {\n        \"dtype\": \"number\",\n        \"std\": 16,\n        \"min\": 90,\n        \"max\": 168,\n        \"num_unique_values\": 78,\n        \"samples\": [\n          111,\n          129,\n          151\n        ],\n        \"semantic_type\": \"\",\n        \"description\": \"\"\n      }\n    },\n    {\n      \"column\": \"Diastolic Blood Pressure(mm Hg)\",\n      \"properties\": {\n        \"dtype\": \"number\",\n        \"std\": 6,\n        \"min\": 67,\n        \"max\": 107,\n        \"num_unique_values\": 41,\n        \"samples\": [\n          101,\n          85,\n          93\n        ],\n        \"semantic_type\": \"\",\n        \"description\": \"\"\n      }\n    },\n    {\n      \"column\": \"BMI(kg/m 2)\",\n      \"properties\": {\n        \"dtype\": \"number\",\n        \"std\": 2.167180623236964,\n        \"min\": 14.9,\n        \"max\": 27.9,\n        \"num_unique_values\": 127,\n        \"samples\": [\n          23.6,\n          27.1,\n          26.3\n        ],\n        \"semantic_type\": \"\",\n        \"description\": \"\"\n      }\n    },\n    {\n      \"column\": \"Blood Glucose(HbA1c)\",\n      \"properties\": {\n        \"dtype\": \"number\",\n        \"std\": 4,\n        \"min\": 30,\n        \"max\": 50,\n        \"num_unique_values\": 21,\n        \"samples\": [\n          42,\n          48,\n          45\n        ],\n        \"semantic_type\": \"\",\n        \"description\": \"\"\n      }\n    },\n    {\n      \"column\": \"Blood Glucose(Fasting hour-mg/dl)\",\n      \"properties\": {\n        \"dtype\": \"number\",\n        \"std\": 0.8912314967305757,\n        \"min\": 3.5,\n        \"max\": 7.8,\n        \"num_unique_values\": 44,\n        \"samples\": [\n          7.2,\n          5.3,\n          4.6\n        ],\n        \"semantic_type\": \"\",\n        \"description\": \"\"\n      }\n    },\n    {\n      \"column\": \"Outcome\",\n      \"properties\": {\n        \"dtype\": \"number\",\n        \"std\": 0,\n        \"min\": 0,\n        \"max\": 2,\n        \"num_unique_values\": 3,\n        \"samples\": [\n          1,\n          2,\n          0\n        ],\n        \"semantic_type\": \"\",\n        \"description\": \"\"\n      }\n    }\n  ]\n}"
            }
          },
          "metadata": {},
          "execution_count": 43
        }
      ]
    },
    {
      "cell_type": "code",
      "source": [
        "# Print the correlation heatmap\n",
        "\n",
        "import seaborn as sns\n",
        "import matplotlib.pyplot as plt\n",
        "import numpy as np # Import numpy for numeric operations\n",
        "\n",
        "\n",
        "# Calculate the correlation matrix, only including numeric columns\n",
        "correlation_matrix = updated_data.select_dtypes(include=np.number).corr()\n",
        "\n",
        "# Create the heatmap\n",
        "plt.figure(figsize=(10, 8))  # Adjust figure size if needed\n",
        "sns.heatmap(correlation_matrix, annot=True, cmap='coolwarm', fmt=\".2f\")\n",
        "plt.title('Correlation Heatmap of Updated Data')\n",
        "plt.show()"
      ],
      "metadata": {
        "colab": {
          "base_uri": "https://localhost:8080/",
          "height": 879
        },
        "id": "U4_vOiKtiDKj",
        "outputId": "233e3b8f-1a4c-48d5-cd1d-339955b9dffe"
      },
      "execution_count": null,
      "outputs": [
        {
          "output_type": "display_data",
          "data": {
            "text/plain": [
              "<Figure size 1000x800 with 2 Axes>"
            ],
            "image/png": "[encoded data removed]"
          },
          "metadata": {}
        }
      ]
    },
    {
      "cell_type": "code",
      "source": [
        "# Split the data in train and test\n",
        "from sklearn.model_selection import train_test_split\n",
        "X = data.drop(['Outcome'],axis=1)\n",
        "y = data['Outcome']  # Target variable\n",
        "X_train, X_test, y_train, y_test = train_test_split(X, y, test_size=0.2, random_state=42)  # 80% train, 20% test\n",
        "\n",
        "X_train.shape, X_test.shape, y_train.shape, y_test.shape"
      ],
      "metadata": {
        "colab": {
          "base_uri": "https://localhost:8080/"
        },
        "id": "c_67GuBNiSR-",
        "outputId": "6e3a73f1-8bf5-4e56-c7d5-5599f9d23a49"
      },
      "execution_count": null,
      "outputs": [
        {
          "output_type": "execute_result",
          "data": {
            "text/plain": [
              "((4882, 8), (1221, 8), (4882,), (1221,))"
            ]
          },
          "metadata": {},
          "execution_count": 45
        }
      ]
    },
    {
      "cell_type": "code",
      "source": [
        "# Predict using Linear Regression\n",
        "\n",
        "from sklearn.linear_model import LogisticRegression\n",
        "from sklearn.metrics import accuracy_score, classification_report, confusion_matrix\n",
        "# Create a Logistic Regression model\n",
        "model = LogisticRegression(max_iter=1000)\n",
        "model.fit(X_train, y_train)\n",
        "y_pred = model.predict(X_test)\n",
        "\n",
        "accuracy = accuracy_score(y_test, y_pred)\n",
        "print(f\"Accuracy: {accuracy}\")\n",
        "\n",
        "# Print classification report and confusion matrix\n",
        "print(classification_report(y_test, y_pred))\n",
        "print(confusion_matrix(y_test, y_pred))"
      ],
      "metadata": {
        "colab": {
          "base_uri": "https://localhost:8080/"
        },
        "id": "YdQpJgGWiSPe",
        "outputId": "7356ac1a-d433-4115-a95c-dfa901c4a1b0"
      },
      "execution_count": null,
      "outputs": [
        {
          "output_type": "stream",
          "name": "stdout",
          "text": [
            "Accuracy: 0.556920556920557\n",
            "              precision    recall  f1-score   support\n",
            "\n",
            "           0       0.61      0.77      0.68       397\n",
            "           1       0.49      0.48      0.49       405\n",
            "           2       0.56      0.43      0.49       419\n",
            "\n",
            "    accuracy                           0.56      1221\n",
            "   macro avg       0.55      0.56      0.55      1221\n",
            "weighted avg       0.55      0.56      0.55      1221\n",
            "\n",
            "[[305  66  26]\n",
            " [ 97 196 112]\n",
            " [102 138 179]]\n"
          ]
        },
        {
          "output_type": "stream",
          "name": "stderr",
          "text": [
            "/usr/local/lib/python3.10/dist-packages/sklearn/linear_model/_logistic.py:469: ConvergenceWarning: lbfgs failed to converge (status=1):\n",
            "STOP: TOTAL NO. of ITERATIONS REACHED LIMIT.\n",
            "\n",
            "Increase the number of iterations (max_iter) or scale the data as shown in:\n",
            "    https://scikit-learn.org/stable/modules/preprocessing.html\n",
            "Please also refer to the documentation for alternative solver options:\n",
            "    https://scikit-learn.org/stable/modules/linear_model.html#logistic-regression\n",
            "  n_iter_i = _check_optimize_result(\n"
          ]
        }
      ]
    },
    {
      "cell_type": "code",
      "source": [
        "# Printing the elbow method for suitable K values\n",
        "import matplotlib.pyplot as plt\n",
        "from sklearn.neighbors import KNeighborsClassifier\n",
        "from sklearn.model_selection import train_test_split\n",
        "from sklearn.metrics import accuracy_score\n",
        "\n",
        "# Assuming X and y are already defined from your previous code\n",
        "X_train, X_test, y_train, y_test = train_test_split(X, y, test_size=0.2, random_state=42)\n",
        "\n",
        "# Range of k values to test\n",
        "k_values = range(1, 21)  # You can adjust this range\n",
        "\n",
        "# List to store error rates for each k\n",
        "error_rates = []\n",
        "\n",
        "# Calculate error rates for different k values\n",
        "for k in k_values:\n",
        "    knn = KNeighborsClassifier(n_neighbors=k)\n",
        "    knn.fit(X_train, y_train)\n",
        "    y_pred = knn.predict(X_test)\n",
        "    error_rates.append(1 - accuracy_score(y_test, y_pred))  # Store error rate\n",
        "\n",
        "# Plot the elbow curve\n",
        "plt.plot(k_values, error_rates, marker='o')\n",
        "plt.title('Elbow Curve for KNN')\n",
        "plt.xlabel('Number of Neighbors (k)')\n",
        "plt.ylabel('Error Rate')\n",
        "plt.show()"
      ],
      "metadata": {
        "colab": {
          "base_uri": "https://localhost:8080/",
          "height": 472
        },
        "id": "fd8N9j8sitTV",
        "outputId": "5b11fcf4-4f22-4fc7-e229-876ec452217e"
      },
      "execution_count": null,
      "outputs": [
        {
          "output_type": "display_data",
          "data": {
            "text/plain": [
              "<Figure size 640x480 with 1 Axes>"
            ],
            "image/png": "[encoded data removed]"
          },
          "metadata": {}
        }
      ]
    },
    {
      "cell_type": "code",
      "source": [
        "# Implementing KNN Model\n",
        "\n",
        "from sklearn.model_selection import train_test_split\n",
        "from sklearn.neighbors import KNeighborsClassifier\n",
        "from sklearn.metrics import accuracy_score, classification_report, confusion_matrix\n",
        "\n",
        "# Create a KNN classifier with k=5 (you can experiment with different values)\n",
        "knn = KNeighborsClassifier(n_neighbors=5)\n",
        "\n",
        "# Train the model\n",
        "knn.fit(X_train, y_train)\n",
        "\n",
        "y_pred = knn.predict(X_test)\n",
        "\n",
        "# Calculate accuracy\n",
        "accuracy = accuracy_score(y_test, y_pred)\n",
        "print(f\"Accuracy: {accuracy}\")\n",
        "\n",
        "# Print classification report and confusion matrix\n",
        "print(classification_report(y_test, y_pred))\n",
        "print(confusion_matrix(y_test, y_pred))"
      ],
      "metadata": {
        "colab": {
          "base_uri": "https://localhost:8080/"
        },
        "id": "3TL4C7mbizW7",
        "outputId": "73296d3c-ee1b-432f-f2d7-29cddc734e56"
      },
      "execution_count": null,
      "outputs": [
        {
          "output_type": "stream",
          "name": "stdout",
          "text": [
            "Accuracy: 0.8951678951678952\n",
            "              precision    recall  f1-score   support\n",
            "\n",
            "           0       0.93      1.00      0.96       397\n",
            "           1       0.84      0.89      0.86       405\n",
            "           2       0.93      0.80      0.86       419\n",
            "\n",
            "    accuracy                           0.90      1221\n",
            "   macro avg       0.90      0.90      0.89      1221\n",
            "weighted avg       0.90      0.90      0.89      1221\n",
            "\n",
            "[[397   0   0]\n",
            " [ 17 361  27]\n",
            " [ 14  70 335]]\n"
          ]
        }
      ]
    },
    {
      "cell_type": "code",
      "source": [
        "# Implementing Random Forest Classifier\n",
        "\n",
        "from sklearn.ensemble import RandomForestClassifier\n",
        "from sklearn.metrics import accuracy_score, classification_report, confusion_matrix\n",
        "\n",
        "# 1. Create a Random Forest Classifier\n",
        "rf_classifier = RandomForestClassifier(n_estimators=100, random_state=42)  # You can adjust hyperparameters\n",
        "\n",
        "# 2. Train the model\n",
        "rf_classifier.fit(X_train, y_train)\n",
        "\n",
        "# 3. Make predictions\n",
        "y_pred = rf_classifier.predict(X_test)\n",
        "\n",
        "# 4. Evaluate the model\n",
        "accuracy = accuracy_score(y_test, y_pred)\n",
        "print(f\"Accuracy: {accuracy}\")\n",
        "\n",
        "print(classification_report(y_test, y_pred))\n",
        "print(confusion_matrix(y_test, y_pred))"
      ],
      "metadata": {
        "colab": {
          "base_uri": "https://localhost:8080/"
        },
        "id": "sAtPm3qMi59T",
        "outputId": "e3f6ac86-bffe-4ea1-894e-cdd86652c381"
      },
      "execution_count": null,
      "outputs": [
        {
          "output_type": "stream",
          "name": "stdout",
          "text": [
            "Accuracy: 0.9918099918099919\n",
            "              precision    recall  f1-score   support\n",
            "\n",
            "           0       1.00      1.00      1.00       397\n",
            "           1       0.99      0.99      0.99       405\n",
            "           2       0.99      0.99      0.99       419\n",
            "\n",
            "    accuracy                           0.99      1221\n",
            "   macro avg       0.99      0.99      0.99      1221\n",
            "weighted avg       0.99      0.99      0.99      1221\n",
            "\n",
            "[[396   0   1]\n",
            " [  1 401   3]\n",
            " [  0   5 414]]\n"
          ]
        }
      ]
    },
    {
      "cell_type": "code",
      "source": [
        "# Implementing XG BOOST Classifier\n",
        "\n",
        "from sklearn.preprocessing import LabelEncoder\n",
        "from xgboost import XGBClassifier # Import XGBClassifier\n",
        "\n",
        "# Create a LabelEncoder\n",
        "label_encoder = LabelEncoder()\n",
        "\n",
        "# Fit the encoder to your training target labels and transform them\n",
        "y_train_encoded = label_encoder.fit_transform(y_train)\n",
        "\n",
        "# Create an XGBoost classifier\n",
        "xgb_classifier = XGBClassifier() # Initialize xgb_classifier\n",
        "\n",
        "# Train the model using the encoded target labels\n",
        "xgb_classifier.fit(X_train, y_train_encoded)\n",
        "\n",
        "# To make predictions, you'll need to encode the test data as well:\n",
        "y_pred = xgb_classifier.predict(X_test)\n",
        "y_pred = label_encoder.inverse_transform(y_pred) # Convert predictions back to original labels\n",
        "\n",
        "# Now you can evaluate the model\n",
        "from sklearn.metrics import accuracy_score, classification_report, confusion_matrix # Import necessary metrics functions if not already imported\n",
        "accuracy = accuracy_score(y_test, y_pred)\n",
        "print(f\"Accuracy: {accuracy}\")\n",
        "\n",
        "print(classification_report(y_test, y_pred))\n",
        "print(confusion_matrix(y_test, y_pred))"
      ],
      "metadata": {
        "colab": {
          "base_uri": "https://localhost:8080/"
        },
        "id": "tVCfFKH-jKRj",
        "outputId": "545a51fd-45aa-437f-dc69-9b75db98a855"
      },
      "execution_count": null,
      "outputs": [
        {
          "output_type": "stream",
          "name": "stdout",
          "text": [
            "Accuracy: 0.9926289926289926\n",
            "              precision    recall  f1-score   support\n",
            "\n",
            "           0       1.00      1.00      1.00       397\n",
            "           1       0.99      0.99      0.99       405\n",
            "           2       0.99      0.99      0.99       419\n",
            "\n",
            "    accuracy                           0.99      1221\n",
            "   macro avg       0.99      0.99      0.99      1221\n",
            "weighted avg       0.99      0.99      0.99      1221\n",
            "\n",
            "[[396   0   1]\n",
            " [  1 401   3]\n",
            " [  0   4 415]]\n"
          ]
        }
      ]
    },
    {
      "cell_type": "code",
      "source": [
        "# Implemtation in SVM\n",
        "\n",
        "from sklearn.svm import SVC\n",
        "from sklearn.model_selection import train_test_split\n",
        "from sklearn.preprocessing import StandardScaler\n",
        "from sklearn.metrics import accuracy_score\n",
        "\n",
        "# Assuming X and y are already defined from your previous code\n",
        "X_train, X_test, y_train, y_test = train_test_split(X, y, test_size=0.2, random_state=42)\n",
        "\n",
        "# Feature Scaling\n",
        "scaler = StandardScaler()\n",
        "X_train_scaled = scaler.fit_transform(X_train)\n",
        "X_test_scaled = scaler.transform(X_test)\n",
        "\n",
        "# Create and train the SVM model with a polynomial kernel\n",
        "svm_classifier = SVC(kernel='poly', degree=3)\n",
        "svm_classifier.fit(X_train_scaled, y_train)\n",
        "\n",
        "# Make predictions and evaluate the model\n",
        "y_pred = svm_classifier.predict(X_test_scaled)\n",
        "accuracy = accuracy_score(y_test, y_pred)\n",
        "print(f\"Accuracy: {accuracy}\")"
      ],
      "metadata": {
        "colab": {
          "base_uri": "https://localhost:8080/"
        },
        "id": "169hWXP0jnTb",
        "outputId": "2ac8a76e-8b7f-49eb-8530-c019c0cd6fe2"
      },
      "execution_count": null,
      "outputs": [
        {
          "output_type": "stream",
          "name": "stdout",
          "text": [
            "Accuracy: 0.8083538083538083\n"
          ]
        }
      ]
    },
    {
      "cell_type": "code",
      "source": [
        "# Checking for Decision Tree Classifier\n",
        "\n",
        "from sklearn.tree import DecisionTreeClassifier\n",
        "from sklearn.metrics import accuracy_score, classification_report, confusion_matrix\n",
        "\n",
        "# Create a Decision Tree classifier\n",
        "tree_classifier = DecisionTreeClassifier(random_state=42)  # You can adjust hyperparameters here\n",
        "\n",
        "# Train the model\n",
        "tree_classifier.fit(X_train, y_train)\n",
        "\n",
        "# Make predictions on the test set\n",
        "y_pred = tree_classifier.predict(X_test)\n",
        "\n",
        "# Calculate accuracy\n",
        "accuracy = accuracy_score(y_test, y_pred)\n",
        "print(f\"Accuracy: {accuracy}\")\n",
        "\n",
        "# Print classification report and confusion matrix\n",
        "print(classification_report(y_test, y_pred))\n",
        "print(confusion_matrix(y_test, y_pred))"
      ],
      "metadata": {
        "colab": {
          "base_uri": "https://localhost:8080/"
        },
        "id": "XU-aXaPkjyMG",
        "outputId": "f61d5616-c17c-45dc-e2a3-b61374018301"
      },
      "execution_count": null,
      "outputs": [
        {
          "output_type": "stream",
          "name": "stdout",
          "text": [
            "Accuracy: 0.9852579852579852\n",
            "              precision    recall  f1-score   support\n",
            "\n",
            "           0       0.99      0.99      0.99       397\n",
            "           1       0.98      0.98      0.98       405\n",
            "           2       0.98      0.99      0.99       419\n",
            "\n",
            "    accuracy                           0.99      1221\n",
            "   macro avg       0.99      0.99      0.99      1221\n",
            "weighted avg       0.99      0.99      0.99      1221\n",
            "\n",
            "[[393   3   1]\n",
            " [  3 396   6]\n",
            " [  0   5 414]]\n"
          ]
        }
      ]
    },
    {
      "cell_type": "code",
      "source": [
        "# printing the decision Tree\n",
        "\n",
        "from sklearn.tree import plot_tree\n",
        "import matplotlib.pyplot as plt\n",
        "\n",
        "plt.figure(figsize=(12, 8))  # Adjust figure size as needed\n",
        "plot_tree(tree_classifier, feature_names=X.columns, class_names=['low risk', 'mid risk', 'high risk'], filled=True)\n",
        "plt.show()"
      ],
      "metadata": {
        "colab": {
          "base_uri": "https://localhost:8080/",
          "height": 647
        },
        "id": "eurbYN1ej9Sj",
        "outputId": "72d937c0-d42b-4f7d-ee2a-d8cd00b24ec3"
      },
      "execution_count": null,
      "outputs": [
        {
          "output_type": "display_data",
          "data": {
            "text/plain": [
              "<Figure size 1200x800 with 1 Axes>"
            ],
            "image/png": "[encoded data removed]"
          },
          "metadata": {}
        }
      ]
    },
    {
      "cell_type": "code",
      "source": [
        "# importing test data\n",
        "test_data=pd.read_excel('/content/Test3.xlsx')\n",
        "\n",
        "#check the size of Test data\n",
        "test_data.shape"
      ],
      "metadata": {
        "colab": {
          "base_uri": "https://localhost:8080/"
        },
        "id": "MvM0rT1zkFgD",
        "outputId": "01b611f2-28c7-4c84-c145-f26e99d900c1"
      },
      "execution_count": null,
      "outputs": [
        {
          "output_type": "execute_result",
          "data": {
            "text/plain": [
              "(9, 9)"
            ]
          },
          "metadata": {},
          "execution_count": 56
        }
      ]
    },
    {
      "cell_type": "code",
      "source": [
        "# showing the test_data\n",
        "\n",
        "test_data.head()"
      ],
      "metadata": {
        "colab": {
          "base_uri": "https://localhost:8080/",
          "height": 258
        },
        "id": "zyulYNkokY3t",
        "outputId": "564dd156-3cfd-4f3f-a121-18790f94a15b"
      },
      "execution_count": null,
      "outputs": [
        {
          "output_type": "execute_result",
          "data": {
            "text/plain": [
              "   Age  Body Temperature(F)  Heart rate(bpm)  Systolic Blood Pressure(mm Hg)  \\\n",
              "0   25                   98               86                             130   \n",
              "1   35                   98               70                             140   \n",
              "2   29                  100               80                              90   \n",
              "3   30                   98               70                             140   \n",
              "4   35                   98               76                             120   \n",
              "\n",
              "   Diastolic Blood Pressure(mm Hg)  BMI(kg/m 2)  Blood Glucose(HbA1c)  \\\n",
              "0                               80         24.9                    46   \n",
              "1                               90         22.1                    34   \n",
              "2                               70         19.0                    41   \n",
              "3                               85         23.7                    33   \n",
              "4                               60         18.8                    44   \n",
              "\n",
              "   Blood Glucose(Fasting hour-mg/dl)  Outcome  \n",
              "0                                6.7        2  \n",
              "1                                4.4        2  \n",
              "2                                5.8        2  \n",
              "3                                4.7        2  \n",
              "4                                6.2        0  "
            ],
            "text/html": [
              "\n",
              "  <div id=\"df-e6b684be-e37c-440d-b1fb-d964d2a10e0b\" class=\"colab-df-container\">\n",
              "    <div>\n",
              "<style scoped>\n",
              "    .dataframe tbody tr th:only-of-type {\n",
              "        vertical-align: middle;\n",
              "    }\n",
              "\n",
              "    .dataframe tbody tr th {\n",
              "        vertical-align: top;\n",
              "    }\n",
              "\n",
              "    .dataframe thead th {\n",
              "        text-align: right;\n",
              "    }\n",
              "</style>\n",
              "<table border=\"1\" class=\"dataframe\">\n",
              "  <thead>\n",
              "    <tr style=\"text-align: right;\">\n",
              "      <th></th>\n",
              "      <th>Age</th>\n",
              "      <th>Body Temperature(F)</th>\n",
              "      <th>Heart rate(bpm)</th>\n",
              "      <th>Systolic Blood Pressure(mm Hg)</th>\n",
              "      <th>Diastolic Blood Pressure(mm Hg)</th>\n",
              "      <th>BMI(kg/m 2)</th>\n",
              "      <th>Blood Glucose(HbA1c)</th>\n",
              "      <th>Blood Glucose(Fasting hour-mg/dl)</th>\n",
              "      <th>Outcome</th>\n",
              "    </tr>\n",
              "  </thead>\n",
              "  <tbody>\n",
              "    <tr>\n",
              "      <th>0</th>\n",
              "      <td>25</td>\n",
              "      <td>98</td>\n",
              "      <td>86</td>\n",
              "      <td>130</td>\n",
              "      <td>80</td>\n",
              "      <td>24.9</td>\n",
              "      <td>46</td>\n",
              "      <td>6.7</td>\n",
              "      <td>2</td>\n",
              "    </tr>\n",
              "    <tr>\n",
              "      <th>1</th>\n",
              "      <td>35</td>\n",
              "      <td>98</td>\n",
              "      <td>70</td>\n",
              "      <td>140</td>\n",
              "      <td>90</td>\n",
              "      <td>22.1</td>\n",
              "      <td>34</td>\n",
              "      <td>4.4</td>\n",
              "      <td>2</td>\n",
              "    </tr>\n",
              "    <tr>\n",
              "      <th>2</th>\n",
              "      <td>29</td>\n",
              "      <td>100</td>\n",
              "      <td>80</td>\n",
              "      <td>90</td>\n",
              "      <td>70</td>\n",
              "      <td>19.0</td>\n",
              "      <td>41</td>\n",
              "      <td>5.8</td>\n",
              "      <td>2</td>\n",
              "    </tr>\n",
              "    <tr>\n",
              "      <th>3</th>\n",
              "      <td>30</td>\n",
              "      <td>98</td>\n",
              "      <td>70</td>\n",
              "      <td>140</td>\n",
              "      <td>85</td>\n",
              "      <td>23.7</td>\n",
              "      <td>33</td>\n",
              "      <td>4.7</td>\n",
              "      <td>2</td>\n",
              "    </tr>\n",
              "    <tr>\n",
              "      <th>4</th>\n",
              "      <td>35</td>\n",
              "      <td>98</td>\n",
              "      <td>76</td>\n",
              "      <td>120</td>\n",
              "      <td>60</td>\n",
              "      <td>18.8</td>\n",
              "      <td>44</td>\n",
              "      <td>6.2</td>\n",
              "      <td>0</td>\n",
              "    </tr>\n",
              "  </tbody>\n",
              "</table>\n",
              "</div>\n",
              "    <div class=\"colab-df-buttons\">\n",
              "\n",
              "  <div class=\"colab-df-container\">\n",
              "    <button class=\"colab-df-convert\" onclick=\"convertToInteractive('df-e6b684be-e37c-440d-b1fb-d964d2a10e0b')\"\n",
              "            title=\"Convert this dataframe to an interactive table.\"\n",
              "            style=\"display:none;\">\n",
              "\n",
              "  <svg xmlns=\"http://www.w3.org/2000/svg\" height=\"24px\" viewBox=\"0 -960 960 960\">\n",
              "    <path d=\"M120-120v-720h720v720H120Zm60-500h600v-160H180v160Zm220 220h160v-160H400v160Zm0 220h160v-160H400v160ZM180-400h160v-160H180v160Zm440 0h160v-160H620v160ZM180-180h160v-160H180v160Zm440 0h160v-160H620v160Z\"/>\n",
              "  </svg>\n",
              "    </button>\n",
              "\n",
              "  <style>\n",
              "    .colab-df-container {\n",
              "      display:flex;\n",
              "      gap: 12px;\n",
              "    }\n",
              "\n",
              "    .colab-df-convert {\n",
              "      background-color: #E8F0FE;\n",
              "      border: none;\n",
              "      border-radius: 50%;\n",
              "      cursor: pointer;\n",
              "      display: none;\n",
              "      fill: #1967D2;\n",
              "      height: 32px;\n",
              "      padding: 0 0 0 0;\n",
              "      width: 32px;\n",
              "    }\n",
              "\n",
              "    .colab-df-convert:hover {\n",
              "      background-color: #E2EBFA;\n",
              "      box-shadow: 0px 1px 2px rgba(60, 64, 67, 0.3), 0px 1px 3px 1px rgba(60, 64, 67, 0.15);\n",
              "      fill: #174EA6;\n",
              "    }\n",
              "\n",
              "    .colab-df-buttons div {\n",
              "      margin-bottom: 4px;\n",
              "    }\n",
              "\n",
              "    [theme=dark] .colab-df-convert {\n",
              "      background-color: #3B4455;\n",
              "      fill: #D2E3FC;\n",
              "    }\n",
              "\n",
              "    [theme=dark] .colab-df-convert:hover {\n",
              "      background-color: #434B5C;\n",
              "      box-shadow: 0px 1px 3px 1px rgba(0, 0, 0, 0.15);\n",
              "      filter: drop-shadow(0px 1px 2px rgba(0, 0, 0, 0.3));\n",
              "      fill: #FFFFFF;\n",
              "    }\n",
              "  </style>\n",
              "\n",
              "    <script>\n",
              "      const buttonEl =\n",
              "        document.querySelector('#df-e6b684be-e37c-440d-b1fb-d964d2a10e0b button.colab-df-convert');\n",
              "      buttonEl.style.display =\n",
              "        google.colab.kernel.accessAllowed ? 'block' : 'none';\n",
              "\n",
              "      async function convertToInteractive(key) {\n",
              "        const element = document.querySelector('#df-e6b684be-e37c-440d-b1fb-d964d2a10e0b');\n",
              "        const dataTable =\n",
              "          await google.colab.kernel.invokeFunction('convertToInteractive',\n",
              "                                                    [key], {});\n",
              "        if (!dataTable) return;\n",
              "\n",
              "        const docLinkHtml = 'Like what you see? Visit the ' +\n",
              "          '<a target=\"_blank\" href=https://colab.research.google.com/notebooks/data_table.ipynb>data table notebook</a>'\n",
              "          + ' to learn more about interactive tables.';\n",
              "        element.innerHTML = '';\n",
              "        dataTable['output_type'] = 'display_data';\n",
              "        await google.colab.output.renderOutput(dataTable, element);\n",
              "        const docLink = document.createElement('div');\n",
              "        docLink.innerHTML = docLinkHtml;\n",
              "        element.appendChild(docLink);\n",
              "      }\n",
              "    </script>\n",
              "  </div>\n",
              "\n",
              "\n",
              "<div id=\"df-b28d5942-ef72-45fd-bc7c-3bb5ecdece04\">\n",
              "  <button class=\"colab-df-quickchart\" onclick=\"quickchart('df-b28d5942-ef72-45fd-bc7c-3bb5ecdece04')\"\n",
              "            title=\"Suggest charts\"\n",
              "            style=\"display:none;\">\n",
              "\n",
              "<svg xmlns=\"http://www.w3.org/2000/svg\" height=\"24px\"viewBox=\"0 0 24 24\"\n",
              "     width=\"24px\">\n",
              "    <g>\n",
              "        <path d=\"M19 3H5c-1.1 0-2 .9-2 2v14c0 1.1.9 2 2 2h14c1.1 0 2-.9 2-2V5c0-1.1-.9-2-2-2zM9 17H7v-7h2v7zm4 0h-2V7h2v10zm4 0h-2v-4h2v4z\"/>\n",
              "    </g>\n",
              "</svg>\n",
              "  </button>\n",
              "\n",
              "<style>\n",
              "  .colab-df-quickchart {\n",
              "      --bg-color: #E8F0FE;\n",
              "      --fill-color: #1967D2;\n",
              "      --hover-bg-color: #E2EBFA;\n",
              "      --hover-fill-color: #174EA6;\n",
              "      --disabled-fill-color: #AAA;\n",
              "      --disabled-bg-color: #DDD;\n",
              "  }\n",
              "\n",
              "  [theme=dark] .colab-df-quickchart {\n",
              "      --bg-color: #3B4455;\n",
              "      --fill-color: #D2E3FC;\n",
              "      --hover-bg-color: #434B5C;\n",
              "      --hover-fill-color: #FFFFFF;\n",
              "      --disabled-bg-color: #3B4455;\n",
              "      --disabled-fill-color: #666;\n",
              "  }\n",
              "\n",
              "  .colab-df-quickchart {\n",
              "    background-color: var(--bg-color);\n",
              "    border: none;\n",
              "    border-radius: 50%;\n",
              "    cursor: pointer;\n",
              "    display: none;\n",
              "    fill: var(--fill-color);\n",
              "    height: 32px;\n",
              "    padding: 0;\n",
              "    width: 32px;\n",
              "  }\n",
              "\n",
              "  .colab-df-quickchart:hover {\n",
              "    background-color: var(--hover-bg-color);\n",
              "    box-shadow: 0 1px 2px rgba(60, 64, 67, 0.3), 0 1px 3px 1px rgba(60, 64, 67, 0.15);\n",
              "    fill: var(--button-hover-fill-color);\n",
              "  }\n",
              "\n",
              "  .colab-df-quickchart-complete:disabled,\n",
              "  .colab-df-quickchart-complete:disabled:hover {\n",
              "    background-color: var(--disabled-bg-color);\n",
              "    fill: var(--disabled-fill-color);\n",
              "    box-shadow: none;\n",
              "  }\n",
              "\n",
              "  .colab-df-spinner {\n",
              "    border: 2px solid var(--fill-color);\n",
              "    border-color: transparent;\n",
              "    border-bottom-color: var(--fill-color);\n",
              "    animation:\n",
              "      spin 1s steps(1) infinite;\n",
              "  }\n",
              "\n",
              "  @keyframes spin {\n",
              "    0% {\n",
              "      border-color: transparent;\n",
              "      border-bottom-color: var(--fill-color);\n",
              "      border-left-color: var(--fill-color);\n",
              "    }\n",
              "    20% {\n",
              "      border-color: transparent;\n",
              "      border-left-color: var(--fill-color);\n",
              "      border-top-color: var(--fill-color);\n",
              "    }\n",
              "    30% {\n",
              "      border-color: transparent;\n",
              "      border-left-color: var(--fill-color);\n",
              "      border-top-color: var(--fill-color);\n",
              "      border-right-color: var(--fill-color);\n",
              "    }\n",
              "    40% {\n",
              "      border-color: transparent;\n",
              "      border-right-color: var(--fill-color);\n",
              "      border-top-color: var(--fill-color);\n",
              "    }\n",
              "    60% {\n",
              "      border-color: transparent;\n",
              "      border-right-color: var(--fill-color);\n",
              "    }\n",
              "    80% {\n",
              "      border-color: transparent;\n",
              "      border-right-color: var(--fill-color);\n",
              "      border-bottom-color: var(--fill-color);\n",
              "    }\n",
              "    90% {\n",
              "      border-color: transparent;\n",
              "      border-bottom-color: var(--fill-color);\n",
              "    }\n",
              "  }\n",
              "</style>\n",
              "\n",
              "  <script>\n",
              "    async function quickchart(key) {\n",
              "      const quickchartButtonEl =\n",
              "        document.querySelector('#' + key + ' button');\n",
              "      quickchartButtonEl.disabled = true;  // To prevent multiple clicks.\n",
              "      quickchartButtonEl.classList.add('colab-df-spinner');\n",
              "      try {\n",
              "        const charts = await google.colab.kernel.invokeFunction(\n",
              "            'suggestCharts', [key], {});\n",
              "      } catch (error) {\n",
              "        console.error('Error during call to suggestCharts:', error);\n",
              "      }\n",
              "      quickchartButtonEl.classList.remove('colab-df-spinner');\n",
              "      quickchartButtonEl.classList.add('colab-df-quickchart-complete');\n",
              "    }\n",
              "    (() => {\n",
              "      let quickchartButtonEl =\n",
              "        document.querySelector('#df-b28d5942-ef72-45fd-bc7c-3bb5ecdece04 button');\n",
              "      quickchartButtonEl.style.display =\n",
              "        google.colab.kernel.accessAllowed ? 'block' : 'none';\n",
              "    })();\n",
              "  </script>\n",
              "</div>\n",
              "\n",
              "    </div>\n",
              "  </div>\n"
            ],
            "application/vnd.google.colaboratory.intrinsic+json": {
              "type": "dataframe",
              "variable_name": "test_data",
              "summary": "{\n  \"name\": \"test_data\",\n  \"rows\": 9,\n  \"fields\": [\n    {\n      \"column\": \"Age\",\n      \"properties\": {\n        \"dtype\": \"number\",\n        \"std\": 5,\n        \"min\": 23,\n        \"max\": 35,\n        \"num_unique_values\": 6,\n        \"samples\": [\n          25,\n          35,\n          32\n        ],\n        \"semantic_type\": \"\",\n        \"description\": \"\"\n      }\n    },\n    {\n      \"column\": \"Body Temperature(F)\",\n      \"properties\": {\n        \"dtype\": \"number\",\n        \"std\": 1,\n        \"min\": 98,\n        \"max\": 102,\n        \"num_unique_values\": 3,\n        \"samples\": [\n          98,\n          100,\n          102\n        ],\n        \"semantic_type\": \"\",\n        \"description\": \"\"\n      }\n    },\n    {\n      \"column\": \"Heart rate(bpm)\",\n      \"properties\": {\n        \"dtype\": \"number\",\n        \"std\": 6,\n        \"min\": 70,\n        \"max\": 86,\n        \"num_unique_values\": 5,\n        \"samples\": [\n          70,\n          78,\n          80\n        ],\n        \"semantic_type\": \"\",\n        \"description\": \"\"\n      }\n    },\n    {\n      \"column\": \"Systolic Blood Pressure(mm Hg)\",\n      \"properties\": {\n        \"dtype\": \"number\",\n        \"std\": 20,\n        \"min\": 85,\n        \"max\": 140,\n        \"num_unique_values\": 5,\n        \"samples\": [\n          140,\n          85,\n          90\n        ],\n        \"semantic_type\": \"\",\n        \"description\": \"\"\n      }\n    },\n    {\n      \"column\": \"Diastolic Blood Pressure(mm Hg)\",\n      \"properties\": {\n        \"dtype\": \"number\",\n        \"std\": 11,\n        \"min\": 60,\n        \"max\": 90,\n        \"num_unique_values\": 5,\n        \"samples\": [\n          90,\n          60,\n          70\n        ],\n        \"semantic_type\": \"\",\n        \"description\": \"\"\n      }\n    },\n    {\n      \"column\": \"BMI(kg/m 2)\",\n      \"properties\": {\n        \"dtype\": \"number\",\n        \"std\": 2.642179235235776,\n        \"min\": 18.8,\n        \"max\": 24.9,\n        \"num_unique_values\": 8,\n        \"samples\": [\n          22.1,\n          22.0,\n          24.9\n        ],\n        \"semantic_type\": \"\",\n        \"description\": \"\"\n      }\n    },\n    {\n      \"column\": \"Blood Glucose(HbA1c)\",\n      \"properties\": {\n        \"dtype\": \"number\",\n        \"std\": 5,\n        \"min\": 32,\n        \"max\": 46,\n        \"num_unique_values\": 7,\n        \"samples\": [\n          46,\n          34,\n          36\n        ],\n        \"semantic_type\": \"\",\n        \"description\": \"\"\n      }\n    },\n    {\n      \"column\": \"Blood Glucose(Fasting hour-mg/dl)\",\n      \"properties\": {\n        \"dtype\": \"number\",\n        \"std\": 0.8695464973830387,\n        \"min\": 4.4,\n        \"max\": 7.1,\n        \"num_unique_values\": 8,\n        \"samples\": [\n          4.4,\n          6.0,\n          6.7\n        ],\n        \"semantic_type\": \"\",\n        \"description\": \"\"\n      }\n    },\n    {\n      \"column\": \"Outcome\",\n      \"properties\": {\n        \"dtype\": \"number\",\n        \"std\": 0,\n        \"min\": 0,\n        \"max\": 2,\n        \"num_unique_values\": 3,\n        \"samples\": [\n          2,\n          0,\n          1\n        ],\n        \"semantic_type\": \"\",\n        \"description\": \"\"\n      }\n    }\n  ]\n}"
            }
          },
          "metadata": {},
          "execution_count": 57
        }
      ]
    },
    {
      "cell_type": "code",
      "source": [
        "# showing the updated data\n",
        "updated_data.head()"
      ],
      "metadata": {
        "colab": {
          "base_uri": "https://localhost:8080/",
          "height": 258
        },
        "id": "EIsGMHyKkdKr",
        "outputId": "7bbaba3b-7f78-4912-8d9e-919f99ac2757"
      },
      "execution_count": null,
      "outputs": [
        {
          "output_type": "execute_result",
          "data": {
            "text/plain": [
              "   Age  Body Temperature(F)   Heart rate(bpm)  Systolic Blood Pressure(mm Hg)  \\\n",
              "0   29                  98.6               84                             129   \n",
              "1   38                 102.5               51                             106   \n",
              "2   21                  98.6               85                             142   \n",
              "3   23                  98.8               70                             141   \n",
              "4   22                 100.1               62                             144   \n",
              "\n",
              "   Diastolic Blood Pressure(mm Hg)  BMI(kg/m 2)  Blood Glucose(HbA1c)  \\\n",
              "0                               87         19.0                    42   \n",
              "1                               91         18.8                    38   \n",
              "2                               89         22.0                    30   \n",
              "3                               80         18.8                    32   \n",
              "4                               92         24.3                    46   \n",
              "\n",
              "   Blood Glucose(Fasting hour-mg/dl)  Outcome  \n",
              "0                                6.4        1  \n",
              "1                                4.3        2  \n",
              "2                                5.6        1  \n",
              "3                                5.6        1  \n",
              "4                                6.7        2  "
            ],
            "text/html": [
              "\n",
              "  <div id=\"df-1df3811b-b3e0-423b-8a8a-59d5f0f69014\" class=\"colab-df-container\">\n",
              "    <div>\n",
              "<style scoped>\n",
              "    .dataframe tbody tr th:only-of-type {\n",
              "        vertical-align: middle;\n",
              "    }\n",
              "\n",
              "    .dataframe tbody tr th {\n",
              "        vertical-align: top;\n",
              "    }\n",
              "\n",
              "    .dataframe thead th {\n",
              "        text-align: right;\n",
              "    }\n",
              "</style>\n",
              "<table border=\"1\" class=\"dataframe\">\n",
              "  <thead>\n",
              "    <tr style=\"text-align: right;\">\n",
              "      <th></th>\n",
              "      <th>Age</th>\n",
              "      <th>Body Temperature(F)</th>\n",
              "      <th>Heart rate(bpm)</th>\n",
              "      <th>Systolic Blood Pressure(mm Hg)</th>\n",
              "      <th>Diastolic Blood Pressure(mm Hg)</th>\n",
              "      <th>BMI(kg/m 2)</th>\n",
              "      <th>Blood Glucose(HbA1c)</th>\n",
              "      <th>Blood Glucose(Fasting hour-mg/dl)</th>\n",
              "      <th>Outcome</th>\n",
              "    </tr>\n",
              "  </thead>\n",
              "  <tbody>\n",
              "    <tr>\n",
              "      <th>0</th>\n",
              "      <td>29</td>\n",
              "      <td>98.6</td>\n",
              "      <td>84</td>\n",
              "      <td>129</td>\n",
              "      <td>87</td>\n",
              "      <td>19.0</td>\n",
              "      <td>42</td>\n",
              "      <td>6.4</td>\n",
              "      <td>1</td>\n",
              "    </tr>\n",
              "    <tr>\n",
              "      <th>1</th>\n",
              "      <td>38</td>\n",
              "      <td>102.5</td>\n",
              "      <td>51</td>\n",
              "      <td>106</td>\n",
              "      <td>91</td>\n",
              "      <td>18.8</td>\n",
              "      <td>38</td>\n",
              "      <td>4.3</td>\n",
              "      <td>2</td>\n",
              "    </tr>\n",
              "    <tr>\n",
              "      <th>2</th>\n",
              "      <td>21</td>\n",
              "      <td>98.6</td>\n",
              "      <td>85</td>\n",
              "      <td>142</td>\n",
              "      <td>89</td>\n",
              "      <td>22.0</td>\n",
              "      <td>30</td>\n",
              "      <td>5.6</td>\n",
              "      <td>1</td>\n",
              "    </tr>\n",
              "    <tr>\n",
              "      <th>3</th>\n",
              "      <td>23</td>\n",
              "      <td>98.8</td>\n",
              "      <td>70</td>\n",
              "      <td>141</td>\n",
              "      <td>80</td>\n",
              "      <td>18.8</td>\n",
              "      <td>32</td>\n",
              "      <td>5.6</td>\n",
              "      <td>1</td>\n",
              "    </tr>\n",
              "    <tr>\n",
              "      <th>4</th>\n",
              "      <td>22</td>\n",
              "      <td>100.1</td>\n",
              "      <td>62</td>\n",
              "      <td>144</td>\n",
              "      <td>92</td>\n",
              "      <td>24.3</td>\n",
              "      <td>46</td>\n",
              "      <td>6.7</td>\n",
              "      <td>2</td>\n",
              "    </tr>\n",
              "  </tbody>\n",
              "</table>\n",
              "</div>\n",
              "    <div class=\"colab-df-buttons\">\n",
              "\n",
              "  <div class=\"colab-df-container\">\n",
              "    <button class=\"colab-df-convert\" onclick=\"convertToInteractive('df-1df3811b-b3e0-423b-8a8a-59d5f0f69014')\"\n",
              "            title=\"Convert this dataframe to an interactive table.\"\n",
              "            style=\"display:none;\">\n",
              "\n",
              "  <svg xmlns=\"http://www.w3.org/2000/svg\" height=\"24px\" viewBox=\"0 -960 960 960\">\n",
              "    <path d=\"M120-120v-720h720v720H120Zm60-500h600v-160H180v160Zm220 220h160v-160H400v160Zm0 220h160v-160H400v160ZM180-400h160v-160H180v160Zm440 0h160v-160H620v160ZM180-180h160v-160H180v160Zm440 0h160v-160H620v160Z\"/>\n",
              "  </svg>\n",
              "    </button>\n",
              "\n",
              "  <style>\n",
              "    .colab-df-container {\n",
              "      display:flex;\n",
              "      gap: 12px;\n",
              "    }\n",
              "\n",
              "    .colab-df-convert {\n",
              "      background-color: #E8F0FE;\n",
              "      border: none;\n",
              "      border-radius: 50%;\n",
              "      cursor: pointer;\n",
              "      display: none;\n",
              "      fill: #1967D2;\n",
              "      height: 32px;\n",
              "      padding: 0 0 0 0;\n",
              "      width: 32px;\n",
              "    }\n",
              "\n",
              "    .colab-df-convert:hover {\n",
              "      background-color: #E2EBFA;\n",
              "      box-shadow: 0px 1px 2px rgba(60, 64, 67, 0.3), 0px 1px 3px 1px rgba(60, 64, 67, 0.15);\n",
              "      fill: #174EA6;\n",
              "    }\n",
              "\n",
              "    .colab-df-buttons div {\n",
              "      margin-bottom: 4px;\n",
              "    }\n",
              "\n",
              "    [theme=dark] .colab-df-convert {\n",
              "      background-color: #3B4455;\n",
              "      fill: #D2E3FC;\n",
              "    }\n",
              "\n",
              "    [theme=dark] .colab-df-convert:hover {\n",
              "      background-color: #434B5C;\n",
              "      box-shadow: 0px 1px 3px 1px rgba(0, 0, 0, 0.15);\n",
              "      filter: drop-shadow(0px 1px 2px rgba(0, 0, 0, 0.3));\n",
              "      fill: #FFFFFF;\n",
              "    }\n",
              "  </style>\n",
              "\n",
              "    <script>\n",
              "      const buttonEl =\n",
              "        document.querySelector('#df-1df3811b-b3e0-423b-8a8a-59d5f0f69014 button.colab-df-convert');\n",
              "      buttonEl.style.display =\n",
              "        google.colab.kernel.accessAllowed ? 'block' : 'none';\n",
              "\n",
              "      async function convertToInteractive(key) {\n",
              "        const element = document.querySelector('#df-1df3811b-b3e0-423b-8a8a-59d5f0f69014');\n",
              "        const dataTable =\n",
              "          await google.colab.kernel.invokeFunction('convertToInteractive',\n",
              "                                                    [key], {});\n",
              "        if (!dataTable) return;\n",
              "\n",
              "        const docLinkHtml = 'Like what you see? Visit the ' +\n",
              "          '<a target=\"_blank\" href=https://colab.research.google.com/notebooks/data_table.ipynb>data table notebook</a>'\n",
              "          + ' to learn more about interactive tables.';\n",
              "        element.innerHTML = '';\n",
              "        dataTable['output_type'] = 'display_data';\n",
              "        await google.colab.output.renderOutput(dataTable, element);\n",
              "        const docLink = document.createElement('div');\n",
              "        docLink.innerHTML = docLinkHtml;\n",
              "        element.appendChild(docLink);\n",
              "      }\n",
              "    </script>\n",
              "  </div>\n",
              "\n",
              "\n",
              "<div id=\"df-f32cef81-4fb5-4180-92e3-56546ff631f7\">\n",
              "  <button class=\"colab-df-quickchart\" onclick=\"quickchart('df-f32cef81-4fb5-4180-92e3-56546ff631f7')\"\n",
              "            title=\"Suggest charts\"\n",
              "            style=\"display:none;\">\n",
              "\n",
              "<svg xmlns=\"http://www.w3.org/2000/svg\" height=\"24px\"viewBox=\"0 0 24 24\"\n",
              "     width=\"24px\">\n",
              "    <g>\n",
              "        <path d=\"M19 3H5c-1.1 0-2 .9-2 2v14c0 1.1.9 2 2 2h14c1.1 0 2-.9 2-2V5c0-1.1-.9-2-2-2zM9 17H7v-7h2v7zm4 0h-2V7h2v10zm4 0h-2v-4h2v4z\"/>\n",
              "    </g>\n",
              "</svg>\n",
              "  </button>\n",
              "\n",
              "<style>\n",
              "  .colab-df-quickchart {\n",
              "      --bg-color: #E8F0FE;\n",
              "      --fill-color: #1967D2;\n",
              "      --hover-bg-color: #E2EBFA;\n",
              "      --hover-fill-color: #174EA6;\n",
              "      --disabled-fill-color: #AAA;\n",
              "      --disabled-bg-color: #DDD;\n",
              "  }\n",
              "\n",
              "  [theme=dark] .colab-df-quickchart {\n",
              "      --bg-color: #3B4455;\n",
              "      --fill-color: #D2E3FC;\n",
              "      --hover-bg-color: #434B5C;\n",
              "      --hover-fill-color: #FFFFFF;\n",
              "      --disabled-bg-color: #3B4455;\n",
              "      --disabled-fill-color: #666;\n",
              "  }\n",
              "\n",
              "  .colab-df-quickchart {\n",
              "    background-color: var(--bg-color);\n",
              "    border: none;\n",
              "    border-radius: 50%;\n",
              "    cursor: pointer;\n",
              "    display: none;\n",
              "    fill: var(--fill-color);\n",
              "    height: 32px;\n",
              "    padding: 0;\n",
              "    width: 32px;\n",
              "  }\n",
              "\n",
              "  .colab-df-quickchart:hover {\n",
              "    background-color: var(--hover-bg-color);\n",
              "    box-shadow: 0 1px 2px rgba(60, 64, 67, 0.3), 0 1px 3px 1px rgba(60, 64, 67, 0.15);\n",
              "    fill: var(--button-hover-fill-color);\n",
              "  }\n",
              "\n",
              "  .colab-df-quickchart-complete:disabled,\n",
              "  .colab-df-quickchart-complete:disabled:hover {\n",
              "    background-color: var(--disabled-bg-color);\n",
              "    fill: var(--disabled-fill-color);\n",
              "    box-shadow: none;\n",
              "  }\n",
              "\n",
              "  .colab-df-spinner {\n",
              "    border: 2px solid var(--fill-color);\n",
              "    border-color: transparent;\n",
              "    border-bottom-color: var(--fill-color);\n",
              "    animation:\n",
              "      spin 1s steps(1) infinite;\n",
              "  }\n",
              "\n",
              "  @keyframes spin {\n",
              "    0% {\n",
              "      border-color: transparent;\n",
              "      border-bottom-color: var(--fill-color);\n",
              "      border-left-color: var(--fill-color);\n",
              "    }\n",
              "    20% {\n",
              "      border-color: transparent;\n",
              "      border-left-color: var(--fill-color);\n",
              "      border-top-color: var(--fill-color);\n",
              "    }\n",
              "    30% {\n",
              "      border-color: transparent;\n",
              "      border-left-color: var(--fill-color);\n",
              "      border-top-color: var(--fill-color);\n",
              "      border-right-color: var(--fill-color);\n",
              "    }\n",
              "    40% {\n",
              "      border-color: transparent;\n",
              "      border-right-color: var(--fill-color);\n",
              "      border-top-color: var(--fill-color);\n",
              "    }\n",
              "    60% {\n",
              "      border-color: transparent;\n",
              "      border-right-color: var(--fill-color);\n",
              "    }\n",
              "    80% {\n",
              "      border-color: transparent;\n",
              "      border-right-color: var(--fill-color);\n",
              "      border-bottom-color: var(--fill-color);\n",
              "    }\n",
              "    90% {\n",
              "      border-color: transparent;\n",
              "      border-bottom-color: var(--fill-color);\n",
              "    }\n",
              "  }\n",
              "</style>\n",
              "\n",
              "  <script>\n",
              "    async function quickchart(key) {\n",
              "      const quickchartButtonEl =\n",
              "        document.querySelector('#' + key + ' button');\n",
              "      quickchartButtonEl.disabled = true;  // To prevent multiple clicks.\n",
              "      quickchartButtonEl.classList.add('colab-df-spinner');\n",
              "      try {\n",
              "        const charts = await google.colab.kernel.invokeFunction(\n",
              "            'suggestCharts', [key], {});\n",
              "      } catch (error) {\n",
              "        console.error('Error during call to suggestCharts:', error);\n",
              "      }\n",
              "      quickchartButtonEl.classList.remove('colab-df-spinner');\n",
              "      quickchartButtonEl.classList.add('colab-df-quickchart-complete');\n",
              "    }\n",
              "    (() => {\n",
              "      let quickchartButtonEl =\n",
              "        document.querySelector('#df-f32cef81-4fb5-4180-92e3-56546ff631f7 button');\n",
              "      quickchartButtonEl.style.display =\n",
              "        google.colab.kernel.accessAllowed ? 'block' : 'none';\n",
              "    })();\n",
              "  </script>\n",
              "</div>\n",
              "\n",
              "    </div>\n",
              "  </div>\n"
            ],
            "application/vnd.google.colaboratory.intrinsic+json": {
              "type": "dataframe",
              "variable_name": "updated_data",
              "summary": "{\n  \"name\": \"updated_data\",\n  \"rows\": 5789,\n  \"fields\": [\n    {\n      \"column\": \"Age\",\n      \"properties\": {\n        \"dtype\": \"number\",\n        \"std\": 5,\n        \"min\": 15,\n        \"max\": 42,\n        \"num_unique_values\": 28,\n        \"samples\": [\n          20,\n          16,\n          25\n        ],\n        \"semantic_type\": \"\",\n        \"description\": \"\"\n      }\n    },\n    {\n      \"column\": \"Body Temperature(F) \",\n      \"properties\": {\n        \"dtype\": \"number\",\n        \"std\": 1.2549534628707457,\n        \"min\": 94.0,\n        \"max\": 103.3,\n        \"num_unique_values\": 93,\n        \"samples\": [\n          99.2,\n          103.0,\n          100.5\n        ],\n        \"semantic_type\": \"\",\n        \"description\": \"\"\n      }\n    },\n    {\n      \"column\": \"Heart rate(bpm)\",\n      \"properties\": {\n        \"dtype\": \"number\",\n        \"std\": 21,\n        \"min\": 45,\n        \"max\": 148,\n        \"num_unique_values\": 104,\n        \"samples\": [\n          66,\n          142,\n          144\n        ],\n        \"semantic_type\": \"\",\n        \"description\": \"\"\n      }\n    },\n    {\n      \"column\": \"Systolic Blood Pressure(mm Hg)\",\n      \"properties\": {\n        \"dtype\": \"number\",\n        \"std\": 16,\n        \"min\": 90,\n        \"max\": 168,\n        \"num_unique_values\": 78,\n        \"samples\": [\n          111,\n          129,\n          151\n        ],\n        \"semantic_type\": \"\",\n        \"description\": \"\"\n      }\n    },\n    {\n      \"column\": \"Diastolic Blood Pressure(mm Hg)\",\n      \"properties\": {\n        \"dtype\": \"number\",\n        \"std\": 6,\n        \"min\": 67,\n        \"max\": 107,\n        \"num_unique_values\": 41,\n        \"samples\": [\n          101,\n          85,\n          93\n        ],\n        \"semantic_type\": \"\",\n        \"description\": \"\"\n      }\n    },\n    {\n      \"column\": \"BMI(kg/m 2)\",\n      \"properties\": {\n        \"dtype\": \"number\",\n        \"std\": 2.167180623236964,\n        \"min\": 14.9,\n        \"max\": 27.9,\n        \"num_unique_values\": 127,\n        \"samples\": [\n          23.6,\n          27.1,\n          26.3\n        ],\n        \"semantic_type\": \"\",\n        \"description\": \"\"\n      }\n    },\n    {\n      \"column\": \"Blood Glucose(HbA1c)\",\n      \"properties\": {\n        \"dtype\": \"number\",\n        \"std\": 4,\n        \"min\": 30,\n        \"max\": 50,\n        \"num_unique_values\": 21,\n        \"samples\": [\n          42,\n          48,\n          45\n        ],\n        \"semantic_type\": \"\",\n        \"description\": \"\"\n      }\n    },\n    {\n      \"column\": \"Blood Glucose(Fasting hour-mg/dl)\",\n      \"properties\": {\n        \"dtype\": \"number\",\n        \"std\": 0.8912314967305757,\n        \"min\": 3.5,\n        \"max\": 7.8,\n        \"num_unique_values\": 44,\n        \"samples\": [\n          7.2,\n          5.3,\n          4.6\n        ],\n        \"semantic_type\": \"\",\n        \"description\": \"\"\n      }\n    },\n    {\n      \"column\": \"Outcome\",\n      \"properties\": {\n        \"dtype\": \"number\",\n        \"std\": 0,\n        \"min\": 0,\n        \"max\": 2,\n        \"num_unique_values\": 3,\n        \"samples\": [\n          1,\n          2,\n          0\n        ],\n        \"semantic_type\": \"\",\n        \"description\": \"\"\n      }\n    }\n  ]\n}"
            }
          },
          "metadata": {},
          "execution_count": 58
        }
      ]
    },
    {
      "cell_type": "code",
      "source": [
        "#  duplicate the updated data\n",
        "duplicated_updated_data = updated_data.copy(deep=True)"
      ],
      "metadata": {
        "id": "bBFJ0L27k1tb"
      },
      "execution_count": null,
      "outputs": []
    },
    {
      "cell_type": "code",
      "source": [
        "df1=test_data.copy(deep=True)"
      ],
      "metadata": {
        "id": "bjweH-AFmMyQ"
      },
      "execution_count": null,
      "outputs": []
    },
    {
      "cell_type": "code",
      "source": [
        "df1.head()"
      ],
      "metadata": {
        "colab": {
          "base_uri": "https://localhost:8080/",
          "height": 258
        },
        "id": "Ydx8NtvSmNWr",
        "outputId": "76bae827-8e8f-4944-ee0b-964ccfe90a47"
      },
      "execution_count": null,
      "outputs": [
        {
          "output_type": "execute_result",
          "data": {
            "text/plain": [
              "   Age  Body Temperature(F)  Heart rate(bpm)  Systolic Blood Pressure(mm Hg)  \\\n",
              "0   25                   98               86                             130   \n",
              "1   35                   98               70                             140   \n",
              "2   29                  100               80                              90   \n",
              "3   30                   98               70                             140   \n",
              "4   35                   98               76                             120   \n",
              "\n",
              "   Diastolic Blood Pressure(mm Hg)  BMI(kg/m 2)  Blood Glucose(HbA1c)  \\\n",
              "0                               80         24.9                    46   \n",
              "1                               90         22.1                    34   \n",
              "2                               70         19.0                    41   \n",
              "3                               85         23.7                    33   \n",
              "4                               60         18.8                    44   \n",
              "\n",
              "   Blood Glucose(Fasting hour-mg/dl)  Outcome  \n",
              "0                                6.7        2  \n",
              "1                                4.4        2  \n",
              "2                                5.8        2  \n",
              "3                                4.7        2  \n",
              "4                                6.2        0  "
            ],
            "text/html": [
              "\n",
              "  <div id=\"df-7a1dc132-22a7-4b54-85c3-04898841f5ef\" class=\"colab-df-container\">\n",
              "    <div>\n",
              "<style scoped>\n",
              "    .dataframe tbody tr th:only-of-type {\n",
              "        vertical-align: middle;\n",
              "    }\n",
              "\n",
              "    .dataframe tbody tr th {\n",
              "        vertical-align: top;\n",
              "    }\n",
              "\n",
              "    .dataframe thead th {\n",
              "        text-align: right;\n",
              "    }\n",
              "</style>\n",
              "<table border=\"1\" class=\"dataframe\">\n",
              "  <thead>\n",
              "    <tr style=\"text-align: right;\">\n",
              "      <th></th>\n",
              "      <th>Age</th>\n",
              "      <th>Body Temperature(F)</th>\n",
              "      <th>Heart rate(bpm)</th>\n",
              "      <th>Systolic Blood Pressure(mm Hg)</th>\n",
              "      <th>Diastolic Blood Pressure(mm Hg)</th>\n",
              "      <th>BMI(kg/m 2)</th>\n",
              "      <th>Blood Glucose(HbA1c)</th>\n",
              "      <th>Blood Glucose(Fasting hour-mg/dl)</th>\n",
              "      <th>Outcome</th>\n",
              "    </tr>\n",
              "  </thead>\n",
              "  <tbody>\n",
              "    <tr>\n",
              "      <th>0</th>\n",
              "      <td>25</td>\n",
              "      <td>98</td>\n",
              "      <td>86</td>\n",
              "      <td>130</td>\n",
              "      <td>80</td>\n",
              "      <td>24.9</td>\n",
              "      <td>46</td>\n",
              "      <td>6.7</td>\n",
              "      <td>2</td>\n",
              "    </tr>\n",
              "    <tr>\n",
              "      <th>1</th>\n",
              "      <td>35</td>\n",
              "      <td>98</td>\n",
              "      <td>70</td>\n",
              "      <td>140</td>\n",
              "      <td>90</td>\n",
              "      <td>22.1</td>\n",
              "      <td>34</td>\n",
              "      <td>4.4</td>\n",
              "      <td>2</td>\n",
              "    </tr>\n",
              "    <tr>\n",
              "      <th>2</th>\n",
              "      <td>29</td>\n",
              "      <td>100</td>\n",
              "      <td>80</td>\n",
              "      <td>90</td>\n",
              "      <td>70</td>\n",
              "      <td>19.0</td>\n",
              "      <td>41</td>\n",
              "      <td>5.8</td>\n",
              "      <td>2</td>\n",
              "    </tr>\n",
              "    <tr>\n",
              "      <th>3</th>\n",
              "      <td>30</td>\n",
              "      <td>98</td>\n",
              "      <td>70</td>\n",
              "      <td>140</td>\n",
              "      <td>85</td>\n",
              "      <td>23.7</td>\n",
              "      <td>33</td>\n",
              "      <td>4.7</td>\n",
              "      <td>2</td>\n",
              "    </tr>\n",
              "    <tr>\n",
              "      <th>4</th>\n",
              "      <td>35</td>\n",
              "      <td>98</td>\n",
              "      <td>76</td>\n",
              "      <td>120</td>\n",
              "      <td>60</td>\n",
              "      <td>18.8</td>\n",
              "      <td>44</td>\n",
              "      <td>6.2</td>\n",
              "      <td>0</td>\n",
              "    </tr>\n",
              "  </tbody>\n",
              "</table>\n",
              "</div>\n",
              "    <div class=\"colab-df-buttons\">\n",
              "\n",
              "  <div class=\"colab-df-container\">\n",
              "    <button class=\"colab-df-convert\" onclick=\"convertToInteractive('df-7a1dc132-22a7-4b54-85c3-04898841f5ef')\"\n",
              "            title=\"Convert this dataframe to an interactive table.\"\n",
              "            style=\"display:none;\">\n",
              "\n",
              "  <svg xmlns=\"http://www.w3.org/2000/svg\" height=\"24px\" viewBox=\"0 -960 960 960\">\n",
              "    <path d=\"M120-120v-720h720v720H120Zm60-500h600v-160H180v160Zm220 220h160v-160H400v160Zm0 220h160v-160H400v160ZM180-400h160v-160H180v160Zm440 0h160v-160H620v160ZM180-180h160v-160H180v160Zm440 0h160v-160H620v160Z\"/>\n",
              "  </svg>\n",
              "    </button>\n",
              "\n",
              "  <style>\n",
              "    .colab-df-container {\n",
              "      display:flex;\n",
              "      gap: 12px;\n",
              "    }\n",
              "\n",
              "    .colab-df-convert {\n",
              "      background-color: #E8F0FE;\n",
              "      border: none;\n",
              "      border-radius: 50%;\n",
              "      cursor: pointer;\n",
              "      display: none;\n",
              "      fill: #1967D2;\n",
              "      height: 32px;\n",
              "      padding: 0 0 0 0;\n",
              "      width: 32px;\n",
              "    }\n",
              "\n",
              "    .colab-df-convert:hover {\n",
              "      background-color: #E2EBFA;\n",
              "      box-shadow: 0px 1px 2px rgba(60, 64, 67, 0.3), 0px 1px 3px 1px rgba(60, 64, 67, 0.15);\n",
              "      fill: #174EA6;\n",
              "    }\n",
              "\n",
              "    .colab-df-buttons div {\n",
              "      margin-bottom: 4px;\n",
              "    }\n",
              "\n",
              "    [theme=dark] .colab-df-convert {\n",
              "      background-color: #3B4455;\n",
              "      fill: #D2E3FC;\n",
              "    }\n",
              "\n",
              "    [theme=dark] .colab-df-convert:hover {\n",
              "      background-color: #434B5C;\n",
              "      box-shadow: 0px 1px 3px 1px rgba(0, 0, 0, 0.15);\n",
              "      filter: drop-shadow(0px 1px 2px rgba(0, 0, 0, 0.3));\n",
              "      fill: #FFFFFF;\n",
              "    }\n",
              "  </style>\n",
              "\n",
              "    <script>\n",
              "      const buttonEl =\n",
              "        document.querySelector('#df-7a1dc132-22a7-4b54-85c3-04898841f5ef button.colab-df-convert');\n",
              "      buttonEl.style.display =\n",
              "        google.colab.kernel.accessAllowed ? 'block' : 'none';\n",
              "\n",
              "      async function convertToInteractive(key) {\n",
              "        const element = document.querySelector('#df-7a1dc132-22a7-4b54-85c3-04898841f5ef');\n",
              "        const dataTable =\n",
              "          await google.colab.kernel.invokeFunction('convertToInteractive',\n",
              "                                                    [key], {});\n",
              "        if (!dataTable) return;\n",
              "\n",
              "        const docLinkHtml = 'Like what you see? Visit the ' +\n",
              "          '<a target=\"_blank\" href=https://colab.research.google.com/notebooks/data_table.ipynb>data table notebook</a>'\n",
              "          + ' to learn more about interactive tables.';\n",
              "        element.innerHTML = '';\n",
              "        dataTable['output_type'] = 'display_data';\n",
              "        await google.colab.output.renderOutput(dataTable, element);\n",
              "        const docLink = document.createElement('div');\n",
              "        docLink.innerHTML = docLinkHtml;\n",
              "        element.appendChild(docLink);\n",
              "      }\n",
              "    </script>\n",
              "  </div>\n",
              "\n",
              "\n",
              "<div id=\"df-4374549e-2dee-4928-97fa-b967fbe38acf\">\n",
              "  <button class=\"colab-df-quickchart\" onclick=\"quickchart('df-4374549e-2dee-4928-97fa-b967fbe38acf')\"\n",
              "            title=\"Suggest charts\"\n",
              "            style=\"display:none;\">\n",
              "\n",
              "<svg xmlns=\"http://www.w3.org/2000/svg\" height=\"24px\"viewBox=\"0 0 24 24\"\n",
              "     width=\"24px\">\n",
              "    <g>\n",
              "        <path d=\"M19 3H5c-1.1 0-2 .9-2 2v14c0 1.1.9 2 2 2h14c1.1 0 2-.9 2-2V5c0-1.1-.9-2-2-2zM9 17H7v-7h2v7zm4 0h-2V7h2v10zm4 0h-2v-4h2v4z\"/>\n",
              "    </g>\n",
              "</svg>\n",
              "  </button>\n",
              "\n",
              "<style>\n",
              "  .colab-df-quickchart {\n",
              "      --bg-color: #E8F0FE;\n",
              "      --fill-color: #1967D2;\n",
              "      --hover-bg-color: #E2EBFA;\n",
              "      --hover-fill-color: #174EA6;\n",
              "      --disabled-fill-color: #AAA;\n",
              "      --disabled-bg-color: #DDD;\n",
              "  }\n",
              "\n",
              "  [theme=dark] .colab-df-quickchart {\n",
              "      --bg-color: #3B4455;\n",
              "      --fill-color: #D2E3FC;\n",
              "      --hover-bg-color: #434B5C;\n",
              "      --hover-fill-color: #FFFFFF;\n",
              "      --disabled-bg-color: #3B4455;\n",
              "      --disabled-fill-color: #666;\n",
              "  }\n",
              "\n",
              "  .colab-df-quickchart {\n",
              "    background-color: var(--bg-color);\n",
              "    border: none;\n",
              "    border-radius: 50%;\n",
              "    cursor: pointer;\n",
              "    display: none;\n",
              "    fill: var(--fill-color);\n",
              "    height: 32px;\n",
              "    padding: 0;\n",
              "    width: 32px;\n",
              "  }\n",
              "\n",
              "  .colab-df-quickchart:hover {\n",
              "    background-color: var(--hover-bg-color);\n",
              "    box-shadow: 0 1px 2px rgba(60, 64, 67, 0.3), 0 1px 3px 1px rgba(60, 64, 67, 0.15);\n",
              "    fill: var(--button-hover-fill-color);\n",
              "  }\n",
              "\n",
              "  .colab-df-quickchart-complete:disabled,\n",
              "  .colab-df-quickchart-complete:disabled:hover {\n",
              "    background-color: var(--disabled-bg-color);\n",
              "    fill: var(--disabled-fill-color);\n",
              "    box-shadow: none;\n",
              "  }\n",
              "\n",
              "  .colab-df-spinner {\n",
              "    border: 2px solid var(--fill-color);\n",
              "    border-color: transparent;\n",
              "    border-bottom-color: var(--fill-color);\n",
              "    animation:\n",
              "      spin 1s steps(1) infinite;\n",
              "  }\n",
              "\n",
              "  @keyframes spin {\n",
              "    0% {\n",
              "      border-color: transparent;\n",
              "      border-bottom-color: var(--fill-color);\n",
              "      border-left-color: var(--fill-color);\n",
              "    }\n",
              "    20% {\n",
              "      border-color: transparent;\n",
              "      border-left-color: var(--fill-color);\n",
              "      border-top-color: var(--fill-color);\n",
              "    }\n",
              "    30% {\n",
              "      border-color: transparent;\n",
              "      border-left-color: var(--fill-color);\n",
              "      border-top-color: var(--fill-color);\n",
              "      border-right-color: var(--fill-color);\n",
              "    }\n",
              "    40% {\n",
              "      border-color: transparent;\n",
              "      border-right-color: var(--fill-color);\n",
              "      border-top-color: var(--fill-color);\n",
              "    }\n",
              "    60% {\n",
              "      border-color: transparent;\n",
              "      border-right-color: var(--fill-color);\n",
              "    }\n",
              "    80% {\n",
              "      border-color: transparent;\n",
              "      border-right-color: var(--fill-color);\n",
              "      border-bottom-color: var(--fill-color);\n",
              "    }\n",
              "    90% {\n",
              "      border-color: transparent;\n",
              "      border-bottom-color: var(--fill-color);\n",
              "    }\n",
              "  }\n",
              "</style>\n",
              "\n",
              "  <script>\n",
              "    async function quickchart(key) {\n",
              "      const quickchartButtonEl =\n",
              "        document.querySelector('#' + key + ' button');\n",
              "      quickchartButtonEl.disabled = true;  // To prevent multiple clicks.\n",
              "      quickchartButtonEl.classList.add('colab-df-spinner');\n",
              "      try {\n",
              "        const charts = await google.colab.kernel.invokeFunction(\n",
              "            'suggestCharts', [key], {});\n",
              "      } catch (error) {\n",
              "        console.error('Error during call to suggestCharts:', error);\n",
              "      }\n",
              "      quickchartButtonEl.classList.remove('colab-df-spinner');\n",
              "      quickchartButtonEl.classList.add('colab-df-quickchart-complete');\n",
              "    }\n",
              "    (() => {\n",
              "      let quickchartButtonEl =\n",
              "        document.querySelector('#df-4374549e-2dee-4928-97fa-b967fbe38acf button');\n",
              "      quickchartButtonEl.style.display =\n",
              "        google.colab.kernel.accessAllowed ? 'block' : 'none';\n",
              "    })();\n",
              "  </script>\n",
              "</div>\n",
              "\n",
              "    </div>\n",
              "  </div>\n"
            ],
            "application/vnd.google.colaboratory.intrinsic+json": {
              "type": "dataframe",
              "variable_name": "df1",
              "summary": "{\n  \"name\": \"df1\",\n  \"rows\": 9,\n  \"fields\": [\n    {\n      \"column\": \"Age\",\n      \"properties\": {\n        \"dtype\": \"number\",\n        \"std\": 5,\n        \"min\": 23,\n        \"max\": 35,\n        \"num_unique_values\": 6,\n        \"samples\": [\n          25,\n          35,\n          32\n        ],\n        \"semantic_type\": \"\",\n        \"description\": \"\"\n      }\n    },\n    {\n      \"column\": \"Body Temperature(F)\",\n      \"properties\": {\n        \"dtype\": \"number\",\n        \"std\": 1,\n        \"min\": 98,\n        \"max\": 102,\n        \"num_unique_values\": 3,\n        \"samples\": [\n          98,\n          100,\n          102\n        ],\n        \"semantic_type\": \"\",\n        \"description\": \"\"\n      }\n    },\n    {\n      \"column\": \"Heart rate(bpm)\",\n      \"properties\": {\n        \"dtype\": \"number\",\n        \"std\": 6,\n        \"min\": 70,\n        \"max\": 86,\n        \"num_unique_values\": 5,\n        \"samples\": [\n          70,\n          78,\n          80\n        ],\n        \"semantic_type\": \"\",\n        \"description\": \"\"\n      }\n    },\n    {\n      \"column\": \"Systolic Blood Pressure(mm Hg)\",\n      \"properties\": {\n        \"dtype\": \"number\",\n        \"std\": 20,\n        \"min\": 85,\n        \"max\": 140,\n        \"num_unique_values\": 5,\n        \"samples\": [\n          140,\n          85,\n          90\n        ],\n        \"semantic_type\": \"\",\n        \"description\": \"\"\n      }\n    },\n    {\n      \"column\": \"Diastolic Blood Pressure(mm Hg)\",\n      \"properties\": {\n        \"dtype\": \"number\",\n        \"std\": 11,\n        \"min\": 60,\n        \"max\": 90,\n        \"num_unique_values\": 5,\n        \"samples\": [\n          90,\n          60,\n          70\n        ],\n        \"semantic_type\": \"\",\n        \"description\": \"\"\n      }\n    },\n    {\n      \"column\": \"BMI(kg/m 2)\",\n      \"properties\": {\n        \"dtype\": \"number\",\n        \"std\": 2.642179235235776,\n        \"min\": 18.8,\n        \"max\": 24.9,\n        \"num_unique_values\": 8,\n        \"samples\": [\n          22.1,\n          22.0,\n          24.9\n        ],\n        \"semantic_type\": \"\",\n        \"description\": \"\"\n      }\n    },\n    {\n      \"column\": \"Blood Glucose(HbA1c)\",\n      \"properties\": {\n        \"dtype\": \"number\",\n        \"std\": 5,\n        \"min\": 32,\n        \"max\": 46,\n        \"num_unique_values\": 7,\n        \"samples\": [\n          46,\n          34,\n          36\n        ],\n        \"semantic_type\": \"\",\n        \"description\": \"\"\n      }\n    },\n    {\n      \"column\": \"Blood Glucose(Fasting hour-mg/dl)\",\n      \"properties\": {\n        \"dtype\": \"number\",\n        \"std\": 0.8695464973830387,\n        \"min\": 4.4,\n        \"max\": 7.1,\n        \"num_unique_values\": 8,\n        \"samples\": [\n          4.4,\n          6.0,\n          6.7\n        ],\n        \"semantic_type\": \"\",\n        \"description\": \"\"\n      }\n    },\n    {\n      \"column\": \"Outcome\",\n      \"properties\": {\n        \"dtype\": \"number\",\n        \"std\": 0,\n        \"min\": 0,\n        \"max\": 2,\n        \"num_unique_values\": 3,\n        \"samples\": [\n          2,\n          0,\n          1\n        ],\n        \"semantic_type\": \"\",\n        \"description\": \"\"\n      }\n    }\n  ]\n}"
            }
          },
          "metadata": {},
          "execution_count": 61
        }
      ]
    },
    {
      "cell_type": "code",
      "source": [
        "# removing Outcome from test_data\n",
        "v=test_data.drop(['Outcome'],axis=1).values\n",
        "v"
      ],
      "metadata": {
        "colab": {
          "base_uri": "https://localhost:8080/"
        },
        "id": "TWL1V4NlmSRT",
        "outputId": "14313725-723b-4fc5-e887-cabf42093636"
      },
      "execution_count": null,
      "outputs": [
        {
          "output_type": "execute_result",
          "data": {
            "text/plain": [
              "array([[ 25. ,  98. ,  86. , 130. ,  80. ,  24.9,  46. ,   6.7],\n",
              "       [ 35. ,  98. ,  70. , 140. ,  90. ,  22.1,  34. ,   4.4],\n",
              "       [ 29. , 100. ,  80. ,  90. ,  70. ,  19. ,  41. ,   5.8],\n",
              "       [ 30. ,  98. ,  70. , 140. ,  85. ,  23.7,  33. ,   4.7],\n",
              "       [ 35. ,  98. ,  76. , 120. ,  60. ,  18.8,  44. ,   6.2],\n",
              "       [ 23. ,  98. ,  70. , 140. ,  80. ,  22. ,  36. ,   5.8],\n",
              "       [ 23. ,  98. ,  78. , 130. ,  70. ,  18.8,  32. ,   6. ],\n",
              "       [ 35. , 102. ,  86. ,  85. ,  60. ,  24.8,  44. ,   7.1],\n",
              "       [ 32. ,  98. ,  70. , 120. ,  90. ,  24.7,  41. ,   6.3]])"
            ]
          },
          "metadata": {},
          "execution_count": 62
        }
      ]
    },
    {
      "cell_type": "code",
      "source": [
        "# predicting the result\n",
        "y_pred =  tree_classifier.predict(v)\n",
        "print(y_pred)"
      ],
      "metadata": {
        "colab": {
          "base_uri": "https://localhost:8080/"
        },
        "id": "B8BlVMtZmbVr",
        "outputId": "265a6229-74d5-4050-bb87-e2f978293f11"
      },
      "execution_count": null,
      "outputs": [
        {
          "output_type": "stream",
          "name": "stdout",
          "text": [
            "[2 1 2 0 1 0 0 2 1]\n"
          ]
        },
        {
          "output_type": "stream",
          "name": "stderr",
          "text": [
            "/usr/local/lib/python3.10/dist-packages/sklearn/base.py:493: UserWarning: X does not have valid feature names, but DecisionTreeClassifier was fitted with feature names\n",
            "  warnings.warn(\n"
          ]
        }
      ]
    },
    {
      "cell_type": "code",
      "source": [
        "# printing the accuracy\n",
        "from sklearn.metrics import accuracy_score, classification_report, confusion_matrix\n",
        "\n",
        "accuracy = accuracy_score(test_data['Outcome'], y_pred)\n",
        "print(f\"Accuracy: {accuracy}\")"
      ],
      "metadata": {
        "colab": {
          "base_uri": "https://localhost:8080/"
        },
        "id": "1A4xgpSOmjBb",
        "outputId": "2b1400b8-5852-450a-a243-201d76b6837a"
      },
      "execution_count": null,
      "outputs": [
        {
          "output_type": "stream",
          "name": "stdout",
          "text": [
            "Accuracy: 0.4444444444444444\n"
          ]
        }
      ]
    },
    {
      "cell_type": "code",
      "source": [
        "import ipywidgets as widgets\n",
        "from IPython.display import display\n",
        "import pandas as pd # Import pandas\n",
        "\n",
        "# Define widgets for each feature:\n",
        "age_input = widgets.IntText(description=\"Age:\")\n",
        "body_temp_input = widgets.FloatText(description=\"Body Temperature(F):\")\n",
        "heart_rate_input = widgets.IntText(description=\"Heart Rate (bpm):\")\n",
        "systolic_bp_input = widgets.IntText(description=\"Systolic BP (mm Hg):\")\n",
        "diastolic_bp_input = widgets.IntText(description=\"Diastolic BP (mm Hg):\")\n",
        "bmi_input = widgets.FloatText(description=\"BMI (kg/m^2):\")\n",
        "glucose_hba1c_input = widgets.FloatText(description=\"Blood Glucose (HbA1c):\")\n",
        "glucose_fasting_input = widgets.FloatText(description=\"Blood Glucose(Fasting hour-mg/dl):\")\n",
        "\n",
        "# Display the input widgets:\n",
        "display(age_input, body_temp_input, heart_rate_input, systolic_bp_input,\n",
        "        diastolic_bp_input,  bmi_input, glucose_hba1c_input, glucose_fasting_input)\n",
        "def predict_risk(age, body_temp, heart_rate, systolic_bp, diastolic_bp, bmi, glucose_hba1c, glucose_fasting):\n",
        "    # Create a DataFrame from the user input:\n",
        "    # Use the correct feature name \"Blood Glucose(HbA1c)\"\n",
        "    input_data = pd.DataFrame({\n",
        "        'Age': [age],\n",
        "        'Body Temperature(F) ': [body_temp],\n",
        "        'Heart rate(bpm)': [heart_rate],\n",
        "        'Systolic Blood Pressure(mm Hg)': [systolic_bp],\n",
        "        'Diastolic Blood Pressure(mm Hg)': [diastolic_bp],\n",
        "        'BMI(kg/m 2)': [bmi],\n",
        "        'Blood Glucose(HbA1c)': [glucose_hba1c],  # Use the correct feature name here\n",
        "        'Blood Glucose(Fasting hour-mg/dl)': [glucose_fasting]\n",
        "    })\n",
        "\n",
        "    # Make prediction:\n",
        "    prediction = tree_classifier.predict(input_data)[0]\n",
        "\n",
        "    # Return the prediction:\n",
        "    risk_levels = {0: 'Low Risk', 1: 'Mid Risk', 2: 'High Risk'}\n",
        "    return risk_levels[prediction]\n",
        "\n",
        "# Create a button:\n",
        "predict_button = widgets.Button(description=\"Predict Risk\")\n",
        "\n",
        "# Define button click event:\n",
        "def on_button_clicked(b):\n",
        "    prediction = predict_risk(age_input.value, body_temp_input.value, heart_rate_input.value,\n",
        "                             systolic_bp_input.value, diastolic_bp_input.value, bmi_input.value,\n",
        "                             glucose_hba1c_input.value, glucose_fasting_input.value)\n",
        "    print(f\"Predicted Risk: {prediction}\")\n",
        "\n",
        "predict_button.on_click(on_button_clicked)\n",
        "\n",
        "# Display the button:\n",
        "display(predict_button)"
      ],
      "metadata": {
        "colab": {
          "base_uri": "https://localhost:8080/",
          "height": 395,
          "referenced_widgets": [
            "0df8e31610fd412791c0f7044a4d7eab",
            "fd6b784d02494cd09c25d3ce7d177e7b",
            "61e1a00fb30a430ab4a64bc083f0db85",
            "0b3d1343d57f4f1595fbcbdb5c4083ce",
            "4f55dd0b71b24131a1a00bbad6edcd80",
            "960fefa4fbd9492cadffca6923a882c6",
            "5097bbda8d3f495f80d4121f6cb69fbc",
            "18934ced5212416dad2f58c30c521c61",
            "c38dde7aa7cf4469a4453106dfbc81dd",
            "3250c51dcc804529b46aba5d9249f620",
            "f34b75038bb14427bbf05fb2141b7eeb",
            "f16bcbc0073344ed9e8377fb54eff757",
            "12489caebd3b4b6ab6e8eabecdf68366",
            "6461403dda144277ada489e8ebd05b8d",
            "a1bb2d0388ff4cefbf918a83acb7b8d8",
            "1238368ccd7543098c65db9b5201946a",
            "f10a552597eb4f38b64f448cc4d3a486",
            "fc10dd681225413c9cbb2eae86c63299",
            "62b2c8471b6f477d9fa2accf5359feaf",
            "4889f750a8eb4ec9800e131267919730",
            "52658bf4e63a4a479a0562a205f7d00d",
            "94235a76942c4f3c81a61da427c83fa1",
            "c026160848b14a3182a9a197ab3da3f9",
            "56422258d5ad4d91b3209a4a144c03f3",
            "83692c80de754ddd86a0be1dd4af8541",
            "21492b0ab0e64135b786f5d1d24b535b",
            "1ea91c6cc8bf4564b9936b176aaa81e3"
          ]
        },
        "id": "d-qEL9Ekm6g_",
        "outputId": "a721aa97-c7d7-441d-b5b0-0125bbc9d88e"
      },
      "execution_count": null,
      "outputs": [
        {
          "output_type": "display_data",
          "data": {
            "text/plain": [
              "IntText(value=0, description='Age:')"
            ],
            "application/vnd.jupyter.widget-view+json": {
              "version_major": 2,
              "version_minor": 0,
              "model_id": "0df8e31610fd412791c0f7044a4d7eab"
            }
          },
          "metadata": {}
        },
        {
          "output_type": "display_data",
          "data": {
            "text/plain": [
              "FloatText(value=0.0, description='Body Temperature(F):')"
            ],
            "application/vnd.jupyter.widget-view+json": {
              "version_major": 2,
              "version_minor": 0,
              "model_id": "0b3d1343d57f4f1595fbcbdb5c4083ce"
            }
          },
          "metadata": {}
        },
        {
          "output_type": "display_data",
          "data": {
            "text/plain": [
              "IntText(value=0, description='Heart Rate (bpm):')"
            ],
            "application/vnd.jupyter.widget-view+json": {
              "version_major": 2,
              "version_minor": 0,
              "model_id": "5097bbda8d3f495f80d4121f6cb69fbc"
            }
          },
          "metadata": {}
        },
        {
          "output_type": "display_data",
          "data": {
            "text/plain": [
              "IntText(value=0, description='Systolic BP (mm Hg):')"
            ],
            "application/vnd.jupyter.widget-view+json": {
              "version_major": 2,
              "version_minor": 0,
              "model_id": "3250c51dcc804529b46aba5d9249f620"
            }
          },
          "metadata": {}
        },
        {
          "output_type": "display_data",
          "data": {
            "text/plain": [
              "IntText(value=0, description='Diastolic BP (mm Hg):')"
            ],
            "application/vnd.jupyter.widget-view+json": {
              "version_major": 2,
              "version_minor": 0,
              "model_id": "12489caebd3b4b6ab6e8eabecdf68366"
            }
          },
          "metadata": {}
        },
        {
          "output_type": "display_data",
          "data": {
            "text/plain": [
              "FloatText(value=0.0, description='BMI (kg/m^2):')"
            ],
            "application/vnd.jupyter.widget-view+json": {
              "version_major": 2,
              "version_minor": 0,
              "model_id": "1238368ccd7543098c65db9b5201946a"
            }
          },
          "metadata": {}
        },
        {
          "output_type": "display_data",
          "data": {
            "text/plain": [
              "FloatText(value=0.0, description='Blood Glucose (HbA1c):')"
            ],
            "application/vnd.jupyter.widget-view+json": {
              "version_major": 2,
              "version_minor": 0,
              "model_id": "62b2c8471b6f477d9fa2accf5359feaf"
            }
          },
          "metadata": {}
        },
        {
          "output_type": "display_data",
          "data": {
            "text/plain": [
              "FloatText(value=0.0, description='Blood Glucose(Fasting hour-mg/dl):')"
            ],
            "application/vnd.jupyter.widget-view+json": {
              "version_major": 2,
              "version_minor": 0,
              "model_id": "94235a76942c4f3c81a61da427c83fa1"
            }
          },
          "metadata": {}
        },
        {
          "output_type": "display_data",
          "data": {
            "text/plain": [
              "Button(description='Predict Risk', style=ButtonStyle())"
            ],
            "application/vnd.jupyter.widget-view+json": {
              "version_major": 2,
              "version_minor": 0,
              "model_id": "83692c80de754ddd86a0be1dd4af8541"
            }
          },
          "metadata": {}
        },
        {
          "output_type": "stream",
          "name": "stdout",
          "text": [
            "Predicted Risk: Low Risk\n",
            "Predicted Risk: High Risk\n",
            "Predicted Risk: High Risk\n",
            "Predicted Risk: High Risk\n",
            "Predicted Risk: Low Risk\n",
            "Predicted Risk: High Risk\n"
          ]
        }
      ]
    }
  ]
}